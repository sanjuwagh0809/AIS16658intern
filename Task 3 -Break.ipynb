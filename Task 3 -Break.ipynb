{
 "cells": [
  {
   "cell_type": "markdown",
   "id": "c6f30f49-0c18-4965-adea-bbbf3682fce2",
   "metadata": {},
   "source": [
    "# Break\n",
    "Break in python is a loop control the sequence of loop . suppose you want to terminate a loop and skip to the next code after the loop break will help you do that. "
   ]
  },
  {
   "cell_type": "code",
   "execution_count": 8,
   "id": "f09d48c9-25a2-4afb-8325-b1f44468133d",
   "metadata": {},
   "outputs": [
    {
     "name": "stdout",
     "output_type": "stream",
     "text": [
      "5\n"
     ]
    }
   ],
   "source": [
    "for number in range (10):\n",
    "    if number == 5:\n",
    "        break\n",
    "print(number)"
   ]
  },
  {
   "cell_type": "code",
   "execution_count": 6,
   "id": "f44dc00c-0913-44c0-ac2c-b33b84ec31fe",
   "metadata": {},
   "outputs": [
    {
     "name": "stdout",
     "output_type": "stream",
     "text": [
      "0\n",
      "1\n",
      "2\n"
     ]
    }
   ],
   "source": [
    "count = 0\n",
    "while count < 10:\n",
    "    print(count)\n",
    "    count += 1\n",
    "    if count == 3:\n",
    "        break"
   ]
  },
  {
   "cell_type": "code",
   "execution_count": 7,
   "id": "603bb405-e6bc-41ae-b18b-11dcbb71d51a",
   "metadata": {},
   "outputs": [
    {
     "name": "stdout",
     "output_type": "stream",
     "text": [
      "i = 0, j = 0\n",
      "i = 0, j = 1\n",
      "i = 0, j = 2\n",
      "i = 1, j = 0\n"
     ]
    }
   ],
   "source": [
    "for i in range(3):\n",
    "    for j in range (3):\n",
    "        if i == j == 1:\n",
    "            break\n",
    "        print(f\"i = {i}, j = {j}\")\n",
    "    if i ==1:\n",
    "        break"
   ]
  },
  {
   "cell_type": "code",
   "execution_count": null,
   "id": "4bfbfe91-d964-46fa-9ae1-1de37237457d",
   "metadata": {},
   "outputs": [],
   "source": []
  }
 ],
 "metadata": {
  "kernelspec": {
   "display_name": "Python 3 (ipykernel)",
   "language": "python",
   "name": "python3"
  },
  "language_info": {
   "codemirror_mode": {
    "name": "ipython",
    "version": 3
   },
   "file_extension": ".py",
   "mimetype": "text/x-python",
   "name": "python",
   "nbconvert_exporter": "python",
   "pygments_lexer": "ipython3",
   "version": "3.11.7"
  }
 },
 "nbformat": 4,
 "nbformat_minor": 5
}
