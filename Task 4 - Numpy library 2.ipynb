{
 "cells": [
  {
   "cell_type": "markdown",
   "id": "bf92a518-e35a-4b7c-9475-e55e9bcbde5d",
   "metadata": {},
   "source": [
    "# NumPy Data Types\n",
    "By default Python have these data types:\r",
    "> \n",
    "strings - used to represent text data, the text is given under quote marks. e.g. \"ABC> \">\r\n",
    "integer - used to represent integer numbers. e.g. -1, -2, > ->3\r\n",
    "float - used to represent real numbers. e.g. 1.2, 42> .>42\r\n",
    "boolean - used to represent True or Fa> l>se.\r\n",
    "complex - used to represent complex numbers. e.g. 1.0 + 2.0j, 1.5  2.5j\r\n"
   ]
  },
  {
   "cell_type": "code",
   "execution_count": 1,
   "id": "96cd4040-b725-46e3-9993-6143360a11f2",
   "metadata": {},
   "outputs": [
    {
     "name": "stdout",
     "output_type": "stream",
     "text": [
      "int32\n"
     ]
    }
   ],
   "source": [
    "# Checking the Data Type of an Array\n",
    "# The NumPy array object has a property called dtype that returns the data type of the array:\n",
    "import numpy as np\n",
    "arr = np.array([1, 2, 3, 4])\n",
    "print(arr.dtype)"
   ]
  },
  {
   "cell_type": "code",
   "execution_count": 3,
   "id": "33b5fd45-01a9-41e8-9ede-8efcf573949b",
   "metadata": {},
   "outputs": [
    {
     "name": "stdout",
     "output_type": "stream",
     "text": [
      "<U6\n"
     ]
    }
   ],
   "source": [
    "# Get the data type of an array containing strings:\n",
    "import numpy as np\n",
    "arr = np.array(['apple', 'banana', 'cherry'])\n",
    "print(arr.dtype)"
   ]
  },
  {
   "cell_type": "code",
   "execution_count": 5,
   "id": "3285dbca-60f2-462a-808b-0e19ddf8a4bb",
   "metadata": {},
   "outputs": [
    {
     "name": "stdout",
     "output_type": "stream",
     "text": [
      "[b'1' b'2' b'3' b'4']\n",
      "|S1\n"
     ]
    }
   ],
   "source": [
    "# Creating Arrays With a Defined Data Type\n",
    "# We use the array() function to create arrays, this function can take an optional argument:dtype that allows us to define the expected data type of the array elements\n",
    "import numpy as np\n",
    "arr = np.array([1, 2, 3, 4], dtype='S')\n",
    "print(arr)\n",
    "print(arr.dtype)"
   ]
  },
  {
   "cell_type": "code",
   "execution_count": 6,
   "id": "c0d005f0-607c-487d-8cd9-d552a0aa9838",
   "metadata": {},
   "outputs": [
    {
     "name": "stdout",
     "output_type": "stream",
     "text": [
      "[1 2 3 4]\n",
      "int32\n"
     ]
    }
   ],
   "source": [
    "# Create an array with data type 4 bytes integer:\n",
    "import numpy as np\n",
    "arr = np.array([1, 2, 3, 4], dtype='i4')\n",
    "print(arr)\n",
    "print(arr.dtype)"
   ]
  },
  {
   "cell_type": "code",
   "execution_count": 2,
   "id": "a59c28bf-93e2-444f-936c-68b330717481",
   "metadata": {},
   "outputs": [
    {
     "ename": "ValueError",
     "evalue": "invalid literal for int() with base 10: 'a'",
     "output_type": "error",
     "traceback": [
      "\u001b[1;31m---------------------------------------------------------------------------\u001b[0m",
      "\u001b[1;31mValueError\u001b[0m                                Traceback (most recent call last)",
      "Cell \u001b[1;32mIn[2], line 3\u001b[0m\n\u001b[0;32m      1\u001b[0m \u001b[38;5;66;03m# A non integer string like 'a' can not be converted to integer (will raise an error):\u001b[39;00m\n\u001b[0;32m      2\u001b[0m \u001b[38;5;28;01mimport\u001b[39;00m \u001b[38;5;21;01mnumpy\u001b[39;00m \u001b[38;5;28;01mas\u001b[39;00m \u001b[38;5;21;01mnp\u001b[39;00m\n\u001b[1;32m----> 3\u001b[0m arr \u001b[38;5;241m=\u001b[39m np\u001b[38;5;241m.\u001b[39marray ([\u001b[38;5;124m'\u001b[39m\u001b[38;5;124ma\u001b[39m\u001b[38;5;124m'\u001b[39m,\u001b[38;5;124m'\u001b[39m\u001b[38;5;124m2\u001b[39m\u001b[38;5;124m'\u001b[39m,\u001b[38;5;124m'\u001b[39m\u001b[38;5;124m3\u001b[39m\u001b[38;5;124m'\u001b[39m], dtype\u001b[38;5;241m=\u001b[39m\u001b[38;5;124m'\u001b[39m\u001b[38;5;124mi\u001b[39m\u001b[38;5;124m'\u001b[39m)\n",
      "\u001b[1;31mValueError\u001b[0m: invalid literal for int() with base 10: 'a'"
     ]
    }
   ],
   "source": [
    "# A non integer string like 'a' can not be converted to integer (will raise an error):\n",
    "import numpy as np\n",
    "arr = np.array (['a','2','3'], dtype='i')"
   ]
  },
  {
   "cell_type": "code",
   "execution_count": null,
   "id": "988cf97f-f672-4ffb-9845-a21b55493506",
   "metadata": {},
   "outputs": [],
   "source": [
    "# Change data type from float to integer by using 'i' as parameter value:\n",
    "import numpy as np\n",
    "arr = np.array([1.1, 2.1, 3.1])\n",
    "newarr = arr.astype('i')\n",
    "print(newarr)\n",
    "print(newarr.dtype)"
   ]
  },
  {
   "cell_type": "code",
   "execution_count": 13,
   "id": "d6c00bfb-11f1-4b43-9a2a-3f427117ba61",
   "metadata": {},
   "outputs": [
    {
     "name": "stdout",
     "output_type": "stream",
     "text": [
      "[ True False  True]\n",
      "bool\n"
     ]
    }
   ],
   "source": [
    "#Change data type from integer to boolean:\n",
    "import numpy as np\n",
    "arr = np.array([1, 0, 3])\n",
    "newarr = arr.astype(bool)\n",
    "print(newarr)\n",
    "print(newarr.dtype)"
   ]
  },
  {
   "cell_type": "markdown",
   "id": "e42c05f8-1243-489c-aa23-c2546afe7a4c",
   "metadata": {},
   "source": [
    "#NumPy Array Copy vs View\n",
    "#The Difference Between Copy and View\n",
    "> The main difference between a copy and a view of an array is that the copy is a new array, and the view is just a view of the original array.\n",
    "> The copy owns the data and any changes made to the copy will not affect original array, and any changes made to the original array will not affect the copy.\n",
    "> The view does not own the data and any changes made to the view will affect the original array, and any changes made to the original array will affect the view."
   ]
  },
  {
   "cell_type": "code",
   "execution_count": 14,
   "id": "3d0c71d5-d877-4f99-8244-65c14cb48d3a",
   "metadata": {},
   "outputs": [
    {
     "name": "stdout",
     "output_type": "stream",
     "text": [
      "[42  2  3  4  5]\n",
      "[1 2 3 4 5]\n"
     ]
    }
   ],
   "source": [
    "# COPY\n",
    "# Make a copy, change the original array, and display both arrays:\n",
    "import numpy as np\n",
    "arr = np.array([1, 2, 3, 4, 5])\n",
    "x = arr.copy()\n",
    "arr[0] = 42\n",
    "print(arr)\n",
    "print(x)"
   ]
  },
  {
   "cell_type": "code",
   "execution_count": 18,
   "id": "ce604726-6a3b-4eae-aa8c-892309406a3d",
   "metadata": {},
   "outputs": [
    {
     "name": "stdout",
     "output_type": "stream",
     "text": [
      "[ 1 42  3  4  5]\n",
      "[ 1 42  3  4  5]\n"
     ]
    }
   ],
   "source": [
    "# VIEW:\n",
    "# Make a view, change the original array, and display both arrays:\n",
    "import numpy as np\n",
    "arr = np.array([1, 2, 3, 4, 5])\n",
    "x = arr.view()\n",
    "arr[1] = 42\n",
    "print(arr)\n",
    "print(x)"
   ]
  },
  {
   "cell_type": "code",
   "execution_count": 17,
   "id": "d0bcb591-5ec1-4f60-924c-d254b1173bbb",
   "metadata": {},
   "outputs": [
    {
     "name": "stdout",
     "output_type": "stream",
     "text": [
      "[ 1  2 31  4  5]\n",
      "[ 1  2 31  4  5]\n"
     ]
    }
   ],
   "source": [
    "#change the view, and display both arrays:\n",
    "import numpy as np\n",
    "arr = np.array([1, 2, 3, 4, 5])\n",
    "x = arr.view()\n",
    "x[2] = 31\n",
    "print(arr)\n",
    "print(x)"
   ]
  },
  {
   "cell_type": "code",
   "execution_count": 21,
   "id": "c87fd3dc-1e57-49f5-a19c-c256c966ea83",
   "metadata": {},
   "outputs": [
    {
     "name": "stdout",
     "output_type": "stream",
     "text": [
      "None\n",
      "[1 2 3 4 5]\n"
     ]
    }
   ],
   "source": [
    "# Check if Array Owns its Data\n",
    "# Print the value of the base attribute to check if an array owns it's data or not:\n",
    "import numpy as np\n",
    "arr = np.array([1, 2, 3, 4, 5])\n",
    "x = arr.copy()\n",
    "y = arr.view()\n",
    "print(x.base)\n",
    "print(y.base)"
   ]
  },
  {
   "cell_type": "code",
   "execution_count": 23,
   "id": "3bb35782-72ba-4ec1-b102-7c05af48e9b6",
   "metadata": {},
   "outputs": [
    {
     "name": "stdout",
     "output_type": "stream",
     "text": [
      "(2, 5)\n"
     ]
    }
   ],
   "source": [
    "# NumPy Array Shape\n",
    "# Shape of an Array\n",
    "# The shape of an array is the number of elements in each dimension.\n",
    "# Print the shape of a 2-D array:\n",
    "import numpy as np\n",
    "arr = np.array([[1, 2, 3, 4,5], [5, 6, 7, 8,5]])\n",
    "print(arr.shape)"
   ]
  },
  {
   "cell_type": "code",
   "execution_count": 26,
   "id": "147eb210-f6e3-474e-8635-17799f34e875",
   "metadata": {},
   "outputs": [
    {
     "name": "stdout",
     "output_type": "stream",
     "text": [
      "[[[[[[1 2 3 4]]]]]]\n",
      "shape of array : (1, 1, 1, 1, 1, 4)\n"
     ]
    }
   ],
   "source": [
    "# Create an array with 6 dimensions using ndmin using a vector with values 1,2,3,4 and verify that last dimension has value 4:\n",
    "import numpy as np\n",
    "arr = np.array([1, 2, 3, 4], ndmin=6)\n",
    "print(arr)\n",
    "print('shape of array :', arr.shape)"
   ]
  },
  {
   "cell_type": "code",
   "execution_count": null,
   "id": "99281deb-a6b8-40c4-8d1f-e1d075496efc",
   "metadata": {},
   "outputs": [],
   "source": [
    "# NumPy Array Reshaping\n",
    "# Reshaping arrays\n",
    "Reshaping means changing the shape of an array.\n",
    "The shape of an array is the number of elements in each dimension.\n",
    "By reshaping we can add or remove dimensions or change number of elements in each dimension."
   ]
  },
  {
   "cell_type": "code",
   "execution_count": 31,
   "id": "63faf60a-44a4-4dbc-b8cd-208f68131b6b",
   "metadata": {},
   "outputs": [
    {
     "name": "stdout",
     "output_type": "stream",
     "text": [
      "[[ 1  2  3  4]\n",
      " [ 5  6  7  8]\n",
      " [ 9 10 11 12]]\n"
     ]
    }
   ],
   "source": [
    "# Reshape From 1-D to 2-D\n",
    "import numpy as np\n",
    "arr = np.array([1, 2, 3, 4, 5, 6, 7, 8, 9, 10, 11, 12])\n",
    "newarr = arr.reshape(3, 4)\n",
    "print(newarr)"
   ]
  },
  {
   "cell_type": "code",
   "execution_count": 39,
   "id": "1e375502-7697-440c-82bc-31ed27fbe24f",
   "metadata": {},
   "outputs": [
    {
     "name": "stdout",
     "output_type": "stream",
     "text": [
      "[[[ 1  2]\n",
      "  [ 3  4]\n",
      "  [ 5  6]]\n",
      "\n",
      " [[ 7  8]\n",
      "  [ 9 10]\n",
      "  [11 12]]\n",
      "\n",
      " [[13 14]\n",
      "  [15 16]\n",
      "  [17 18]]]\n"
     ]
    }
   ],
   "source": [
    "# Reshape From 1-D to 3-\n",
    "import numpy as np\n",
    "arr = np.array([1, 2, 3, 4, 5, 6,7,8,9,10,11,12,13,14,15,16,17,18])\n",
    "newarr = arr.reshape(3, 3, 2)\n",
    "print(newarr)\n"
   ]
  },
  {
   "cell_type": "code",
   "execution_count": null,
   "id": "07ee8c14-25f6-4da8-bdb1-00e7eb46f54f",
   "metadata": {},
   "outputs": [],
   "source": [
    "# We can reshape an 8 elements 1D array into 4 elements in 2 rows 2D array but we cannot reshape it into a 3 elements 3 rows 2D array as that would require 3x3 = 9 elements.\n",
    "import numpy as np\n",
    "arr = np.array([1, 2, 3, 4, 5, 6, 7, 8,9])\n",
    "newarr = arr.reshape(3,3)\n",
    "print(newarr)"
   ]
  },
  {
   "cell_type": "code",
   "execution_count": 45,
   "id": "840cf6af-b56f-4e4c-aec4-84f7513db0a1",
   "metadata": {},
   "outputs": [
    {
     "name": "stdout",
     "output_type": "stream",
     "text": [
      "[1 2 3 4 5 6 7 8]\n"
     ]
    }
   ],
   "source": [
    "# Returns Copy or View\n",
    "#Check if the returned array is a copy or a view:\n",
    "import numpy as np\n",
    "arr = np.array([1, 2, 3, 4, 5, 6, 7, 8])\n",
    "print(arr.reshape(2, 4).base)"
   ]
  },
  {
   "cell_type": "code",
   "execution_count": 61,
   "id": "e4d42041-49cf-41d6-b0b2-3a69a2e566fa",
   "metadata": {},
   "outputs": [
    {
     "name": "stdout",
     "output_type": "stream",
     "text": [
      "[[[1 2]\n",
      "  [3 4]]\n",
      "\n",
      " [[5 6]\n",
      "  [7 8]]]\n"
     ]
    }
   ],
   "source": [
    "# Unknown Dimension\n",
    "# Convert 1D array with 8 elements to 3D array with 2x2 elements:\n",
    "import numpy as np\n",
    "arr = np.array([1, 2, 3, 4, 5, 6, 7, 8])\n",
    "newarr = arr.reshape(2, 2, -1)\n",
    "print(newarr)"
   ]
  },
  {
   "cell_type": "code",
   "execution_count": 65,
   "id": "061f207c-dbfc-4319-b969-f5402f2bbd75",
   "metadata": {},
   "outputs": [
    {
     "name": "stdout",
     "output_type": "stream",
     "text": [
      "[1 2 3 4 5 6]\n"
     ]
    }
   ],
   "source": [
    "# Flattening the arrays\n",
    "# Convert the array into a 1D array:\n",
    "import numpy as np\n",
    "arr = np.array([[1, 2, 3], [4, 5, 6]])\n",
    "newarr = arr.reshape(-1)\n",
    "print(newarr)"
   ]
  },
  {
   "cell_type": "code",
   "execution_count": null,
   "id": "a955ab4f-898b-4630-a120-53abfe95b9ee",
   "metadata": {},
   "outputs": [],
   "source": [
    "# NumPy Array Iterating\n",
    "# Iterating Arrays\n",
    "#Iterating means going through elements one by one.\n",
    "#As we deal with multi-dimensional arrays in numpy, we can do this using basic for loop of python.\n",
    "#If we iterate on a 1-D array it will go through each element one by one."
   ]
  },
  {
   "cell_type": "code",
   "execution_count": 2,
   "id": "295f4b07-d9d4-45a9-a11d-ebfadf9a03db",
   "metadata": {},
   "outputs": [
    {
     "name": "stdout",
     "output_type": "stream",
     "text": [
      "1\n",
      "2\n",
      "3\n"
     ]
    }
   ],
   "source": [
    "# Iterate on the elements of the following 1-D array:\n",
    "import numpy as np\n",
    "arr = np.array([1, 2, 3])\n",
    "for x in arr:\n",
    "  print(x)"
   ]
  },
  {
   "cell_type": "code",
   "execution_count": 3,
   "id": "f6d1a8e1-ce90-4da1-ba79-d8ba1bbe8558",
   "metadata": {},
   "outputs": [
    {
     "name": "stdout",
     "output_type": "stream",
     "text": [
      "[1 2 3]\n",
      "[4 5 6]\n"
     ]
    }
   ],
   "source": [
    "# Iterating 2-D Arrays:\n",
    "# Iterate on the elements of the following 2-D array:\n",
    "import numpy as np\n",
    "arr = np.array([[1, 2, 3], [4, 5, 6]])\n",
    "for x in arr:\n",
    "  print(x)"
   ]
  },
  {
   "cell_type": "code",
   "execution_count": 4,
   "id": "8a8b3a5f-6797-480d-8596-71bd686eaf9f",
   "metadata": {},
   "outputs": [
    {
     "name": "stdout",
     "output_type": "stream",
     "text": [
      "1\n",
      "2\n",
      "3\n",
      "4\n",
      "5\n",
      "6\n"
     ]
    }
   ],
   "source": [
    "# Iterate on each scalar element of the 2-D array:\n",
    "import numpy as np\n",
    "arr = np.array([[1, 2, 3], [4, 5, 6]])\n",
    "for x in arr:\n",
    "  for y in x:\n",
    "    print(y)"
   ]
  },
  {
   "cell_type": "code",
   "execution_count": 5,
   "id": "f575306a-02c3-48bf-be9c-374cde67c49f",
   "metadata": {},
   "outputs": [
    {
     "name": "stdout",
     "output_type": "stream",
     "text": [
      "[[1 2 3]\n",
      " [4 5 6]]\n",
      "[[ 7  8  9]\n",
      " [10 11 12]]\n"
     ]
    }
   ],
   "source": [
    "# Iterating 3-D Arrays\n",
    "# Iterate on the elements of the following 3-D array:\n",
    "import numpy as np\n",
    "arr = np.array([[[1, 2, 3], [4, 5, 6]], [[7, 8, 9], [10, 11, 12]]])\n",
    "for x in arr:\n",
    "  print(x)"
   ]
  },
  {
   "cell_type": "code",
   "execution_count": 13,
   "id": "b180fa4e-ce58-4f6c-ab39-a81baeab9932",
   "metadata": {},
   "outputs": [
    {
     "name": "stdout",
     "output_type": "stream",
     "text": [
      "1\n",
      "2\n",
      "3\n",
      "4\n",
      "5\n",
      "6\n",
      "7\n",
      "8\n",
      "9\n",
      "10\n",
      "11\n",
      "12\n"
     ]
    }
   ],
   "source": [
    "import numpy as np\n",
    "arr = np.array([[[1, 2, 3], [4, 5, 6]], [[7, 8, 9], [10, 11, 12]]])\n",
    "for x in arr:\n",
    "    for y in x:\n",
    "          for z in y:\n",
    "              print(z)\n",
    "    \n",
    "    \n",
    "    "
   ]
  },
  {
   "cell_type": "code",
   "execution_count": 15,
   "id": "33efe88a-9656-4c2f-8f10-f827e1cf8c22",
   "metadata": {},
   "outputs": [
    {
     "name": "stdout",
     "output_type": "stream",
     "text": [
      "1\n",
      "2\n",
      "3\n",
      "4\n",
      "5\n",
      "6\n",
      "7\n",
      "8\n"
     ]
    }
   ],
   "source": [
    "# Iterating Arrays Using nditer()\n",
    "# Iterate through the following 3-D array:\n",
    "import numpy as np\n",
    "arr = np.array([[[1, 2], [3, 4]], [[5, 6], [7, 8]]])\n",
    "for x in np.nditer(arr):\n",
    "  print(x)"
   ]
  },
  {
   "cell_type": "code",
   "execution_count": 16,
   "id": "7718da6c-e35b-4879-b68f-fcc3691c24f4",
   "metadata": {},
   "outputs": [
    {
     "name": "stdout",
     "output_type": "stream",
     "text": [
      "b'1'\n",
      "b'2'\n",
      "b'3'\n"
     ]
    }
   ],
   "source": [
    "# Iterate through the array as a string:\n",
    "import numpy as np\n",
    "arr = np.array([1, 2, 3])\n",
    "for x in np.nditer(arr, flags=['buffered'], op_dtypes=['S']):\n",
    "  print(x)"
   ]
  },
  {
   "cell_type": "code",
   "execution_count": 19,
   "id": "9a2dda66-4104-49a6-ad21-dce2914e3d6f",
   "metadata": {},
   "outputs": [
    {
     "name": "stdout",
     "output_type": "stream",
     "text": [
      "1\n",
      "3\n",
      "5\n",
      "7\n"
     ]
    }
   ],
   "source": [
    "#Iterating With Different Step Size\n",
    "#Iterate through every scalar element of the 2D array skipping 1 element:\n",
    "import numpy as np\n",
    "arr = np.array([[1, 2, 3, 4], [5, 6, 7, 8]])\n",
    "for x in np.nditer(arr[:, ::2]):\n",
    "  print(x)"
   ]
  },
  {
   "cell_type": "code",
   "execution_count": 20,
   "id": "5ee44ad0-e26f-4b12-8da1-fcd5a571fdc0",
   "metadata": {},
   "outputs": [
    {
     "name": "stdout",
     "output_type": "stream",
     "text": [
      "(0,) 1\n",
      "(1,) 2\n",
      "(2,) 3\n"
     ]
    }
   ],
   "source": [
    "# Enumerated Iteration Using ndenumerate()\n",
    "# Enumerate on following 1D arrays elements:\n",
    "import numpy as np\n",
    "arr = np.array([1, 2, 3])\n",
    "for idx, x in np.ndenumerate(arr):\n",
    "  print(idx, x)"
   ]
  },
  {
   "cell_type": "code",
   "execution_count": 21,
   "id": "9fe2923c-d650-4ebe-b738-0cf36c7404de",
   "metadata": {},
   "outputs": [
    {
     "name": "stdout",
     "output_type": "stream",
     "text": [
      "(0, 0) 1\n",
      "(0, 1) 2\n",
      "(0, 2) 3\n",
      "(0, 3) 4\n",
      "(1, 0) 5\n",
      "(1, 1) 6\n",
      "(1, 2) 7\n",
      "(1, 3) 8\n"
     ]
    }
   ],
   "source": [
    "# Enumerate on following 2D array's elements:\n",
    "import numpy as np\n",
    "arr = np.array([[1, 2, 3, 4], [5, 6, 7, 8]])\n",
    "for idx, x in np.ndenumerate(arr):\n",
    "  print(idx, x)"
   ]
  },
  {
   "cell_type": "code",
   "execution_count": 22,
   "id": "634a86df-8073-4b78-9f0e-52e755ff4282",
   "metadata": {},
   "outputs": [
    {
     "name": "stdout",
     "output_type": "stream",
     "text": [
      "[1 2 3 4 5 6]\n"
     ]
    }
   ],
   "source": [
    "# NumPy Joining Array\n",
    "# Join two arrays\n",
    "import numpy as np\n",
    "arr1 = np.array([1, 2, 3])\n",
    "arr2 = np.array([4, 5, 6])\n",
    "arr = np.concatenate((arr1, arr2))\n",
    "print(arr)"
   ]
  },
  {
   "cell_type": "code",
   "execution_count": 23,
   "id": "ef1d8fbc-1779-4d31-a9a3-cd41c40eae5a",
   "metadata": {},
   "outputs": [
    {
     "name": "stdout",
     "output_type": "stream",
     "text": [
      "[[1 2 5 6]\n",
      " [3 4 7 8]]\n"
     ]
    }
   ],
   "source": [
    "# Join two 2-D arrays along rows (axis=1):\n",
    "import numpy as np\n",
    "arr1 = np.array([[1, 2], [3, 4]])\n",
    "arr2 = np.array([[5, 6], [7, 8]])\n",
    "arr = np.concatenate((arr1, arr2), axis=1)\n",
    "print(arr)"
   ]
  },
  {
   "cell_type": "code",
   "execution_count": 24,
   "id": "70a7d4ac-7a23-4ab9-9986-ad55377ec236",
   "metadata": {},
   "outputs": [
    {
     "name": "stdout",
     "output_type": "stream",
     "text": [
      "[[1 4]\n",
      " [2 5]\n",
      " [3 6]]\n"
     ]
    }
   ],
   "source": [
    "# Joining Arrays Using Stack Functions\n",
    "import numpy as np\n",
    "arr1 = np.array([1, 2, 3])\n",
    "arr2 = np.array([4, 5, 6])\n",
    "arr = np.stack((arr1, arr2), axis=1)\n",
    "print(arr)"
   ]
  },
  {
   "cell_type": "code",
   "execution_count": 25,
   "id": "8ebeb848-960f-437b-85f8-c273db15fd39",
   "metadata": {},
   "outputs": [
    {
     "name": "stdout",
     "output_type": "stream",
     "text": [
      "[1 2 3 4 5 6]\n"
     ]
    }
   ],
   "source": [
    "#Stacking Along Rows\n",
    "# NumPy provides a helper function: hstack() to stack along rows.\n",
    "import numpy as np\n",
    "arr1 = np.array([1, 2, 3])\n",
    "arr2 = np.array([4, 5, 6])\n",
    "arr = np.hstack((arr1, arr2))\n",
    "print(arr)"
   ]
  },
  {
   "cell_type": "code",
   "execution_count": 26,
   "id": "725e0c54-22f6-464d-8d38-05033d0c4e88",
   "metadata": {},
   "outputs": [
    {
     "name": "stdout",
     "output_type": "stream",
     "text": [
      "[[1 2 3]\n",
      " [4 5 6]]\n"
     ]
    }
   ],
   "source": [
    "# Stacking Along Columns\n",
    "import numpy as np\n",
    "arr1 = np.array([1, 2, 3])\n",
    "arr2 = np.array([4, 5, 6])\n",
    "arr = np.vstack((arr1, arr2))\n",
    "print(arr)"
   ]
  },
  {
   "cell_type": "code",
   "execution_count": 27,
   "id": "9100dd1c-14af-42d6-9dca-8e999f17b919",
   "metadata": {},
   "outputs": [
    {
     "name": "stdout",
     "output_type": "stream",
     "text": [
      "[[[1 4]\n",
      "  [2 5]\n",
      "  [3 6]]]\n"
     ]
    }
   ],
   "source": [
    "# Stacking Along Height (depth)\n",
    "# NumPy provides a helper function: dstack() to stack along height, which is the same as depth.\n",
    "import numpy as np\n",
    "arr1 = np.array([1, 2, 3])\n",
    "arr2 = np.array([4, 5, 6])\n",
    "arr = np.dstack((arr1, arr2))\n",
    "print(arr)"
   ]
  },
  {
   "cell_type": "code",
   "execution_count": 28,
   "id": "b3944712-8dfe-4e1d-b4a5-2f33c24d2ac4",
   "metadata": {},
   "outputs": [
    {
     "name": "stdout",
     "output_type": "stream",
     "text": [
      "[array([1, 2]), array([3, 4]), array([5, 6])]\n"
     ]
    }
   ],
   "source": [
    "# NumPy Splitting Array\n",
    "# Splitting is reverse operation of Joining.\n",
    "# Joining merges multiple arrays into one and Splitting breaks one array into multiple.\n",
    "# We use array_split() for splitting arrays, we pass it the array we want to split and the number of splits.\n",
    "# Split the array in 3 parts:\n",
    "import numpy as np\n",
    "arr = np.array([1, 2, 3, 4, 5, 6])\n",
    "newarr = np.array_split(arr, 3)\n",
    "print(newarr)"
   ]
  },
  {
   "cell_type": "code",
   "execution_count": 29,
   "id": "ff85cabb-98cf-4f7e-9288-fe58021143b9",
   "metadata": {},
   "outputs": [
    {
     "name": "stdout",
     "output_type": "stream",
     "text": [
      "[array([1, 2]), array([3, 4]), array([5]), array([6])]\n"
     ]
    }
   ],
   "source": [
    "# Split the array in 4 parts:\n",
    "import numpy as np\n",
    "arr = np.array([1, 2, 3, 4, 5, 6])\n",
    "newarr = np.array_split(arr, 4)\n",
    "print(newarr)"
   ]
  },
  {
   "cell_type": "code",
   "execution_count": 30,
   "id": "2f8e9e4c-d834-4796-9fca-b7cd4e1d4ba2",
   "metadata": {},
   "outputs": [
    {
     "name": "stdout",
     "output_type": "stream",
     "text": [
      "[1 2]\n",
      "[3 4]\n",
      "[5 6]\n"
     ]
    }
   ],
   "source": [
    "#Split Into Arrays\n",
    "#The return value of the array_split() method is an array containing each of the split as an array.\n",
    "#Access the splitted arrays:\n",
    "import numpy as np\n",
    "arr = np.array([1, 2, 3, 4, 5, 6])\n",
    "newarr = np.array_split(arr, 3)\n",
    "print(newarr[0])\n",
    "print(newarr[1])\n",
    "print(newarr[2])"
   ]
  },
  {
   "cell_type": "code",
   "execution_count": 31,
   "id": "60c50281-762f-497d-acdc-de1d08d8a0a2",
   "metadata": {},
   "outputs": [
    {
     "name": "stdout",
     "output_type": "stream",
     "text": [
      "[array([[1, 2],\n",
      "       [3, 4]]), array([[5, 6],\n",
      "       [7, 8]]), array([[ 9, 10],\n",
      "       [11, 12]])]\n"
     ]
    }
   ],
   "source": [
    "#Splitting 2-D Arrays\n",
    "#Use the same syntax when splitting 2-D arrays.\n",
    "#Use the array_split()\n",
    "#Split the 2-D array into three 2-D arrays.\n",
    "import numpy as np\n",
    "arr = np.array([[1, 2], [3, 4], [5, 6], [7, 8], [9, 10], [11, 12]])\n",
    "newarr = np.array_split(arr, 3)\n",
    "print(newarr)"
   ]
  },
  {
   "cell_type": "code",
   "execution_count": 32,
   "id": "d6548bfb-0fd3-4cf2-8020-b3706ae0fcae",
   "metadata": {},
   "outputs": [
    {
     "name": "stdout",
     "output_type": "stream",
     "text": [
      "[array([[1, 2, 3],\n",
      "       [4, 5, 6]]), array([[ 7,  8,  9],\n",
      "       [10, 11, 12]]), array([[13, 14, 15],\n",
      "       [16, 17, 18]])]\n"
     ]
    }
   ],
   "source": [
    "#Split the 2-D array into three 2-D arrays.\n",
    "import numpy as np\n",
    "arr = np.array([[1, 2, 3], [4, 5, 6], [7, 8, 9], [10, 11, 12], [13, 14, 15], [16, 17, 18]])\n",
    "newarr = np.array_split(arr, 3)\n",
    "print(newarr)"
   ]
  },
  {
   "cell_type": "code",
   "execution_count": 33,
   "id": "dc944156-6985-480b-a8e6-cf9d7f70952b",
   "metadata": {},
   "outputs": [
    {
     "name": "stdout",
     "output_type": "stream",
     "text": [
      "[array([[ 1],\n",
      "       [ 4],\n",
      "       [ 7],\n",
      "       [10],\n",
      "       [13],\n",
      "       [16]]), array([[ 2],\n",
      "       [ 5],\n",
      "       [ 8],\n",
      "       [11],\n",
      "       [14],\n",
      "       [17]]), array([[ 3],\n",
      "       [ 6],\n",
      "       [ 9],\n",
      "       [12],\n",
      "       [15],\n",
      "       [18]])]\n"
     ]
    }
   ],
   "source": [
    "#Split the 2-D array into three 2-D arrays along rows.\n",
    "import numpy as np\n",
    "arr = np.array([[1, 2, 3], [4, 5, 6], [7, 8, 9], [10, 11, 12], [13, 14, 15], [16, 17, 18]])\n",
    "newarr = np.array_split(arr, 3, axis=1)\n",
    "print(newarr)"
   ]
  },
  {
   "cell_type": "code",
   "execution_count": 34,
   "id": "44bb8aac-7ec1-44c4-a052-7104b14c987e",
   "metadata": {},
   "outputs": [
    {
     "name": "stdout",
     "output_type": "stream",
     "text": [
      "[array([[ 1],\n",
      "       [ 4],\n",
      "       [ 7],\n",
      "       [10],\n",
      "       [13],\n",
      "       [16]]), array([[ 2],\n",
      "       [ 5],\n",
      "       [ 8],\n",
      "       [11],\n",
      "       [14],\n",
      "       [17]]), array([[ 3],\n",
      "       [ 6],\n",
      "       [ 9],\n",
      "       [12],\n",
      "       [15],\n",
      "       [18]])]\n"
     ]
    }
   ],
   "source": [
    "#Use the hsplit() method to split the 2-D array into three 2-D arrays along rows.\n",
    "import numpy as np\n",
    "arr = np.array([[1, 2, 3], [4, 5, 6], [7, 8, 9], [10, 11, 12], [13, 14, 15], [16, 17, 18]])\n",
    "newarr = np.hsplit(arr, 3)\n",
    "print(newarr)"
   ]
  },
  {
   "cell_type": "code",
   "execution_count": 35,
   "id": "9b92cd43-4492-4761-9d7f-f812bfdfd3d4",
   "metadata": {},
   "outputs": [
    {
     "name": "stdout",
     "output_type": "stream",
     "text": [
      "(array([3, 5, 6], dtype=int64),)\n"
     ]
    }
   ],
   "source": [
    "#NumPy Searching Arrays\n",
    "#To search an array, use the where() method.\n",
    "#Find the indexes where the value is 4:\n",
    "import numpy as np\n",
    "arr = np.array([1, 2, 3, 4, 5, 4, 4])\n",
    "x = np.where(arr == 4)\n",
    "print(x)"
   ]
  },
  {
   "cell_type": "code",
   "execution_count": 36,
   "id": "c9fd1bda-c82c-4e73-a1da-823e2c87971d",
   "metadata": {},
   "outputs": [
    {
     "name": "stdout",
     "output_type": "stream",
     "text": [
      "(array([1, 3, 5, 7], dtype=int64),)\n"
     ]
    }
   ],
   "source": [
    "#Find the indexes where the values are even:\n",
    "import numpy as np\n",
    "arr = np.array([1, 2, 3, 4, 5, 6, 7, 8])\n",
    "x = np.where(arr%2 == 0)\n",
    "print(x)"
   ]
  },
  {
   "cell_type": "code",
   "execution_count": 37,
   "id": "c52f33bf-3fe8-4e0d-9b1a-8ac49a51b343",
   "metadata": {},
   "outputs": [
    {
     "name": "stdout",
     "output_type": "stream",
     "text": [
      "(array([0, 2, 4, 6], dtype=int64),)\n"
     ]
    }
   ],
   "source": [
    "#Find the indexes where the values are odd:\n",
    "import numpy as np\n",
    "arr = np.array([1, 2, 3, 4, 5, 6, 7, 8])\n",
    "x = np.where(arr%2 == 1)\n",
    "print(x)"
   ]
  },
  {
   "cell_type": "code",
   "execution_count": 38,
   "id": "d8e60ffb-1f85-43cb-a59d-62e82add04bf",
   "metadata": {},
   "outputs": [
    {
     "name": "stdout",
     "output_type": "stream",
     "text": [
      "1\n"
     ]
    }
   ],
   "source": [
    "#Search Sorted\n",
    "#The searchsorted() method is assumed to be used on sorted arrays.\n",
    "#Find the indexes where the value 7 should be inserted:\n",
    "import numpy as np\n",
    "arr = np.array([6, 7, 8, 9])\n",
    "x = np.searchsorted(arr, 7)\n",
    "print(x)"
   ]
  },
  {
   "cell_type": "code",
   "execution_count": 39,
   "id": "ffb1c25e-ff9c-40e2-94bd-c63a275677b2",
   "metadata": {},
   "outputs": [
    {
     "name": "stdout",
     "output_type": "stream",
     "text": [
      "2\n"
     ]
    }
   ],
   "source": [
    "#Search From the Right Side\n",
    "#By default the left most index is returned, but we can give side='right' to return the right most index instead.\n",
    "#Find the indexes where the value 7 should be inserted, starting from the right:\n",
    "import numpy as np\n",
    "arr = np.array([6, 7, 8, 9])\n",
    "x = np.searchsorted(arr, 7, side='right')\n",
    "print(x)"
   ]
  },
  {
   "cell_type": "code",
   "execution_count": 40,
   "id": "5b1f23ce-4469-4997-a0ca-aa79bd7539b1",
   "metadata": {},
   "outputs": [
    {
     "name": "stdout",
     "output_type": "stream",
     "text": [
      "[1 2 3]\n"
     ]
    }
   ],
   "source": [
    "#Multiple Values\n",
    "#Find the indexes where the values 2, 4, and 6 should be inserted:\n",
    "import numpy as np\n",
    "arr = np.array([1, 3, 5, 7])\n",
    "x = np.searchsorted(arr, [2, 4, 6])\n",
    "print(x)"
   ]
  },
  {
   "cell_type": "markdown",
   "id": "48d0e5ca-ee91-48ee-9684-4e5fe3b8bea1",
   "metadata": {},
   "source": [
    "#NumPy Sorting Arrays\n",
    "Sorting means putting elements in an ordered sequence.\n",
    "Ordered sequence is any sequence that has an order corresponding to elements, like numeric or alphabetical, ascending or descending.\n",
    "The NumPy ndarray object has a function called sort(), that will sort a specified array."
   ]
  },
  {
   "cell_type": "code",
   "execution_count": 41,
   "id": "6b691866-d474-465a-b475-72f44c607193",
   "metadata": {},
   "outputs": [
    {
     "name": "stdout",
     "output_type": "stream",
     "text": [
      "[0 1 2 3]\n"
     ]
    }
   ],
   "source": [
    "#Sort the array:\n",
    "import numpy as np\n",
    "arr = np.array([3, 2, 0, 1])\n",
    "print(np.sort(arr))"
   ]
  },
  {
   "cell_type": "code",
   "execution_count": 42,
   "id": "e436936f-4000-44dd-aeed-2a0fc845de58",
   "metadata": {},
   "outputs": [
    {
     "name": "stdout",
     "output_type": "stream",
     "text": [
      "['apple' 'banana' 'cherry']\n"
     ]
    }
   ],
   "source": [
    "#Sort the array alphabetically:\n",
    "import numpy as np\n",
    "arr = np.array(['banana', 'cherry', 'apple'])\n",
    "print(np.sort(arr))"
   ]
  },
  {
   "cell_type": "code",
   "execution_count": 43,
   "id": "2b8a8d67-e744-43eb-9005-61a997cba01e",
   "metadata": {},
   "outputs": [
    {
     "name": "stdout",
     "output_type": "stream",
     "text": [
      "[False  True  True]\n"
     ]
    }
   ],
   "source": [
    "#Sort a boolean array:\n",
    "import numpy as np\n",
    "arr = np.array([True, False, True])\n",
    "print(np.sort(arr))"
   ]
  },
  {
   "cell_type": "code",
   "execution_count": 44,
   "id": "a2e99ade-34ba-4cfc-80e4-3a78f9889881",
   "metadata": {},
   "outputs": [
    {
     "name": "stdout",
     "output_type": "stream",
     "text": [
      "[[2 3 4]\n",
      " [0 1 5]]\n"
     ]
    }
   ],
   "source": [
    "#Sorting a 2-D Array\n",
    "#If you use the sort() method on a 2-D array, both arrays will be sorted:\n",
    "#Sort a 2-D array:\n",
    "import numpy as np\n",
    "arr = np.array([[3, 2, 4], [5, 0, 1]])\n",
    "print(np.sort(arr))"
   ]
  },
  {
   "cell_type": "code",
   "execution_count": null,
   "id": "ee94360b-ae6f-4a5c-8b4d-b445c3087b7d",
   "metadata": {},
   "outputs": [],
   "source": [
    "# NumPy Filter Array\n",
    ">Getting some elements out of an existing array and creating a new array out of them is called filtering.\n",
    ">In NumPy, you filter an array using a boolean index list.\n",
    ">A boolean index list is a list of booleans corresponding to indexes in the array.\n",
    ">If the value at an index is True that element is contained in the filtered array, if the value at that index is False that element is excluded from the filtered array."
   ]
  },
  {
   "cell_type": "code",
   "execution_count": 45,
   "id": "1c3101f5-a14a-4429-9a15-4c056cdf46e9",
   "metadata": {},
   "outputs": [
    {
     "name": "stdout",
     "output_type": "stream",
     "text": [
      "[41 43]\n"
     ]
    }
   ],
   "source": [
    "#Create an array from the elements on index 0 and 2:\n",
    "import numpy as np\n",
    "arr = np.array([41, 42, 43, 44])\n",
    "x = [True, False, True, False]\n",
    "newarr = arr[x]\n",
    "print(newarr)"
   ]
  },
  {
   "cell_type": "code",
   "execution_count": 47,
   "id": "9e438377-43d3-4223-844d-40806d7ef7c6",
   "metadata": {},
   "outputs": [
    {
     "name": "stdout",
     "output_type": "stream",
     "text": [
      "[False, False, True, True]\n",
      "[43 44]\n"
     ]
    }
   ],
   "source": [
    "#Creating the Filter Array\n",
    "#Create a filter array that will return only values higher than 42:\n",
    "import numpy as np\n",
    "arr = np.array([41, 42, 43, 44])\n",
    "# Create an empty list\n",
    "filter_arr = []\n",
    "# go through each element in arr\n",
    "for element in arr:\n",
    "  # if the element is higher than 42, set the value to True, otherwise False:\n",
    "  if element > 42:\n",
    "    filter_arr.append(True)\n",
    "  else:\n",
    "    filter_arr.append(False)\n",
    "newarr = arr[filter_arr]\n",
    "print(filter_arr)\n",
    "print(newarr)"
   ]
  },
  {
   "cell_type": "code",
   "execution_count": 48,
   "id": "4dd5aa45-790f-454d-a98f-81f031a298c4",
   "metadata": {},
   "outputs": [
    {
     "name": "stdout",
     "output_type": "stream",
     "text": [
      "[False, True, False, True, False, True, False]\n",
      "[2 4 6]\n"
     ]
    }
   ],
   "source": [
    "#Create a filter array that will return only even elements from the original array:\n",
    "import numpy as np\n",
    "arr = np.array([1, 2, 3, 4, 5, 6, 7])\n",
    "# Create an empty list\n",
    "filter_arr = []\n",
    "# go through each element in arr\n",
    "for element in arr:\n",
    "  # if the element is completely divisble by 2, set the value to True, otherwise False\n",
    "  if element % 2 == 0:\n",
    "    filter_arr.append(True)\n",
    "  else:\n",
    "    filter_arr.append(False)\n",
    "newarr = arr[filter_arr]\n",
    "print(filter_arr)\n",
    "print(newarr)"
   ]
  },
  {
   "cell_type": "code",
   "execution_count": 49,
   "id": "9486a1f0-3aba-4940-bbf2-ba0b92cf8df8",
   "metadata": {},
   "outputs": [
    {
     "name": "stdout",
     "output_type": "stream",
     "text": [
      "[False False  True  True]\n",
      "[43 44]\n"
     ]
    }
   ],
   "source": [
    "#Creating Filter Directly From Array\n",
    "#Create a filter array that will return only values higher than 42:\n",
    "import numpy as np\n",
    "arr = np.array([41, 42, 43, 44])\n",
    "filter_arr = arr > 42\n",
    "newarr = arr[filter_arr]\n",
    "print(filter_arr)\n",
    "print(newarr)"
   ]
  },
  {
   "cell_type": "code",
   "execution_count": null,
   "id": "4e5f08ff-54ce-441b-a528-a113de1f455f",
   "metadata": {},
   "outputs": [],
   "source": []
  },
  {
   "cell_type": "code",
   "execution_count": 50,
   "id": "8edfc433-d1b0-422d-8a78-2fb68b0c7ecf",
   "metadata": {},
   "outputs": [
    {
     "name": "stdout",
     "output_type": "stream",
     "text": [
      "[False  True False  True False  True False]\n",
      "[2 4 6]\n"
     ]
    }
   ],
   "source": [
    "#Create a filter array that will return only even elements from the original array:\n",
    "import numpy as np\n",
    "arr = np.array([1, 2, 3, 4, 5, 6, 7])\n",
    "filter_arr = arr % 2 == 0\n",
    "newarr = arr[filter_arr]\n",
    "print(filter_arr)\n",
    "print(newarr)"
   ]
  },
  {
   "cell_type": "markdown",
   "id": "14436362-ef86-4a20-b859-3792aec94cf6",
   "metadata": {},
   "source": [
    "#Random Numbers in NumPy\n",
    "What is a Random Number?\n",
    "Random number does NOT mean a different number every time. Random means something that can not be predicted logically."
   ]
  },
  {
   "cell_type": "code",
   "execution_count": 52,
   "id": "2b4ef426-de61-4813-8d9e-96c97a5b1a92",
   "metadata": {},
   "outputs": [
    {
     "name": "stdout",
     "output_type": "stream",
     "text": [
      "74\n"
     ]
    }
   ],
   "source": [
    "#Generate Random Number\n",
    "#NumPy offers the random module to work with random numbers.\n",
    "#Generate a random integer from 0 to 100:\n",
    "from numpy import random\n",
    "x = random.randint(100)\n",
    "print(x)"
   ]
  },
  {
   "cell_type": "code",
   "execution_count": 53,
   "id": "9c44bc60-357d-4654-a9f2-0fe53623f63f",
   "metadata": {},
   "outputs": [
    {
     "name": "stdout",
     "output_type": "stream",
     "text": [
      "0.22800345628589624\n"
     ]
    }
   ],
   "source": [
    "#Generate Random Float\n",
    "#The random module's rand() method returns a random float between 0 and 1.\n",
    "#Generate a random float from 0 to 1:\n",
    "from numpy import random\n",
    "x = random.rand()\n",
    "print(x)"
   ]
  },
  {
   "cell_type": "code",
   "execution_count": 54,
   "id": "412e883c-089c-4f9e-bca0-443173f479a9",
   "metadata": {},
   "outputs": [
    {
     "name": "stdout",
     "output_type": "stream",
     "text": [
      "[93 21 61 91 70]\n"
     ]
    }
   ],
   "source": [
    "# Generate Random Array\n",
    "# Integers\n",
    "#The randint() method takes a size parameter where you can specify the shape of an array.\n",
    "#Generate a 1-D array containing 5 random integers from 0 to 100:\n",
    "from numpy import random\n",
    "x=random.randint(100, size=(5))\n",
    "print(x)"
   ]
  },
  {
   "cell_type": "code",
   "execution_count": 55,
   "id": "4fbd37a8-ef28-4808-8a8d-6719a6448d85",
   "metadata": {},
   "outputs": [
    {
     "name": "stdout",
     "output_type": "stream",
     "text": [
      "[[11 59 83 24 29]\n",
      " [96  5  3 82 87]\n",
      " [33  1 77 63 24]]\n"
     ]
    }
   ],
   "source": [
    "# Generate a 2-D array with 3 rows, each row containing 5 random integers from 0 to 100:\n",
    "from numpy import random\n",
    "x = random.randint(100, size=(3, 5))\n",
    "print(x)"
   ]
  },
  {
   "cell_type": "code",
   "execution_count": 56,
   "id": "f410e6bc-1756-4d13-9f70-31d1fdad1ee4",
   "metadata": {},
   "outputs": [
    {
     "name": "stdout",
     "output_type": "stream",
     "text": [
      "[0.20574502 0.58909014 0.1242986  0.97930038 0.64653503]\n"
     ]
    }
   ],
   "source": [
    "#Floats\n",
    "#The rand() method also allows you to specify the shape of the array.\n",
    "#Generate a 1-D array containing 5 random floats:\n",
    "from numpy import random\n",
    "x = random.rand(5)\n",
    "print(x)"
   ]
  },
  {
   "cell_type": "code",
   "execution_count": 57,
   "id": "5df6dfaa-c89c-4381-8fbc-ec5e42938311",
   "metadata": {},
   "outputs": [
    {
     "name": "stdout",
     "output_type": "stream",
     "text": [
      "[[0.79937582 0.72518979 0.91073782 0.0872034  0.79835533]\n",
      " [0.94161635 0.69912128 0.19053958 0.76446395 0.28137787]\n",
      " [0.16954465 0.0809943  0.44336876 0.02335933 0.3933979 ]]\n"
     ]
    }
   ],
   "source": [
    "#Generate a 2-D array with 3 rows, each row containing 5 random numbers:\n",
    "from numpy import random\n",
    "x = random.rand(3, 5)\n",
    "print(x)"
   ]
  },
  {
   "cell_type": "code",
   "execution_count": 58,
   "id": "4902feda-7954-4622-a123-299d7e0d594d",
   "metadata": {},
   "outputs": [
    {
     "name": "stdout",
     "output_type": "stream",
     "text": [
      "3\n"
     ]
    }
   ],
   "source": [
    "#Generate Random Number From Array\n",
    "#The choice() method allows you to generate a random value based on an array of values.\n",
    "#The choice() method takes an array as a parameter and randomly returns one of the values.\n",
    "#Return one of the values in an array:\n",
    "from numpy import random\n",
    "x = random.choice([3, 5, 7, 9])\n",
    "print(x)"
   ]
  },
  {
   "cell_type": "code",
   "execution_count": 59,
   "id": "f38f3742-5ada-47ba-8f53-0e0dcafedf3d",
   "metadata": {},
   "outputs": [
    {
     "name": "stdout",
     "output_type": "stream",
     "text": [
      "[[9 9 7 9 5]\n",
      " [3 7 7 7 7]\n",
      " [5 3 3 9 5]]\n"
     ]
    }
   ],
   "source": [
    "#The choice() method also allows you to return an array of values.\n",
    "#Add a size parameter to specify the shape of the array.\n",
    "#Generate a 2-D array that consists of the values in the array parameter (3, 5, 7, and 9):\n",
    "from numpy import random\n",
    "x = random.choice([3, 5, 7, 9], size=(3, 5))\n",
    "print(x)"
   ]
  },
  {
   "cell_type": "code",
   "execution_count": null,
   "id": "d52b2731-bd0f-4915-b9b5-02564a7f23fe",
   "metadata": {},
   "outputs": [],
   "source": [
    "#Random Data Distribution\n",
    "# What is Data Distribution?\n",
    "Data Distribution is a list of all possible values, and how often each value occurs.\n",
    "Such lists are important when working with statistics and data science.\n",
    "The random module offer methods that returns randomly generated data distributions.\n",
    "# Random Distribution\n",
    "A random distribution is a set of random numbers that follow a certain probability density function\n",
    "#We can generate random numbers based on defined probabilities using the choice() method of the random module.\n",
    "#The choice() method allows us to specify the probability for each value."
   ]
  },
  {
   "cell_type": "code",
   "execution_count": 1,
   "id": "4666d339-fc90-41a8-a201-1406e4077462",
   "metadata": {},
   "outputs": [
    {
     "name": "stdout",
     "output_type": "stream",
     "text": [
      "[5 5 7 7 7 7 7 7 7 7]\n"
     ]
    }
   ],
   "source": [
    "#Generate a 1-D array containing 10 values, where each value has to be 3, 5, 7 or 9.\n",
    "#The probability for the value to be 3 is set to be 0.1\n",
    "#The probability for the value to be 5 is set to be 0.3\n",
    "#The probability for the value to be 7 is set to be 0.6\n",
    "#The probability for the value to be 9 is set to be 0\n",
    "from numpy import random\n",
    "x = random.choice([3, 5, 7, 9], p=[0.1, 0.3, 0.6, 0.0], size=(10))\n",
    "print(x)"
   ]
  },
  {
   "cell_type": "code",
   "execution_count": 61,
   "id": "884ce0de-037c-40e5-9638-286b21e55d2f",
   "metadata": {},
   "outputs": [
    {
     "name": "stdout",
     "output_type": "stream",
     "text": [
      "[[5 7 5 3 7]\n",
      " [7 5 7 5 5]\n",
      " [7 7 7 7 7]]\n"
     ]
    }
   ],
   "source": [
    "# Same example as above, but return a 2-D array with 3 rows, each containing 5 values.\n",
    "from numpy import random\n",
    "x = random.choice([3, 5, 7, 9], p=[0.1, 0.3, 0.6, 0.0], size=(3, 5))\n",
    "print(x)"
   ]
  },
  {
   "cell_type": "markdown",
   "id": "94fdb948-c9c7-44de-bba7-ce71d2c40894",
   "metadata": {},
   "source": [
    "#Random Permutations\n",
    "#Random Permutations of Elements\n",
    "#The NumPy Random module provides two methods for this: shuffle() and permutation()."
   ]
  },
  {
   "cell_type": "code",
   "execution_count": 62,
   "id": "6ff6a660-1489-43c2-960d-8f9ee703a00b",
   "metadata": {},
   "outputs": [
    {
     "name": "stdout",
     "output_type": "stream",
     "text": [
      "[3 2 4 1 5]\n"
     ]
    }
   ],
   "source": [
    "#Shuffling Arrays\n",
    "#Shuffle means changing arrangement of elements in-place. i.e. in the array itself.\n",
    "#Randomly shuffle elements of following array:\n",
    "from numpy import random\n",
    "import numpy as np\n",
    "arr = np.array([1, 2, 3, 4, 5])\n",
    "random.shuffle(arr)\n",
    "print(arr)"
   ]
  },
  {
   "cell_type": "code",
   "execution_count": 63,
   "id": "5f764af5-9a8f-45d9-8b4d-892d860725ca",
   "metadata": {},
   "outputs": [
    {
     "name": "stdout",
     "output_type": "stream",
     "text": [
      "[4 3 1 2 5]\n"
     ]
    }
   ],
   "source": [
    "#Generating Permutation of Arrays\n",
    "#Generate a random permutation of elements of following array:\n",
    "from numpy import random\n",
    "import numpy as np\n",
    "arr = np.array([1, 2, 3, 4, 5])\n",
    "print(random.permutation(arr))"
   ]
  },
  {
   "cell_type": "code",
   "execution_count": 3,
   "id": "8a4bb491-3d0f-4420-bbf8-c6a660ca45fe",
   "metadata": {},
   "outputs": [],
   "source": [
    "#Seaborn\n",
    "# Visualize Distributions With Seaborn\n",
    "#Seaborn is a library that uses Matplotlib underneath to plot graphs. It will be used to visualize random distributions.\n",
    "#Install Seaborn.\n",
    "#If you have Python and PIP already installed on a system, install it using this command:\n",
    "# C:\\Users\\Your Name>pip install seaborn"
   ]
  },
  {
   "cell_type": "code",
   "execution_count": null,
   "id": "2da95824-09b1-4a12-b160-1075dbd442e7",
   "metadata": {},
   "outputs": [],
   "source": [
    "# Import Matplotlib\n",
    "#Import the pyplot object of the Matplotlib module in your code using the following statement:\n",
    "#import matplotlib.pyplot as plt"
   ]
  },
  {
   "cell_type": "code",
   "execution_count": 4,
   "id": "579f6795-c643-4853-8e6c-b3fbd591cf3d",
   "metadata": {},
   "outputs": [
    {
     "name": "stderr",
     "output_type": "stream",
     "text": [
      "C:\\Users\\swopnil\\AppData\\Local\\Temp\\ipykernel_6120\\3828670117.py:4: UserWarning: \n",
      "\n",
      "`distplot` is a deprecated function and will be removed in seaborn v0.14.0.\n",
      "\n",
      "Please adapt your code to use either `displot` (a figure-level function with\n",
      "similar flexibility) or `histplot` (an axes-level function for histograms).\n",
      "\n",
      "For a guide to updating your code to use the new functions, please see\n",
      "https://gist.github.com/mwaskom/de44147ed2974457ad6372750bbe5751\n",
      "\n",
      "  sns.distplot([0, 1, 2, 3, 4, 5])\n",
      "C:\\Users\\swopnil\\anaconda3\\Lib\\site-packages\\seaborn\\_oldcore.py:1119: FutureWarning: use_inf_as_na option is deprecated and will be removed in a future version. Convert inf values to NaN before operating instead.\n",
      "  with pd.option_context('mode.use_inf_as_na', True):\n"
     ]
    },
    {
     "data": {
      "image/png": "[encoded data removed]",
      "text/plain": [
       "<Figure size 640x480 with 1 Axes>"
      ]
     },
     "metadata": {},
     "output_type": "display_data"
    }
   ],
   "source": [
    "#Plotting a Distplot\n",
    "import matplotlib.pyplot as plt\n",
    "import seaborn as sns\n",
    "sns.distplot([0, 1, 2, 3, 4, 5])\n",
    "plt.show()"
   ]
  },
  {
   "cell_type": "code",
   "execution_count": 5,
   "id": "6d4fab1b-7356-42c9-8fbf-1e394182f077",
   "metadata": {},
   "outputs": [
    {
     "name": "stderr",
     "output_type": "stream",
     "text": [
      "C:\\Users\\swopnil\\AppData\\Local\\Temp\\ipykernel_6120\\2230517074.py:4: UserWarning: \n",
      "\n",
      "`distplot` is a deprecated function and will be removed in seaborn v0.14.0.\n",
      "\n",
      "Please adapt your code to use either `displot` (a figure-level function with\n",
      "similar flexibility) or `kdeplot` (an axes-level function for kernel density plots).\n",
      "\n",
      "For a guide to updating your code to use the new functions, please see\n",
      "https://gist.github.com/mwaskom/de44147ed2974457ad6372750bbe5751\n",
      "\n",
      "  sns.distplot([0, 1, 2, 3, 4, 5], hist=False)\n",
      "C:\\Users\\swopnil\\anaconda3\\Lib\\site-packages\\seaborn\\_oldcore.py:1119: FutureWarning: use_inf_as_na option is deprecated and will be removed in a future version. Convert inf values to NaN before operating instead.\n",
      "  with pd.option_context('mode.use_inf_as_na', True):\n"
     ]
    },
    {
     "data": {
      "image/png": "[encoded data removed]",
      "text/plain": [
       "<Figure size 640x480 with 1 Axes>"
      ]
     },
     "metadata": {},
     "output_type": "display_data"
    }
   ],
   "source": [
    "#Plotting a Distplot Without the Histogram\n",
    "import matplotlib.pyplot as plt\n",
    "import seaborn as sns\n",
    "sns.distplot([0, 1, 2, 3, 4, 5], hist=False)\n",
    "plt.show()"
   ]
  },
  {
   "cell_type": "code",
   "execution_count": null,
   "id": "458390ad-fbd1-4fbd-9642-b4852366a406",
   "metadata": {},
   "outputs": [],
   "source": [
    "# Normal (Gaussian) Distribution\n",
    "#Normal Distribution\n",
    "The Normal Distribution is one of the most important distributions.\n",
    "It is also called the Gaussian Distribution after the German mathematician Carl Friedrich Gauss.\n",
    "It fits the probability distribution of many events, eg. IQ Scores, Heartbeat etc.\n",
    "Use the random.normal() method to get a Normal Data Distribution.\n",
    "It has three parameters:\n",
    "loc - (Mean) where the peak of the bell exists.\n",
    "scale - (Standard Deviation) how flat the graph distribution should be.\n",
    "size - The shape of the returned array."
   ]
  },
  {
   "cell_type": "code",
   "execution_count": 6,
   "id": "069f5ee4-8048-41e9-be91-269f5a048bd6",
   "metadata": {},
   "outputs": [
    {
     "name": "stdout",
     "output_type": "stream",
     "text": [
      "[[-0.39176579  0.46582332  2.41070757]\n",
      " [ 1.61939708  0.52535693  0.7348959 ]]\n"
     ]
    }
   ],
   "source": [
    "#Generate a random normal distribution of size 2x3:\n",
    "from numpy import random\n",
    "x = random.normal(size=(2, 3))\n",
    "print(x)"
   ]
  },
  {
   "cell_type": "code",
   "execution_count": 7,
   "id": "3c810aa5-da40-4324-b801-90531dfe09aa",
   "metadata": {},
   "outputs": [
    {
     "name": "stdout",
     "output_type": "stream",
     "text": [
      "[[ 0.64735182 -2.99000648  0.57346803]\n",
      " [ 3.72021667  0.16725749 -0.29256104]]\n"
     ]
    }
   ],
   "source": [
    "#Generate a random normal distribution of size 2x3 with mean at 1 and standard deviation of 2:\n",
    "from numpy import random\n",
    "x = random.normal(loc=1, scale=2, size=(2, 3))\n",
    "print(x)"
   ]
  },
  {
   "cell_type": "code",
   "execution_count": 8,
   "id": "26076ae0-8c40-4679-a7d1-15358052da38",
   "metadata": {},
   "outputs": [
    {
     "name": "stderr",
     "output_type": "stream",
     "text": [
      "C:\\Users\\swopnil\\AppData\\Local\\Temp\\ipykernel_6120\\4081980874.py:5: UserWarning: \n",
      "\n",
      "`distplot` is a deprecated function and will be removed in seaborn v0.14.0.\n",
      "\n",
      "Please adapt your code to use either `displot` (a figure-level function with\n",
      "similar flexibility) or `kdeplot` (an axes-level function for kernel density plots).\n",
      "\n",
      "For a guide to updating your code to use the new functions, please see\n",
      "https://gist.github.com/mwaskom/de44147ed2974457ad6372750bbe5751\n",
      "\n",
      "  sns.distplot(random.normal(size=1000), hist=False)\n",
      "C:\\Users\\swopnil\\anaconda3\\Lib\\site-packages\\seaborn\\_oldcore.py:1119: FutureWarning: use_inf_as_na option is deprecated and will be removed in a future version. Convert inf values to NaN before operating instead.\n",
      "  with pd.option_context('mode.use_inf_as_na', True):\n"
     ]
    },
    {
     "data": {
      "image/png": "[encoded data removed]",
      "text/plain": [
       "<Figure size 640x480 with 1 Axes>"
      ]
     },
     "metadata": {},
     "output_type": "display_data"
    }
   ],
   "source": [
    "#Visualization of Normal Distribution\n",
    "from numpy import random\n",
    "import matplotlib.pyplot as plt\n",
    "import seaborn as sns\n",
    "sns.distplot(random.normal(size=1000), hist=False)\n",
    "plt.show()"
   ]
  },
  {
   "cell_type": "code",
   "execution_count": null,
   "id": "94f4e6c7-443e-46c1-9bd6-121892751114",
   "metadata": {},
   "outputs": [],
   "source": [
    "# Binomial Distribution.\n",
    "Binomial Distribution is a Discrete Distribution.\n",
    "It describes the outcome of binary scenarios, e.g. toss of a coin, it will either be head or tails.\n",
    "It has three parameters:\n",
    "n - number of trials.\n",
    "p - probability of occurence of each trial (e.g. for toss of a coin 0.5 each).\n",
    "size - The shape of the returned array."
   ]
  },
  {
   "cell_type": "code",
   "execution_count": 9,
   "id": "3dff0cb6-fef4-476c-975d-622f4bcf96e1",
   "metadata": {},
   "outputs": [
    {
     "name": "stdout",
     "output_type": "stream",
     "text": [
      "[5 6 7 3 5 7 3 5 6 6]\n"
     ]
    }
   ],
   "source": [
    "#Given 10 trials for coin toss generate 10 data points:\n",
    "from numpy import random\n",
    "x = random.binomial(n=10, p=0.5, size=10)\n",
    "print(x)"
   ]
  },
  {
   "cell_type": "code",
   "execution_count": 10,
   "id": "4e6eb3ae-f00e-47bd-83d7-63b1e09cc49a",
   "metadata": {},
   "outputs": [
    {
     "name": "stderr",
     "output_type": "stream",
     "text": [
      "C:\\Users\\swopnil\\AppData\\Local\\Temp\\ipykernel_6120\\1124693461.py:5: UserWarning: \n",
      "\n",
      "`distplot` is a deprecated function and will be removed in seaborn v0.14.0.\n",
      "\n",
      "Please adapt your code to use either `displot` (a figure-level function with\n",
      "similar flexibility) or `histplot` (an axes-level function for histograms).\n",
      "\n",
      "For a guide to updating your code to use the new functions, please see\n",
      "https://gist.github.com/mwaskom/de44147ed2974457ad6372750bbe5751\n",
      "\n",
      "  sns.distplot(random.binomial(n=10, p=0.5, size=1000), hist=True, kde=False)\n"
     ]
    },
    {
     "data": {
      "image/png": "[encoded data removed]",
      "text/plain": [
       "<Figure size 640x480 with 1 Axes>"
      ]
     },
     "metadata": {},
     "output_type": "display_data"
    }
   ],
   "source": [
    "#Visualization of Binomial Distribution\n",
    "from numpy import random\n",
    "import matplotlib.pyplot as plt\n",
    "import seaborn as sns\n",
    "sns.distplot(random.binomial(n=10, p=0.5, size=1000), hist=True, kde=False)\n",
    "plt.show()"
   ]
  },
  {
   "cell_type": "markdown",
   "id": "3880e16e-f7f3-48cf-a00c-3cf8108c2662",
   "metadata": {},
   "source": [
    "#Difference Between Normal and Binomial Distribution\n",
    "The main difference is that normal distribution is continous whereas binomial is discrete, but if there are enough data points it will be quite similar to normal distribution with certain loc and scale."
   ]
  },
  {
   "cell_type": "code",
   "execution_count": 11,
   "id": "3654eed3-63e1-48e1-81e7-f5e5f350392a",
   "metadata": {},
   "outputs": [
    {
     "name": "stderr",
     "output_type": "stream",
     "text": [
      "C:\\Users\\swopnil\\AppData\\Local\\Temp\\ipykernel_6120\\2352088043.py:4: UserWarning: \n",
      "\n",
      "`distplot` is a deprecated function and will be removed in seaborn v0.14.0.\n",
      "\n",
      "Please adapt your code to use either `displot` (a figure-level function with\n",
      "similar flexibility) or `kdeplot` (an axes-level function for kernel density plots).\n",
      "\n",
      "For a guide to updating your code to use the new functions, please see\n",
      "https://gist.github.com/mwaskom/de44147ed2974457ad6372750bbe5751\n",
      "\n",
      "  sns.distplot(random.normal(loc=50, scale=5, size=1000), hist=False, label='normal')\n",
      "C:\\Users\\swopnil\\anaconda3\\Lib\\site-packages\\seaborn\\_oldcore.py:1119: FutureWarning: use_inf_as_na option is deprecated and will be removed in a future version. Convert inf values to NaN before operating instead.\n",
      "  with pd.option_context('mode.use_inf_as_na', True):\n",
      "C:\\Users\\swopnil\\AppData\\Local\\Temp\\ipykernel_6120\\2352088043.py:5: UserWarning: \n",
      "\n",
      "`distplot` is a deprecated function and will be removed in seaborn v0.14.0.\n",
      "\n",
      "Please adapt your code to use either `displot` (a figure-level function with\n",
      "similar flexibility) or `kdeplot` (an axes-level function for kernel density plots).\n",
      "\n",
      "For a guide to updating your code to use the new functions, please see\n",
      "https://gist.github.com/mwaskom/de44147ed2974457ad6372750bbe5751\n",
      "\n",
      "  sns.distplot(random.binomial(n=100, p=0.5, size=1000), hist=False, label='binomial')\n",
      "C:\\Users\\swopnil\\anaconda3\\Lib\\site-packages\\seaborn\\_oldcore.py:1119: FutureWarning: use_inf_as_na option is deprecated and will be removed in a future version. Convert inf values to NaN before operating instead.\n",
      "  with pd.option_context('mode.use_inf_as_na', True):\n"
     ]
    },
    {
     "data": {
      "image/png": "[encoded data removed]",
      "text/plain": [
       "<Figure size 640x480 with 1 Axes>"
      ]
     },
     "metadata": {},
     "output_type": "display_data"
    }
   ],
   "source": [
    "from numpy import random\n",
    "import matplotlib.pyplot as plt\n",
    "import seaborn as sns\n",
    "sns.distplot(random.normal(loc=50, scale=5, size=1000), hist=False, label='normal')\n",
    "sns.distplot(random.binomial(n=100, p=0.5, size=1000), hist=False, label='binomial')\n",
    "plt.show()"
   ]
  },
  {
   "cell_type": "markdown",
   "id": "e49496d2-383b-4279-9a50-37988ed259fa",
   "metadata": {},
   "source": [
    "#Poisson Distribution\n",
    "Poisson Distribution is a Discrete Distribution.\n",
    "It estimates how many times an event can happen in a specified time. e.g. If someone eats twice a day what is the probability he will eat thrice?\n",
    "It has two parameters:\n",
    "lam - rate or known number of occurrences e.g. 2 for above problem.\n",
    "size - The shape of the returned array."
   ]
  },
  {
   "cell_type": "code",
   "execution_count": 12,
   "id": "7bb022b3-b2d2-4c71-9e36-cac57441e65f",
   "metadata": {},
   "outputs": [
    {
     "name": "stdout",
     "output_type": "stream",
     "text": [
      "[1 0 1 0 3 1 4 1 2 1]\n"
     ]
    }
   ],
   "source": [
    "#Generate a random 1x10 distribution for occurrence 2:\n",
    "from numpy import random\n",
    "x = random.poisson(lam=2, size=10)\n",
    "print(x)"
   ]
  },
  {
   "cell_type": "code",
   "execution_count": 13,
   "id": "0ab45562-2818-4f99-9992-4876385fe4c6",
   "metadata": {},
   "outputs": [
    {
     "name": "stderr",
     "output_type": "stream",
     "text": [
      "C:\\Users\\swopnil\\AppData\\Local\\Temp\\ipykernel_6120\\3525895867.py:5: UserWarning: \n",
      "\n",
      "`distplot` is a deprecated function and will be removed in seaborn v0.14.0.\n",
      "\n",
      "Please adapt your code to use either `displot` (a figure-level function with\n",
      "similar flexibility) or `histplot` (an axes-level function for histograms).\n",
      "\n",
      "For a guide to updating your code to use the new functions, please see\n",
      "https://gist.github.com/mwaskom/de44147ed2974457ad6372750bbe5751\n",
      "\n",
      "  sns.distplot(random.poisson(lam=2, size=1000), kde=False)\n"
     ]
    },
    {
     "data": {
      "image/png": "[encoded data removed]",
      "text/plain": [
       "<Figure size 640x480 with 1 Axes>"
      ]
     },
     "metadata": {},
     "output_type": "display_data"
    }
   ],
   "source": [
    "#Visualization of Poisson Distribution:\n",
    "from numpy import random\n",
    "import matplotlib.pyplot as plt\n",
    "import seaborn as sns\n",
    "sns.distplot(random.poisson(lam=2, size=1000), kde=False)\n",
    "plt.show()"
   ]
  },
  {
   "cell_type": "markdown",
   "id": "43b0f3e8-4339-4ca0-8867-bea24c24f4ea",
   "metadata": {},
   "source": [
    "#Difference Between Normal and Poisson Distribution:\n",
    "> Normal distribution is continuous whereas poisson is discrete.\n",
    "> But we can see that similar to binomial for a large enough poisson distribution it will become similar to normal distribution with certain std dev and mean."
   ]
  },
  {
   "cell_type": "code",
   "execution_count": 14,
   "id": "01d41ec5-c6d8-465b-949c-158674ff555f",
   "metadata": {},
   "outputs": [
    {
     "name": "stderr",
     "output_type": "stream",
     "text": [
      "C:\\Users\\swopnil\\AppData\\Local\\Temp\\ipykernel_6120\\3681875339.py:4: UserWarning: \n",
      "\n",
      "`distplot` is a deprecated function and will be removed in seaborn v0.14.0.\n",
      "\n",
      "Please adapt your code to use either `displot` (a figure-level function with\n",
      "similar flexibility) or `kdeplot` (an axes-level function for kernel density plots).\n",
      "\n",
      "For a guide to updating your code to use the new functions, please see\n",
      "https://gist.github.com/mwaskom/de44147ed2974457ad6372750bbe5751\n",
      "\n",
      "  sns.distplot(random.normal(loc=50, scale=7, size=1000), hist=False, label='normal')\n",
      "C:\\Users\\swopnil\\anaconda3\\Lib\\site-packages\\seaborn\\_oldcore.py:1119: FutureWarning: use_inf_as_na option is deprecated and will be removed in a future version. Convert inf values to NaN before operating instead.\n",
      "  with pd.option_context('mode.use_inf_as_na', True):\n",
      "C:\\Users\\swopnil\\AppData\\Local\\Temp\\ipykernel_6120\\3681875339.py:5: UserWarning: \n",
      "\n",
      "`distplot` is a deprecated function and will be removed in seaborn v0.14.0.\n",
      "\n",
      "Please adapt your code to use either `displot` (a figure-level function with\n",
      "similar flexibility) or `kdeplot` (an axes-level function for kernel density plots).\n",
      "\n",
      "For a guide to updating your code to use the new functions, please see\n",
      "https://gist.github.com/mwaskom/de44147ed2974457ad6372750bbe5751\n",
      "\n",
      "  sns.distplot(random.poisson(lam=50, size=1000), hist=False, label='poisson')\n",
      "C:\\Users\\swopnil\\anaconda3\\Lib\\site-packages\\seaborn\\_oldcore.py:1119: FutureWarning: use_inf_as_na option is deprecated and will be removed in a future version. Convert inf values to NaN before operating instead.\n",
      "  with pd.option_context('mode.use_inf_as_na', True):\n"
     ]
    },
    {
     "data": {
      "image/png": "[encoded data removed]",
      "text/plain": [
       "<Figure size 640x480 with 1 Axes>"
      ]
     },
     "metadata": {},
     "output_type": "display_data"
    }
   ],
   "source": [
    "from numpy import random\n",
    "import matplotlib.pyplot as plt\n",
    "import seaborn as sns\n",
    "sns.distplot(random.normal(loc=50, scale=7, size=1000), hist=False, label='normal')\n",
    "sns.distplot(random.poisson(lam=50, size=1000), hist=False, label='poisson')\n",
    "plt.show()"
   ]
  },
  {
   "cell_type": "markdown",
   "id": "634290e0-2c7c-408e-b840-56445000e2f3",
   "metadata": {},
   "source": [
    "#Difference Between Binomial and Poisson Distribution\n",
    "Binomial distribution only has two possible outcomes, whereas poisson distribution can have unlimited possible outcomes.\n",
    "But for very large n and near-zero p binomial distribution is near identical to poisson distribution such that n * p is nearly equal to lam."
   ]
  },
  {
   "cell_type": "code",
   "execution_count": 15,
   "id": "289f18aa-8b17-49c3-9ae3-8a978d12d119",
   "metadata": {},
   "outputs": [
    {
     "name": "stderr",
     "output_type": "stream",
     "text": [
      "C:\\Users\\swopnil\\AppData\\Local\\Temp\\ipykernel_6120\\1456282284.py:4: UserWarning: \n",
      "\n",
      "`distplot` is a deprecated function and will be removed in seaborn v0.14.0.\n",
      "\n",
      "Please adapt your code to use either `displot` (a figure-level function with\n",
      "similar flexibility) or `kdeplot` (an axes-level function for kernel density plots).\n",
      "\n",
      "For a guide to updating your code to use the new functions, please see\n",
      "https://gist.github.com/mwaskom/de44147ed2974457ad6372750bbe5751\n",
      "\n",
      "  sns.distplot(random.binomial(n=1000, p=0.01, size=1000), hist=False, label='binomial')\n",
      "C:\\Users\\swopnil\\anaconda3\\Lib\\site-packages\\seaborn\\_oldcore.py:1119: FutureWarning: use_inf_as_na option is deprecated and will be removed in a future version. Convert inf values to NaN before operating instead.\n",
      "  with pd.option_context('mode.use_inf_as_na', True):\n",
      "C:\\Users\\swopnil\\AppData\\Local\\Temp\\ipykernel_6120\\1456282284.py:5: UserWarning: \n",
      "\n",
      "`distplot` is a deprecated function and will be removed in seaborn v0.14.0.\n",
      "\n",
      "Please adapt your code to use either `displot` (a figure-level function with\n",
      "similar flexibility) or `kdeplot` (an axes-level function for kernel density plots).\n",
      "\n",
      "For a guide to updating your code to use the new functions, please see\n",
      "https://gist.github.com/mwaskom/de44147ed2974457ad6372750bbe5751\n",
      "\n",
      "  sns.distplot(random.poisson(lam=10, size=1000), hist=False, label='poisson')\n",
      "C:\\Users\\swopnil\\anaconda3\\Lib\\site-packages\\seaborn\\_oldcore.py:1119: FutureWarning: use_inf_as_na option is deprecated and will be removed in a future version. Convert inf values to NaN before operating instead.\n",
      "  with pd.option_context('mode.use_inf_as_na', True):\n"
     ]
    },
    {
     "data": {
      "image/png": "[encoded data removed]",
      "text/plain": [
       "<Figure size 640x480 with 1 Axes>"
      ]
     },
     "metadata": {},
     "output_type": "display_data"
    }
   ],
   "source": [
    "from numpy import random\n",
    "import matplotlib.pyplot as plt\n",
    "import seaborn as sns\n",
    "sns.distplot(random.binomial(n=1000, p=0.01, size=1000), hist=False, label='binomial')\n",
    "sns.distplot(random.poisson(lam=10, size=1000), hist=False, label='poisson')\n",
    "plt.show()"
   ]
  },
  {
   "cell_type": "code",
   "execution_count": null,
   "id": "ec37d469-e2f3-40b6-b94b-b89677fec23d",
   "metadata": {},
   "outputs": [],
   "source": [
    "# Uniform Distribution\n",
    "Used to describe probability where every event has equal chances of occuring.\n",
    "E.g. Generation of random numbers.\n",
    "It has three parameters:\n",
    "a - lower bound - default 0 .0.\n",
    "b - upper bound - default 1.0.\n",
    "size - The shape of the returned array."
   ]
  },
  {
   "cell_type": "code",
   "execution_count": 16,
   "id": "c465d341-4582-439d-b585-0d1d8eb53783",
   "metadata": {},
   "outputs": [
    {
     "name": "stdout",
     "output_type": "stream",
     "text": [
      "[[0.82223878 0.29295036 0.07551106]\n",
      " [0.61372523 0.58531276 0.81316824]]\n"
     ]
    }
   ],
   "source": [
    "#Create a 2x3 uniform distribution sample:\n",
    "from numpy import random\n",
    "x = random.uniform(size=(2, 3))\n",
    "print(x)"
   ]
  },
  {
   "cell_type": "code",
   "execution_count": 17,
   "id": "75aa6fe3-8e46-4471-8927-b2f8c34bdb23",
   "metadata": {},
   "outputs": [
    {
     "name": "stderr",
     "output_type": "stream",
     "text": [
      "C:\\Users\\swopnil\\AppData\\Local\\Temp\\ipykernel_6120\\809663100.py:5: UserWarning: \n",
      "\n",
      "`distplot` is a deprecated function and will be removed in seaborn v0.14.0.\n",
      "\n",
      "Please adapt your code to use either `displot` (a figure-level function with\n",
      "similar flexibility) or `kdeplot` (an axes-level function for kernel density plots).\n",
      "\n",
      "For a guide to updating your code to use the new functions, please see\n",
      "https://gist.github.com/mwaskom/de44147ed2974457ad6372750bbe5751\n",
      "\n",
      "  sns.distplot(random.uniform(size=1000), hist=False)\n",
      "C:\\Users\\swopnil\\anaconda3\\Lib\\site-packages\\seaborn\\_oldcore.py:1119: FutureWarning: use_inf_as_na option is deprecated and will be removed in a future version. Convert inf values to NaN before operating instead.\n",
      "  with pd.option_context('mode.use_inf_as_na', True):\n"
     ]
    },
    {
     "data": {
      "image/png": "[encoded data removed]",
      "text/plain": [
       "<Figure size 640x480 with 1 Axes>"
      ]
     },
     "metadata": {},
     "output_type": "display_data"
    }
   ],
   "source": [
    "#Visualization of Uniform Distribution\n",
    "from numpy import random\n",
    "import matplotlib.pyplot as plt\n",
    "import seaborn as sns\n",
    "sns.distplot(random.uniform(size=1000), hist=False)\n",
    "plt.show()"
   ]
  },
  {
   "cell_type": "code",
   "execution_count": null,
   "id": "76e51c74-89b7-4ea1-8741-88cc474bcf0d",
   "metadata": {},
   "outputs": [],
   "source": [
    "#Logistic Distribution\n",
    "Logistic Distribution is used to describe growth.\n",
    "Used extensively in machine learning in logistic regression, neural networks etc.\n",
    "#It has three parameters:\n",
    "loc - mean, where the peak is. Default 0.\n",
    "scale - standard deviation, the flatness of distribution. Default 1.\n",
    "size - The shape of the returned array."
   ]
  },
  {
   "cell_type": "code",
   "execution_count": 18,
   "id": "e002d113-62ef-4a11-a420-f24c3802881c",
   "metadata": {},
   "outputs": [
    {
     "name": "stdout",
     "output_type": "stream",
     "text": [
      "[[-0.15240664  4.39281373  6.48455246]\n",
      " [-1.69206227  1.6108717   2.64143205]]\n"
     ]
    }
   ],
   "source": [
    "#Draw 2x3 samples from a logistic distribution with mean at 1 and stddev 2.0:\n",
    "from numpy import random\n",
    "x = random.logistic(loc=1, scale=2, size=(2, 3))\n",
    "print(x)"
   ]
  },
  {
   "cell_type": "code",
   "execution_count": 19,
   "id": "70a1b69b-04f0-4379-8fd8-280e18f26a78",
   "metadata": {},
   "outputs": [
    {
     "name": "stderr",
     "output_type": "stream",
     "text": [
      "C:\\Users\\swopnil\\AppData\\Local\\Temp\\ipykernel_6120\\3190197117.py:5: UserWarning: \n",
      "\n",
      "`distplot` is a deprecated function and will be removed in seaborn v0.14.0.\n",
      "\n",
      "Please adapt your code to use either `displot` (a figure-level function with\n",
      "similar flexibility) or `kdeplot` (an axes-level function for kernel density plots).\n",
      "\n",
      "For a guide to updating your code to use the new functions, please see\n",
      "https://gist.github.com/mwaskom/de44147ed2974457ad6372750bbe5751\n",
      "\n",
      "  sns.distplot(random.logistic(size=1000), hist=False)\n",
      "C:\\Users\\swopnil\\anaconda3\\Lib\\site-packages\\seaborn\\_oldcore.py:1119: FutureWarning: use_inf_as_na option is deprecated and will be removed in a future version. Convert inf values to NaN before operating instead.\n",
      "  with pd.option_context('mode.use_inf_as_na', True):\n"
     ]
    },
    {
     "data": {
      "image/png": "[encoded data removed]",
      "text/plain": [
       "<Figure size 640x480 with 1 Axes>"
      ]
     },
     "metadata": {},
     "output_type": "display_data"
    }
   ],
   "source": [
    "#Visualization of Logistic Distribution\n",
    "from numpy import random\n",
    "import matplotlib.pyplot as plt\n",
    "import seaborn as sns\n",
    "sns.distplot(random.logistic(size=1000), hist=False)\n",
    "plt.show()"
   ]
  },
  {
   "cell_type": "code",
   "execution_count": null,
   "id": "336658aa-100a-4c7e-85a9-14d3e3891875",
   "metadata": {},
   "outputs": [],
   "source": [
    "#Multinomial Distribution\n",
    "Multinomial distribution is a generalization of binomial distribution.\n",
    "It describes outcomes of multi-nomial scenarios unlike binomial where scenarios must be only one of two. e.g. Blood type of a population, dice roll outcome.\n",
    "#It has three parameters:\n",
    "n - number of possible outcomes (e.g. 6 for dice roll).\n",
    "pvals - list of probabilties of outcomes (e.g. [1/6, 1/6, 1/6, 1/6, 1/6, 1/6] for dice roll).\n",
    "size - The shape of the returned array."
   ]
  },
  {
   "cell_type": "code",
   "execution_count": 20,
   "id": "40de44d8-9f07-42ab-a007-420e4f9feef4",
   "metadata": {},
   "outputs": [
    {
     "name": "stdout",
     "output_type": "stream",
     "text": [
      "[0 1 0 1 3 1]\n"
     ]
    }
   ],
   "source": [
    "#Draw out a sample for dice roll:\n",
    "from numpy import random\n",
    "x = random.multinomial(n=6, pvals=[1/6, 1/6, 1/6, 1/6, 1/6, 1/6])\n",
    "print(x)"
   ]
  },
  {
   "cell_type": "code",
   "execution_count": null,
   "id": "522835c3-65a5-4301-bc70-a657e937afbc",
   "metadata": {},
   "outputs": [],
   "source": [
    "# Exponential Distribution\n",
    "Exponential distribution is used for describing time till next event e.g. failure/success etc.\n",
    "#It has two parameters:\n",
    "scale - inverse of rate ( see lam in poisson distribution ) defaults to 1.0.\n",
    "size - The shape of the returned array."
   ]
  },
  {
   "cell_type": "code",
   "execution_count": 21,
   "id": "bc2cf962-4042-4c71-b515-be074d904d34",
   "metadata": {},
   "outputs": [
    {
     "name": "stdout",
     "output_type": "stream",
     "text": [
      "[[4.07512623 0.26230997 1.41858264]\n",
      " [0.67738173 0.01138934 0.87850326]]\n"
     ]
    }
   ],
   "source": [
    "#Draw out a sample for exponential distribution with 2.0 scale with 2x3 size:\n",
    "from numpy import random\n",
    "x = random.exponential(scale=2, size=(2, 3))\n",
    "print(x)"
   ]
  },
  {
   "cell_type": "code",
   "execution_count": 22,
   "id": "d3377ed9-0358-418e-b698-d16cac39ec62",
   "metadata": {},
   "outputs": [
    {
     "name": "stderr",
     "output_type": "stream",
     "text": [
      "C:\\Users\\swopnil\\AppData\\Local\\Temp\\ipykernel_6120\\2093046169.py:5: UserWarning: \n",
      "\n",
      "`distplot` is a deprecated function and will be removed in seaborn v0.14.0.\n",
      "\n",
      "Please adapt your code to use either `displot` (a figure-level function with\n",
      "similar flexibility) or `kdeplot` (an axes-level function for kernel density plots).\n",
      "\n",
      "For a guide to updating your code to use the new functions, please see\n",
      "https://gist.github.com/mwaskom/de44147ed2974457ad6372750bbe5751\n",
      "\n",
      "  sns.distplot(random.exponential(size=1000), hist=False)\n",
      "C:\\Users\\swopnil\\anaconda3\\Lib\\site-packages\\seaborn\\_oldcore.py:1119: FutureWarning: use_inf_as_na option is deprecated and will be removed in a future version. Convert inf values to NaN before operating instead.\n",
      "  with pd.option_context('mode.use_inf_as_na', True):\n"
     ]
    },
    {
     "data": {
      "image/png": "[encoded data removed]",
      "text/plain": [
       "<Figure size 640x480 with 1 Axes>"
      ]
     },
     "metadata": {},
     "output_type": "display_data"
    }
   ],
   "source": [
    "#Visualization of Exponential Distribution\n",
    "from numpy import random\n",
    "import matplotlib.pyplot as plt\n",
    "import seaborn as sns\n",
    "sns.distplot(random.exponential(size=1000), hist=False)\n",
    "plt.show()"
   ]
  },
  {
   "cell_type": "code",
   "execution_count": null,
   "id": "78e66342-2bad-46e0-968b-91ddd48bed50",
   "metadata": {},
   "outputs": [],
   "source": [
    "#Chi Square Distribution\n",
    "Chi Square distribution is used as a basis to verify the hypothesis.\n",
    "#It has two parameters:\n",
    "df - (degree of freedom).\n",
    "size - The shape of the returned array."
   ]
  },
  {
   "cell_type": "code",
   "execution_count": 23,
   "id": "6429d154-ee46-4357-a3cb-653102d5896f",
   "metadata": {},
   "outputs": [
    {
     "name": "stdout",
     "output_type": "stream",
     "text": [
      "[[2.18085529 0.94325123 2.60262532]\n",
      " [5.9016306  2.21089001 4.29898038]]\n"
     ]
    }
   ],
   "source": [
    "#Draw out a sample for chi squared distribution with degree of freedom 2 with size 2x3:\n",
    "from numpy import random\n",
    "x = random.chisquare(df=2, size=(2, 3))\n",
    "print(x)"
   ]
  },
  {
   "cell_type": "code",
   "execution_count": 24,
   "id": "15ae2c8a-2d59-4873-812c-53be1a8e84ac",
   "metadata": {},
   "outputs": [
    {
     "name": "stderr",
     "output_type": "stream",
     "text": [
      "C:\\Users\\swopnil\\AppData\\Local\\Temp\\ipykernel_6120\\2720876206.py:5: UserWarning: \n",
      "\n",
      "`distplot` is a deprecated function and will be removed in seaborn v0.14.0.\n",
      "\n",
      "Please adapt your code to use either `displot` (a figure-level function with\n",
      "similar flexibility) or `kdeplot` (an axes-level function for kernel density plots).\n",
      "\n",
      "For a guide to updating your code to use the new functions, please see\n",
      "https://gist.github.com/mwaskom/de44147ed2974457ad6372750bbe5751\n",
      "\n",
      "  sns.distplot(random.chisquare(df=1, size=1000), hist=False)\n",
      "C:\\Users\\swopnil\\anaconda3\\Lib\\site-packages\\seaborn\\_oldcore.py:1119: FutureWarning: use_inf_as_na option is deprecated and will be removed in a future version. Convert inf values to NaN before operating instead.\n",
      "  with pd.option_context('mode.use_inf_as_na', True):\n"
     ]
    },
    {
     "data": {
      "image/png": "[encoded data removed]",
      "text/plain": [
       "<Figure size 640x480 with 1 Axes>"
      ]
     },
     "metadata": {},
     "output_type": "display_data"
    }
   ],
   "source": [
    "#Visualization of Chi Square Distribution\n",
    "from numpy import random\n",
    "import matplotlib.pyplot as plt\n",
    "import seaborn as sns\n",
    "sns.distplot(random.chisquare(df=1, size=1000), hist=False)\n",
    "plt.show()"
   ]
  },
  {
   "cell_type": "code",
   "execution_count": null,
   "id": "141cd0d8-477d-4073-af36-ffc814ac7fd8",
   "metadata": {},
   "outputs": [],
   "source": [
    "#Rayleigh Distribution\n",
    "Rayleigh distribution is used in signal processing.\n",
    "#It has two parameters:\n",
    "scale - (standard deviation) decides how flat the distribution will be default 1.0).\n",
    "size - The shape of the returned array."
   ]
  },
  {
   "cell_type": "code",
   "execution_count": 25,
   "id": "1bc58670-8c5e-46d5-88c8-19c5554d1b19",
   "metadata": {},
   "outputs": [
    {
     "name": "stdout",
     "output_type": "stream",
     "text": [
      "[[1.63335629 3.18863009 1.72244257]\n",
      " [1.96669122 4.5128671  0.47366859]]\n"
     ]
    }
   ],
   "source": [
    "#Draw out a sample for rayleigh distribution with scale of 2 with size 2x3:\n",
    "from numpy import random\n",
    "x = random.rayleigh(scale=2, size=(2, 3))\n",
    "print(x)"
   ]
  },
  {
   "cell_type": "code",
   "execution_count": 26,
   "id": "57965313-528b-4f3b-b5c6-aa424672566b",
   "metadata": {},
   "outputs": [
    {
     "name": "stderr",
     "output_type": "stream",
     "text": [
      "C:\\Users\\swopnil\\AppData\\Local\\Temp\\ipykernel_6120\\3170264361.py:4: UserWarning: \n",
      "\n",
      "`distplot` is a deprecated function and will be removed in seaborn v0.14.0.\n",
      "\n",
      "Please adapt your code to use either `displot` (a figure-level function with\n",
      "similar flexibility) or `kdeplot` (an axes-level function for kernel density plots).\n",
      "\n",
      "For a guide to updating your code to use the new functions, please see\n",
      "https://gist.github.com/mwaskom/de44147ed2974457ad6372750bbe5751\n",
      "\n",
      "  sns.distplot(random.rayleigh(size=1000), hist=False)\n",
      "C:\\Users\\swopnil\\anaconda3\\Lib\\site-packages\\seaborn\\_oldcore.py:1119: FutureWarning: use_inf_as_na option is deprecated and will be removed in a future version. Convert inf values to NaN before operating instead.\n",
      "  with pd.option_context('mode.use_inf_as_na', True):\n"
     ]
    },
    {
     "data": {
      "image/png": "[encoded data removed]",
      "text/plain": [
       "<Figure size 640x480 with 1 Axes>"
      ]
     },
     "metadata": {},
     "output_type": "display_data"
    }
   ],
   "source": [
    "from numpy import random\n",
    "import matplotlib.pyplot as plt\n",
    "import seaborn as sns\n",
    "sns.distplot(random.rayleigh(size=1000), hist=False)\n",
    "plt.show()"
   ]
  },
  {
   "cell_type": "code",
   "execution_count": null,
   "id": "05701045-694b-41c6-b092-2107014370c3",
   "metadata": {},
   "outputs": [],
   "source": [
    "#Pareto Distribution\n",
    "A distribution following Pareto's law i.e. 80-20 distribution (20% factors cause 80% outcome).\n",
    "#It has two parameter:\n",
    "a - shape parameter.\n",
    "size - The shape of the returned array."
   ]
  },
  {
   "cell_type": "code",
   "execution_count": 27,
   "id": "c9058d73-7363-4051-93f1-7fa3c332df56",
   "metadata": {},
   "outputs": [
    {
     "name": "stdout",
     "output_type": "stream",
     "text": [
      "[[0.43908489 0.27967866 0.15226083]\n",
      " [2.17796814 0.57189311 1.3524552 ]]\n"
     ]
    }
   ],
   "source": [
    "#Draw out a sample for pareto distribution with shape of 2 with size 2x3:\n",
    "from numpy import random\n",
    "x = random.pareto(a=2, size=(2, 3))\n",
    "print(x)"
   ]
  },
  {
   "cell_type": "code",
   "execution_count": 28,
   "id": "c2638c00-2761-41b5-9551-3bdfc5e2b0bc",
   "metadata": {},
   "outputs": [
    {
     "name": "stderr",
     "output_type": "stream",
     "text": [
      "C:\\Users\\swopnil\\AppData\\Local\\Temp\\ipykernel_6120\\662567594.py:5: UserWarning: \n",
      "\n",
      "`distplot` is a deprecated function and will be removed in seaborn v0.14.0.\n",
      "\n",
      "Please adapt your code to use either `displot` (a figure-level function with\n",
      "similar flexibility) or `histplot` (an axes-level function for histograms).\n",
      "\n",
      "For a guide to updating your code to use the new functions, please see\n",
      "https://gist.github.com/mwaskom/de44147ed2974457ad6372750bbe5751\n",
      "\n",
      "  sns.distplot(random.pareto(a=2, size=1000), kde=False)\n"
     ]
    },
    {
     "data": {
      "image/png": "[encoded data removed]",
      "text/plain": [
       "<Figure size 640x480 with 1 Axes>"
      ]
     },
     "metadata": {},
     "output_type": "display_data"
    }
   ],
   "source": [
    "#Visualization of Pareto Distribution\n",
    "from numpy import random\n",
    "import matplotlib.pyplot as plt\n",
    "import seaborn as sns\n",
    "sns.distplot(random.pareto(a=2, size=1000), kde=False)\n",
    "plt.show()"
   ]
  },
  {
   "cell_type": "code",
   "execution_count": null,
   "id": "6b826845-8eb4-431e-bdeb-bf795e0b9010",
   "metadata": {},
   "outputs": [],
   "source": [
    "#Zipf Distribution\n",
    "#Zipf distributions are used to sample data based on zipf's law.\n",
    "Zipf's Law: In a collection, the nth common term is 1/n times of the most common term. E.g. the 5th most common word in English occurs nearly 1/5 times as often as the most common word.\n",
    "#It has two parameters:\n",
    "a - distribution parameter.\n",
    "size - The shape of the returned array."
   ]
  },
  {
   "cell_type": "code",
   "execution_count": 29,
   "id": "f08d5ab3-e102-4f20-959f-bae9719e565f",
   "metadata": {},
   "outputs": [
    {
     "name": "stdout",
     "output_type": "stream",
     "text": [
      "[[ 1  2  2]\n",
      " [ 3  1 14]]\n"
     ]
    }
   ],
   "source": [
    "from numpy import random\n",
    "x = random.zipf(a=2, size=(2, 3))\n",
    "print(x)"
   ]
  },
  {
   "cell_type": "code",
   "execution_count": 30,
   "id": "6eecdc5f-4c9f-454b-bd10-1e0d105b0031",
   "metadata": {},
   "outputs": [
    {
     "name": "stderr",
     "output_type": "stream",
     "text": [
      "C:\\Users\\swopnil\\AppData\\Local\\Temp\\ipykernel_6120\\554333546.py:6: UserWarning: \n",
      "\n",
      "`distplot` is a deprecated function and will be removed in seaborn v0.14.0.\n",
      "\n",
      "Please adapt your code to use either `displot` (a figure-level function with\n",
      "similar flexibility) or `histplot` (an axes-level function for histograms).\n",
      "\n",
      "For a guide to updating your code to use the new functions, please see\n",
      "https://gist.github.com/mwaskom/de44147ed2974457ad6372750bbe5751\n",
      "\n",
      "  sns.distplot(x[x<10], kde=False)\n"
     ]
    },
    {
     "data": {
      "image/png": "[encoded data removed]",
      "text/plain": [
       "<Figure size 640x480 with 1 Axes>"
      ]
     },
     "metadata": {},
     "output_type": "display_data"
    }
   ],
   "source": [
    "#Visualization of Zipf Distribution\n",
    "from numpy import random\n",
    "import matplotlib.pyplot as plt\n",
    "import seaborn as sns\n",
    "x = random.zipf(a=2, size=1000)\n",
    "sns.distplot(x[x<10], kde=False)\n",
    "plt.show()"
   ]
  },
  {
   "cell_type": "code",
   "execution_count": null,
   "id": "a3c722db-9bdb-4126-b2de-73cc0805b3bb",
   "metadata": {},
   "outputs": [],
   "source": [
    "# NumPy ufuncs\n",
    "# What are ufuncs?\n",
    "ufuncs stands for \"Universal Functions\" and they are NumPy functions that operate on the ndarray object.\n",
    "# Why use ufuncs?\n",
    "ufuncs are used to implement vectorization in NumPy which is way faster than iterating over elements.\n",
    "They also provide broadcasting and additional methods like reduce, accumulate etc. that are very helpful for computation.\n",
    "ufuncs also take additional arguments, like:\n",
    "where boolean array or condition defining where the operations should take place.\n",
    "dtype defining the return type of elements.\n",
    "out output array where the return value should be copied."
   ]
  },
  {
   "cell_type": "code",
   "execution_count": 32,
   "id": "ba243ae1-9ee2-4aa2-96c9-1f491d817e3a",
   "metadata": {},
   "outputs": [
    {
     "name": "stdout",
     "output_type": "stream",
     "text": [
      "[5, 7, 9, 11]\n"
     ]
    }
   ],
   "source": [
    "# What is Vectorization\n",
    "# Without ufunc, we can use Python's built-in zip() method:\n",
    "x = [1, 2, 3, 4]\n",
    "y = [4, 5, 6, 7]\n",
    "z = []\n",
    "for i, j in zip(x, y):\n",
    "  z.append(i + j)\n",
    "print(z)"
   ]
  },
  {
   "cell_type": "code",
   "execution_count": 33,
   "id": "59ea2a36-c2ec-4463-83f5-2695f6255463",
   "metadata": {},
   "outputs": [
    {
     "name": "stdout",
     "output_type": "stream",
     "text": [
      "[ 5  7  9 11]\n"
     ]
    }
   ],
   "source": [
    "# With ufunc, we can use the add() function:\n",
    "import numpy as np\n",
    "x = [1, 2, 3, 4]\n",
    "y = [4, 5, 6, 7]\n",
    "z = np.add(x, y)\n",
    "print(z)"
   ]
  },
  {
   "cell_type": "code",
   "execution_count": null,
   "id": "6a9a38ae-71fb-43e6-93f0-5f08cb8ea282",
   "metadata": {},
   "outputs": [],
   "source": [
    "#Create Your Own ufunc\n",
    "#How To Create Your Own ufunc\n",
    "To create your own ufunc, you have to define a function, like you do with normal functions in Python, then you add it to your NumPy ufunc library with the frompyfunc() method.\n",
    "#The frompyfunc() method takes the following arguments:\n",
    "function - the name of the function.\n",
    "inputs - the number of input arguments (arrays).\n",
    "outputs - the number of output arrays."
   ]
  },
  {
   "cell_type": "code",
   "execution_count": 34,
   "id": "b0ddf554-dec7-4e82-81d9-faa51ec438c3",
   "metadata": {},
   "outputs": [
    {
     "name": "stdout",
     "output_type": "stream",
     "text": [
      "[6 8 10 12]\n"
     ]
    }
   ],
   "source": [
    "#Create your own ufunc for addition:\n",
    "import numpy as np\n",
    "def myadd(x, y):\n",
    "  return x+y\n",
    "myadd = np.frompyfunc(myadd, 2, 1)\n",
    "print(myadd([1, 2, 3, 4], [5, 6, 7, 8]))"
   ]
  },
  {
   "cell_type": "code",
   "execution_count": 35,
   "id": "f037d49b-6a96-45a7-a76c-880438a0fc90",
   "metadata": {},
   "outputs": [
    {
     "name": "stdout",
     "output_type": "stream",
     "text": [
      "<class 'numpy.ufunc'>\n"
     ]
    }
   ],
   "source": [
    "#Check if a Function is a ufunc\n",
    "#Check the type of a function to check if it is a ufunc or not.\n",
    "#A ufunc should return <class 'numpy.ufunc'>.\n",
    "#Check if a function is a ufunc:\n",
    "import numpy as np\n",
    "print(type(np.add))"
   ]
  },
  {
   "cell_type": "code",
   "execution_count": 36,
   "id": "bfae0694-6db0-4497-8ce8-9e943e4423b6",
   "metadata": {},
   "outputs": [
    {
     "name": "stdout",
     "output_type": "stream",
     "text": [
      "<class 'numpy._ArrayFunctionDispatcher'>\n"
     ]
    }
   ],
   "source": [
    "#Check the type of another function: concatenate():\n",
    "import numpy as np\n",
    "print(type(np.concatenate))"
   ]
  },
  {
   "cell_type": "code",
   "execution_count": 38,
   "id": "33c322da-2487-4700-9656-ad1f587d2449",
   "metadata": {},
   "outputs": [
    {
     "name": "stdout",
     "output_type": "stream",
     "text": [
      "add is ufunc\n"
     ]
    }
   ],
   "source": [
    "# Use an if statement to check if the function is a ufunc or not:\n",
    "import numpy as np\n",
    "if type(np.add) == np.ufunc:\n",
    "  print('add is ufunc')\n",
    "else:\n",
    "  print('add is not ufunc')"
   ]
  },
  {
   "cell_type": "markdown",
   "id": "e41ccdf6-9064-4b25-8045-c42743a2aae1",
   "metadata": {},
   "source": [
    "#Simple Arithmetic\n",
    "You could use arithmetic operators + - * / directly between NumPy arrays, but this section discusses an extension of the same where we have functions that can take any array-like objects e.g. lists, tuples etc. and perform arithmetic conditionally."
   ]
  },
  {
   "cell_type": "code",
   "execution_count": 39,
   "id": "63b50f4f-6899-498b-948f-ed6763d9f17e",
   "metadata": {},
   "outputs": [
    {
     "name": "stdout",
     "output_type": "stream",
     "text": [
      "[30 32 34 36 38 40]\n"
     ]
    }
   ],
   "source": [
    "#Addition\n",
    "#The add() function sums the content of two arrays, and return the results in a new array.\n",
    "#Add the values in arr1 to the values in arr2:\n",
    "import numpy as np\n",
    "arr1 = np.array([10, 11, 12, 13, 14, 15])\n",
    "arr2 = np.array([20, 21, 22, 23, 24, 25])\n",
    "newarr = np.add(arr1, arr2)\n",
    "print(newarr)"
   ]
  },
  {
   "cell_type": "code",
   "execution_count": 40,
   "id": "97a01330-a4fa-4438-9546-886e7c2d324f",
   "metadata": {},
   "outputs": [
    {
     "name": "stdout",
     "output_type": "stream",
     "text": [
      "[-10  -1   8  17  26  35]\n"
     ]
    }
   ],
   "source": [
    "#Subtraction\n",
    "#The subtract() function subtracts the values from one array with the values from another array, and return the results in a new array.\n",
    "#Subtract the values in arr2 from the values in arr1:\n",
    "import numpy as np\n",
    "arr1 = np.array([10, 20, 30, 40, 50, 60])\n",
    "arr2 = np.array([20, 21, 22, 23, 24, 25])\n",
    "newarr = np.subtract(arr1, arr2)\n",
    "print(newarr)"
   ]
  },
  {
   "cell_type": "code",
   "execution_count": 41,
   "id": "5ad0afa8-84f9-4857-abc8-dea330fd1586",
   "metadata": {},
   "outputs": [
    {
     "name": "stdout",
     "output_type": "stream",
     "text": [
      "[ 200  420  660  920 1200 1500]\n"
     ]
    }
   ],
   "source": [
    "#Multiplication\n",
    "#The multiply() function multiplies the values from one array with the values from another array, and return the results in a new array.\n",
    "#Multiply the values in arr1 with the values in arr2:\n",
    "import numpy as np\n",
    "arr1 = np.array([10, 20, 30, 40, 50, 60])\n",
    "arr2 = np.array([20, 21, 22, 23, 24, 25])\n",
    "newarr = np.multiply(arr1, arr2)\n",
    "print(newarr)"
   ]
  },
  {
   "cell_type": "code",
   "execution_count": 42,
   "id": "9901bb46-6333-4c22-a0d2-ec5c4161ec01",
   "metadata": {},
   "outputs": [
    {
     "name": "stdout",
     "output_type": "stream",
     "text": [
      "[ 3.33333333  4.          3.          5.         25.          1.81818182]\n"
     ]
    }
   ],
   "source": [
    "#Division\n",
    "#The divide() function divides the values from one array with the values from another array, and return the results in a new array.\n",
    "#Divide the values in arr1 with the values in arr2:\n",
    "import numpy as np\n",
    "arr1 = np.array([10, 20, 30, 40, 50, 60])\n",
    "arr2 = np.array([3, 5, 10, 8, 2, 33])\n",
    "newarr = np.divide(arr1, arr2)\n",
    "print(newarr)"
   ]
  },
  {
   "cell_type": "code",
   "execution_count": 43,
   "id": "6ef33332-abab-4352-9fca-d8ff7be4b1bd",
   "metadata": {},
   "outputs": [
    {
     "name": "stdout",
     "output_type": "stream",
     "text": [
      "[      1000    3200000  729000000 -520093696       2500          0]\n"
     ]
    }
   ],
   "source": [
    "#Power\n",
    "#The power() function rises the values from the first array to the power of the values of the second array, and return the results in a new array.\n",
    "#Raise the valules in arr1 to the power of values in arr2:\n",
    "import numpy as np\n",
    "arr1 = np.array([10, 20, 30, 40, 50, 60])\n",
    "arr2 = np.array([3, 5, 6, 8, 2, 33])\n",
    "newarr = np.power(arr1, arr2)\n",
    "print(newarr)"
   ]
  },
  {
   "cell_type": "markdown",
   "id": "895097d8-a190-4223-a7ef-4a500bc356de",
   "metadata": {},
   "source": [
    "#Remainder\n",
    "#Both the mod() and the remainder() functions return the remainder of the values in the first array corresponding to the values in the second array, and return the results in a new array."
   ]
  },
  {
   "cell_type": "code",
   "execution_count": 44,
   "id": "68446896-8820-4c82-af97-29cb0fc14ee8",
   "metadata": {},
   "outputs": [
    {
     "name": "stdout",
     "output_type": "stream",
     "text": [
      "[ 1  6  3  0  0 27]\n"
     ]
    }
   ],
   "source": [
    "#Return the remainders:\n",
    "import numpy as np\n",
    "arr1 = np.array([10, 20, 30, 40, 50, 60])\n",
    "arr2 = np.array([3, 7, 9, 8, 2, 33])\n",
    "newarr = np.mod(arr1, arr2)\n",
    "print(newarr)"
   ]
  },
  {
   "cell_type": "code",
   "execution_count": 45,
   "id": "17bd5f0b-da6b-41c0-b971-c9b9cfb06e58",
   "metadata": {},
   "outputs": [
    {
     "name": "stdout",
     "output_type": "stream",
     "text": [
      "[ 1  6  3  0  0 27]\n"
     ]
    }
   ],
   "source": [
    "#You get the same result when using the remainder() function:\n",
    "#Return the remainders:\n",
    "import numpy as np\n",
    "arr1 = np.array([10, 20, 30, 40, 50, 60])\n",
    "arr2 = np.array([3, 7, 9, 8, 2, 33])\n",
    "newarr = np.remainder(arr1, arr2)\n",
    "print(newarr)"
   ]
  },
  {
   "cell_type": "markdown",
   "id": "ce5aff14-80fd-4a0f-8df7-a0aae9e9c1cc",
   "metadata": {},
   "source": [
    "#Quotient and Mod\n",
    "#The divmod() function return both the quotient and the the mod. The return value is two arrays, the first array contains the quotient and second array contains the mod."
   ]
  },
  {
   "cell_type": "code",
   "execution_count": 46,
   "id": "c2f25b46-981d-4f76-aaa2-7599b133b73c",
   "metadata": {},
   "outputs": [
    {
     "name": "stdout",
     "output_type": "stream",
     "text": [
      "(array([ 3,  2,  3,  5, 25,  1]), array([ 1,  6,  3,  0,  0, 27]))\n"
     ]
    }
   ],
   "source": [
    "#Return the quotient and mod:\n",
    "import numpy as np\n",
    "arr1 = np.array([10, 20, 30, 40, 50, 60])\n",
    "arr2 = np.array([3, 7, 9, 8, 2, 33])\n",
    "newarr = np.divmod(arr1, arr2)\n",
    "print(newarr)"
   ]
  },
  {
   "cell_type": "markdown",
   "id": "b75ac577-04ee-463d-a09a-a78b4201db00",
   "metadata": {},
   "source": [
    "#Absolute Values\n",
    "#Both the absolute() and the abs() functions do the same absolute operation element-wise but we should use absolute() to avoid confusion with python's inbuilt math.abs()"
   ]
  },
  {
   "cell_type": "code",
   "execution_count": 47,
   "id": "d4666e5b-d71b-4f83-85e7-8c94e686092d",
   "metadata": {},
   "outputs": [
    {
     "name": "stdout",
     "output_type": "stream",
     "text": [
      "[1 2 1 2 3 4]\n"
     ]
    }
   ],
   "source": [
    "#Return the quotient and mod:\n",
    "import numpy as np\n",
    "arr = np.array([-1, -2, 1, 2, 3, -4])\n",
    "newarr = np.absolute(arr)\n",
    "print(newarr)"
   ]
  },
  {
   "cell_type": "markdown",
   "id": "b43bff5b-35fb-4cb9-b055-c36794ceee0f",
   "metadata": {},
   "source": [
    "#Rounding Decimals\n",
    "#There are primarily five ways of rounding off decimals in NumPy:\n",
    "truncation\n",
    "fix\n",
    "rounding\n",
    "floor\n",
    "ceil"
   ]
  },
  {
   "cell_type": "code",
   "execution_count": 49,
   "id": "b4c4ff6d-3d86-421f-9ccb-e99353083330",
   "metadata": {},
   "outputs": [
    {
     "name": "stdout",
     "output_type": "stream",
     "text": [
      "[-3.  3.]\n"
     ]
    }
   ],
   "source": [
    "#Truncation\n",
    "#Remove the decimals, and return the float number closest to zero. Use the trunc() and fix() functions.\n",
    "#Truncate elements of following array:\n",
    "import numpy as np\n",
    "arr = np.trunc([-3.1666, 3.6667])\n",
    "print(arr)"
   ]
  },
  {
   "cell_type": "code",
   "execution_count": 50,
   "id": "e22e7fd7-fed9-4662-bdd6-091ed4aed219",
   "metadata": {},
   "outputs": [
    {
     "name": "stdout",
     "output_type": "stream",
     "text": [
      "[-3.  3.]\n"
     ]
    }
   ],
   "source": [
    "#Same example, using fix():\n",
    "import numpy as np\n",
    "arr = np.fix([-3.1666, 3.6667])\n",
    "print(arr)"
   ]
  },
  {
   "cell_type": "code",
   "execution_count": 51,
   "id": "43e0a750-eb77-433f-804c-5c5c8a9c57fe",
   "metadata": {},
   "outputs": [
    {
     "name": "stdout",
     "output_type": "stream",
     "text": [
      "3.17\n"
     ]
    }
   ],
   "source": [
    "#Rounding\n",
    "#The around() function increments preceding digit or decimal by 1 if >=5 else do nothing.\n",
    "#Round off 3.1666 to 2 decimal places:\n",
    "import numpy as np\n",
    "arr = np.around(3.1666, 2)\n",
    "print(arr)"
   ]
  },
  {
   "cell_type": "code",
   "execution_count": 1,
   "id": "5310dd9a-1ab6-4c9e-8b3d-fbc090732a9e",
   "metadata": {},
   "outputs": [
    {
     "name": "stdout",
     "output_type": "stream",
     "text": [
      "3.17\n"
     ]
    }
   ],
   "source": [
    "#Rounding\n",
    "#The around() function increments preceding digit or decimal by 1 if >=5 else do nothing.\n",
    "#Round off 3.1666 to 2 decimal places:\n",
    "import numpy as np\n",
    "arr = np.around(3.1666, 2)\n",
    "print(arr)"
   ]
  },
  {
   "cell_type": "code",
   "execution_count": 2,
   "id": "415aa693-2814-46ed-a819-92bf085eecc3",
   "metadata": {},
   "outputs": [
    {
     "name": "stdout",
     "output_type": "stream",
     "text": [
      "[-4.  3.]\n"
     ]
    }
   ],
   "source": [
    "# Floor\n",
    "# The floor() function rounds off decimal to nearest lower integer.\n",
    "#Floor the elements of following array:\n",
    "import numpy as np\n",
    "arr = np.floor([-3.1666, 3.6667])\n",
    "print(arr)"
   ]
  },
  {
   "cell_type": "code",
   "execution_count": 3,
   "id": "e6e2739a-fc88-48ef-8026-2efdac532def",
   "metadata": {},
   "outputs": [
    {
     "name": "stdout",
     "output_type": "stream",
     "text": [
      "[-3.  4.]\n"
     ]
    }
   ],
   "source": [
    "#Ceil\n",
    "#The ceil() function rounds off decimal to nearest upper integer.\n",
    "#Ceil the elements of following array:\n",
    "import numpy as np\n",
    "arr = np.ceil([-3.1666, 3.6667])\n",
    "print(arr)"
   ]
  },
  {
   "cell_type": "code",
   "execution_count": null,
   "id": "751c5912-9bc0-46b6-aa3d-2cccddf7d86e",
   "metadata": {},
   "outputs": [],
   "source": [
    "#NumPy Logs\n",
    "#Logs\n",
    "NumPy provides functions to perform log at the base 2, e and 10.\n",
    "We will also explore how we can take log for any base by creating a custom ufunc.\n",
    "All of the log functions will place -inf or inf in the elements if the log can not be computed."
   ]
  },
  {
   "cell_type": "code",
   "execution_count": 4,
   "id": "44b84172-5f99-4cf2-a15a-8e3a194d371b",
   "metadata": {},
   "outputs": [
    {
     "name": "stdout",
     "output_type": "stream",
     "text": [
      "[0.         1.         1.5849625  2.         2.32192809 2.5849625\n",
      " 2.80735492 3.         3.169925  ]\n"
     ]
    }
   ],
   "source": [
    "#Log at Base 2\n",
    "#Use the log2() function to perform log at the base 2.\n",
    "#Find log at base 2 of all elements of following array:\n",
    "import numpy as np\n",
    "arr = np.arange(1, 10)\n",
    "print(np.log2(arr))"
   ]
  },
  {
   "cell_type": "code",
   "execution_count": 5,
   "id": "6ab36a07-2fcc-4229-8d80-e6504baa9494",
   "metadata": {},
   "outputs": [
    {
     "name": "stdout",
     "output_type": "stream",
     "text": [
      "[0.         0.30103    0.47712125 0.60205999 0.69897    0.77815125\n",
      " 0.84509804 0.90308999 0.95424251]\n"
     ]
    }
   ],
   "source": [
    "#Log at Base 10\n",
    "#Use the log10() function to perform log at the base 10.\n",
    "#Find log at base 10 of all elements of following array:\n",
    "import numpy as np\n",
    "arr = np.arange(1, 10)\n",
    "print(np.log10(arr))"
   ]
  },
  {
   "cell_type": "code",
   "execution_count": 6,
   "id": "04f0eed3-4bcb-4bcb-8a3a-39db0d375a8a",
   "metadata": {},
   "outputs": [
    {
     "name": "stdout",
     "output_type": "stream",
     "text": [
      "[0.         0.69314718 1.09861229 1.38629436 1.60943791 1.79175947\n",
      " 1.94591015 2.07944154 2.19722458]\n"
     ]
    }
   ],
   "source": [
    "#Natural Log, or Log at Base e\n",
    "#Use the log() function to perform log at the base e.\n",
    "#Find log at base e of all elements of following array:\n",
    "import numpy as np\n",
    "arr = np.arange(1, 10)\n",
    "print(np.log(arr))"
   ]
  },
  {
   "cell_type": "code",
   "execution_count": 7,
   "id": "8d0c6901-06b4-40e7-b852-998c725bfbd7",
   "metadata": {},
   "outputs": [
    {
     "name": "stdout",
     "output_type": "stream",
     "text": [
      "1.7005483074552052\n"
     ]
    }
   ],
   "source": [
    "#Log at Any Base\n",
    "#NumPy does not provide any function to take log at any base, so we can use the frompyfunc() function along with inbuilt function math.log() with two input parameters and one output parameter:\n",
    "from math import log\n",
    "import numpy as np\n",
    "nplog = np.frompyfunc(log, 2, 1)\n",
    "print(nplog(100, 15))"
   ]
  },
  {
   "cell_type": "markdown",
   "id": "f2cdce2e-b923-4c36-a7ad-46b077e7834d",
   "metadata": {},
   "source": [
    "#NumPy Summations\n",
    "#Summations\n",
    "#What is the difference between summation and addition?\n",
    "Addition is done between two arguments whereas summation happens over n elements."
   ]
  },
  {
   "cell_type": "code",
   "execution_count": 8,
   "id": "19d3cfc1-8a19-43ed-99ad-031563b72932",
   "metadata": {},
   "outputs": [
    {
     "name": "stdout",
     "output_type": "stream",
     "text": [
      "[2 4 6]\n"
     ]
    }
   ],
   "source": [
    "#Add the values in arr1 to the values in arr2:\n",
    "import numpy as np\n",
    "arr1 = np.array([1, 2, 3])\n",
    "arr2 = np.array([1, 2, 3])\n",
    "newarr = np.add(arr1, arr2)\n",
    "print(newarr)"
   ]
  },
  {
   "cell_type": "code",
   "execution_count": 9,
   "id": "61ea4a1e-ac8d-47a7-abf0-7e17642eb758",
   "metadata": {},
   "outputs": [
    {
     "name": "stdout",
     "output_type": "stream",
     "text": [
      "12\n"
     ]
    }
   ],
   "source": [
    "#Sum the values in arr1 and the values in arr2:\n",
    "import numpy as np\n",
    "arr1 = np.array([1, 2, 3])\n",
    "arr2 = np.array([1, 2, 3])\n",
    "newarr = np.sum([arr1, arr2])\n",
    "print(newarr)"
   ]
  },
  {
   "cell_type": "code",
   "execution_count": 10,
   "id": "869f1c7d-5b96-41ae-902f-a75d025ec9cb",
   "metadata": {},
   "outputs": [
    {
     "name": "stdout",
     "output_type": "stream",
     "text": [
      "[6 6]\n"
     ]
    }
   ],
   "source": [
    "#Summation Over an Axis\n",
    "#If you specify axis=1, NumPy will sum the numbers in each array.\n",
    "#Perform summation in the following array over 1st axis:\n",
    "import numpy as np\n",
    "arr1 = np.array([1, 2, 3])\n",
    "arr2 = np.array([1, 2, 3])\n",
    "newarr = np.sum([arr1, arr2], axis=1)\n",
    "print(newarr)"
   ]
  },
  {
   "cell_type": "code",
   "execution_count": 11,
   "id": "3b402cd4-946b-49fa-8098-c8cadeced73f",
   "metadata": {},
   "outputs": [
    {
     "name": "stdout",
     "output_type": "stream",
     "text": [
      "[1 3 6]\n"
     ]
    }
   ],
   "source": [
    "#Cummulative Sum\n",
    "#Cummulative sum means partially adding the elements in array.\n",
    "#Perfom partial sum with the cumsum() function.\n",
    "import numpy as np\n",
    "arr = np.array([1, 2, 3])\n",
    "newarr = np.cumsum(arr)\n",
    "print(newarr)"
   ]
  },
  {
   "cell_type": "code",
   "execution_count": 12,
   "id": "4a07bfd9-80ff-4426-be2b-a3c45a2b4f03",
   "metadata": {},
   "outputs": [
    {
     "name": "stdout",
     "output_type": "stream",
     "text": [
      "24\n"
     ]
    }
   ],
   "source": [
    "#NumPy Products\n",
    "#To find the product of the elements in an array, use the prod() function.\n",
    "import numpy as np\n",
    "arr = np.array([1, 2, 3, 4])\n",
    "x = np.prod(arr)\n",
    "print(x)"
   ]
  },
  {
   "cell_type": "code",
   "execution_count": 13,
   "id": "d6463457-8d6f-493d-8111-ab25f75d20c1",
   "metadata": {},
   "outputs": [
    {
     "name": "stdout",
     "output_type": "stream",
     "text": [
      "40320\n"
     ]
    }
   ],
   "source": [
    "#Find the product of the elements of two arrays:\n",
    "import numpy as np\n",
    "arr1 = np.array([1, 2, 3, 4])\n",
    "arr2 = np.array([5, 6, 7, 8])\n",
    "x = np.prod([arr1, arr2])\n",
    "print(x)"
   ]
  },
  {
   "cell_type": "code",
   "execution_count": 14,
   "id": "3514da9b-3594-4424-b642-83cfd7ad4e74",
   "metadata": {},
   "outputs": [
    {
     "name": "stdout",
     "output_type": "stream",
     "text": [
      "[  24 1680]\n"
     ]
    }
   ],
   "source": [
    "#Product Over an Axis\n",
    "#If you specify axis=1, NumPy will return the product of each array.\n",
    "#Perform summation in the following array over 1st axis:\n",
    "import numpy as np\n",
    "arr1 = np.array([1, 2, 3, 4])\n",
    "arr2 = np.array([5, 6, 7, 8])\n",
    "newarr = np.prod([arr1, arr2], axis=1)\n",
    "print(newarr)"
   ]
  },
  {
   "cell_type": "code",
   "execution_count": 15,
   "id": "2330e697-0731-42d7-88e1-d3913211bc40",
   "metadata": {},
   "outputs": [
    {
     "name": "stdout",
     "output_type": "stream",
     "text": [
      "[   5   30  210 1680]\n"
     ]
    }
   ],
   "source": [
    "#Cummulative Product\n",
    "#Cummulative product means taking the product partially.\n",
    "#Perfom partial sum with the cumprod() function.\n",
    "import numpy as np\n",
    "arr = np.array([5, 6, 7, 8])\n",
    "newarr = np.cumprod(arr)\n",
    "print(newarr)"
   ]
  },
  {
   "cell_type": "code",
   "execution_count": 16,
   "id": "a18c4f3d-3ce5-4676-9b34-52d91397e029",
   "metadata": {},
   "outputs": [
    {
     "name": "stdout",
     "output_type": "stream",
     "text": [
      "[  5  10 -20]\n"
     ]
    }
   ],
   "source": [
    "#NumPy Differences\n",
    "#Differences\n",
    "#A discrete difference means subtracting two successive elements.\n",
    "#E.g. for [1, 2, 3, 4], the discrete difference would be [2-1, 3-2, 4-3] = [1, 1, 1]\n",
    "#To find the discrete difference, use the diff() function.\n",
    "import numpy as np\n",
    "arr = np.array([10, 15, 25, 5])\n",
    "newarr = np.diff(arr)\n",
    "print(newarr)"
   ]
  },
  {
   "cell_type": "code",
   "execution_count": 17,
   "id": "fc781e43-7502-41b0-ae00-abed1b6d853d",
   "metadata": {},
   "outputs": [
    {
     "name": "stdout",
     "output_type": "stream",
     "text": [
      "[  5 -30]\n"
     ]
    }
   ],
   "source": [
    "#Compute discrete difference of the following array twice:\n",
    "import numpy as np\n",
    "arr = np.array([10, 15, 25, 5])\n",
    "newarr = np.diff(arr, n=2)\n",
    "print(newarr)"
   ]
  },
  {
   "cell_type": "code",
   "execution_count": 18,
   "id": "c0c4dd97-a315-43ee-ad4b-27fc96481054",
   "metadata": {},
   "outputs": [
    {
     "name": "stdout",
     "output_type": "stream",
     "text": [
      "12\n"
     ]
    }
   ],
   "source": [
    "#NumPy LCM Lowest Common Multiple\n",
    "#The Lowest Common Multiple is the smallest number that is a common multiple of two numbers.\n",
    "#Find the LCM of the following two numbers:\n",
    "import numpy as np\n",
    "num1 = 4\n",
    "num2 = 6\n",
    "x = np.lcm(num1, num2)\n",
    "print(x)"
   ]
  },
  {
   "cell_type": "code",
   "execution_count": 19,
   "id": "73b9e727-0cec-44dd-b3d3-7064c8c894d0",
   "metadata": {},
   "outputs": [
    {
     "name": "stdout",
     "output_type": "stream",
     "text": [
      "18\n"
     ]
    }
   ],
   "source": [
    "#Finding LCM in Arrays\n",
    "#To find the Lowest Common Multiple of all values in an array, you can use the reduce() method.\n",
    "#Find the LCM of the values of the following array:\n",
    "import numpy as np\n",
    "arr = np.array([3, 6, 9])\n",
    "x = np.lcm.reduce(arr)\n",
    "print(x)"
   ]
  },
  {
   "cell_type": "code",
   "execution_count": 20,
   "id": "2d382d40-ca82-48f9-8401-ff814bb85296",
   "metadata": {},
   "outputs": [
    {
     "name": "stdout",
     "output_type": "stream",
     "text": [
      "2520\n"
     ]
    }
   ],
   "source": [
    "#Find the LCM of all values of an array where the array contains all integers from 1 to 10:\n",
    "import numpy as np\n",
    "arr = np.arange(1, 11)\n",
    "x = np.lcm.reduce(arr)\n",
    "print(x)"
   ]
  },
  {
   "cell_type": "markdown",
   "id": "2cc914e2-dc25-4cfc-91ae-c043331fbb05",
   "metadata": {},
   "source": [
    "#NumPy GCD Greatest Common Denominator\n",
    "#The GCD (Greatest Common Denominator), also known as HCF (Highest Common Factor) is the biggest number that is a common factor of both of the numbers."
   ]
  },
  {
   "cell_type": "code",
   "execution_count": 21,
   "id": "53a6b9c5-aef2-43a9-abe8-d47e960c8adc",
   "metadata": {},
   "outputs": [
    {
     "name": "stdout",
     "output_type": "stream",
     "text": [
      "3\n"
     ]
    }
   ],
   "source": [
    "#Find the HCF of the following two numbers:\n",
    "import numpy as np\n",
    "num1 = 6\n",
    "num2 = 9\n",
    "x = np.gcd(num1, num2)\n",
    "print(x)"
   ]
  },
  {
   "cell_type": "code",
   "execution_count": 22,
   "id": "b993140a-c828-409f-93a0-2703be1507d3",
   "metadata": {},
   "outputs": [
    {
     "name": "stdout",
     "output_type": "stream",
     "text": [
      "4\n"
     ]
    }
   ],
   "source": [
    "#Finding GCD in Arrays\n",
    "#To find the Highest Common Factor of all values in an array, you can use the reduce() method.\n",
    "#Find the GCD for all of the numbers in the following array:\n",
    "import numpy as np\n",
    "arr = np.array([20, 8, 32, 36, 16])\n",
    "x = np.gcd.reduce(arr)\n",
    "print(x)"
   ]
  },
  {
   "cell_type": "code",
   "execution_count": 3,
   "id": "36f69835-c045-43c9-857d-0591f508af78",
   "metadata": {},
   "outputs": [
    {
     "name": "stdout",
     "output_type": "stream",
     "text": [
      "1.0\n"
     ]
    }
   ],
   "source": [
    "#NumPy Trigonometric Functions\n",
    "#Trigonometric Functions\n",
    "#NumPy provides the ufuncs sin(), cos() and tan() that take values in radians and produce the corresponding sin, cos and tan values.\n",
    "#Find sine value of PI/2:\n",
    "import numpy as np\n",
    "x = np.sin(np.pi/2)\n",
    "print(x)"
   ]
  },
  {
   "cell_type": "code",
   "execution_count": 4,
   "id": "4f5bbb8e-27ba-4c7d-a762-0ed0dc786c48",
   "metadata": {},
   "outputs": [
    {
     "name": "stdout",
     "output_type": "stream",
     "text": [
      "[1.         0.8660254  0.70710678 0.58778525]\n"
     ]
    }
   ],
   "source": [
    "#Find sine values for all of the values in arr:\n",
    "import numpy as np\n",
    "arr = np.array([np.pi/2, np.pi/3, np.pi/4, np.pi/5])\n",
    "x = np.sin(arr)\n",
    "print(x)"
   ]
  },
  {
   "cell_type": "code",
   "execution_count": 5,
   "id": "6ee9ba59-f6d3-49ef-ad20-16487c7d91e4",
   "metadata": {},
   "outputs": [
    {
     "name": "stdout",
     "output_type": "stream",
     "text": [
      "[1.57079633 3.14159265 4.71238898 6.28318531]\n"
     ]
    }
   ],
   "source": [
    "# Convert Degrees Into Radians\n",
    "#radians values are pi/180 * degree_values.\n",
    "#Convert all of the values in following array arr to radians:\n",
    "import numpy as np\n",
    "arr = np.array([90, 180, 270, 360])\n",
    "x = np.deg2rad(arr)\n",
    "print(x)"
   ]
  },
  {
   "cell_type": "code",
   "execution_count": 6,
   "id": "a48fab27-55b5-4ae5-8116-d0626c99b97d",
   "metadata": {},
   "outputs": [
    {
     "name": "stdout",
     "output_type": "stream",
     "text": [
      "[ 90. 180. 270. 360.]\n"
     ]
    }
   ],
   "source": [
    "# Radians to Degrees\n",
    "#Convert all of the values in following array arr to degrees:\n",
    "import numpy as np\n",
    "arr = np.array([np.pi/2, np.pi, 1.5*np.pi, 2*np.pi])\n",
    "x = np.rad2deg(arr)\n",
    "print(x)"
   ]
  },
  {
   "cell_type": "code",
   "execution_count": 7,
   "id": "10f51e0a-19da-405b-8f79-59ad10c80f3f",
   "metadata": {},
   "outputs": [
    {
     "name": "stdout",
     "output_type": "stream",
     "text": [
      "1.5707963267948966\n"
     ]
    }
   ],
   "source": [
    "#Finding Angles\n",
    "#Finding angles from values of sine, cos, tan. E.g. sin, cos and tan inverse (arcsin, arccos, arctan).\n",
    "#NumPy provides ufuncs arcsin(), arccos() and arctan() that produce radian values for corresponding sin, cos and tan values given.\n",
    "#Find the angle of 1.0:\n",
    "import numpy as np\n",
    "x = np.arcsin(1.0)\n",
    "print(x)"
   ]
  },
  {
   "cell_type": "code",
   "execution_count": 8,
   "id": "d7cc6ee4-dc2b-468d-9959-8e3e1619cbaf",
   "metadata": {},
   "outputs": [
    {
     "name": "stdout",
     "output_type": "stream",
     "text": [
      "[ 1.57079633 -1.57079633  0.10016742]\n"
     ]
    }
   ],
   "source": [
    "#Angles of Each Value in Arrays\n",
    "#Find the angle for all of the sine values in the array\n",
    "import numpy as np\n",
    "arr = np.array([1, -1, 0.1])\n",
    "x = np.arcsin(arr)\n",
    "print(x)"
   ]
  },
  {
   "cell_type": "code",
   "execution_count": 9,
   "id": "2475a3d3-fd85-4dc5-8bc1-c84ff35cfd80",
   "metadata": {},
   "outputs": [
    {
     "name": "stdout",
     "output_type": "stream",
     "text": [
      "5.0\n"
     ]
    }
   ],
   "source": [
    "#Hypotenues\n",
    "#Finding hypotenues using pythagoras theorem in NumPy.\n",
    "#NumPy provides the hypot() function that takes the base and perpendicular values and produces hypotenues based on pythagoras theorem.\n",
    "#Find the hypotenues for 4 base and 3 perpendicular:\n",
    "import numpy as np\n",
    "base = 3\n",
    "perp = 4\n",
    "x = np.hypot(base, perp)\n",
    "print(x)"
   ]
  },
  {
   "cell_type": "markdown",
   "id": "40fcc48b-dd41-4608-8c6a-dd151618ac47",
   "metadata": {},
   "source": [
    "#NumPy Hyperbolic Functions\n",
    "#Hyperbolic Functions\n",
    "NumPy provides the ufuncs sinh(), cosh() and tanh() that take values in radians and produce the corresponding sinh, cosh and tanh values."
   ]
  },
  {
   "cell_type": "code",
   "execution_count": 10,
   "id": "d905e301-ecf5-4811-b878-b08f59c152e9",
   "metadata": {},
   "outputs": [
    {
     "name": "stdout",
     "output_type": "stream",
     "text": [
      "2.3012989023072947\n"
     ]
    }
   ],
   "source": [
    "#Find sinh value of PI/2:\n",
    "import numpy as np\n",
    "x = np.sinh(np.pi/2)\n",
    "print(x)"
   ]
  },
  {
   "cell_type": "code",
   "execution_count": 11,
   "id": "3f54eba9-ee83-48ae-9c9b-0b78eff237d7",
   "metadata": {},
   "outputs": [
    {
     "name": "stdout",
     "output_type": "stream",
     "text": [
      "[2.50917848 1.60028686 1.32460909 1.20397209]\n"
     ]
    }
   ],
   "source": [
    "#Find cosh values for all of the values in arr:\n",
    "import numpy as np\n",
    "arr = np.array([np.pi/2, np.pi/3, np.pi/4, np.pi/5])\n",
    "x = np.cosh(arr)\n",
    "print(x)"
   ]
  },
  {
   "cell_type": "code",
   "execution_count": 12,
   "id": "124a4239-e533-495c-999a-bde518f39c45",
   "metadata": {},
   "outputs": [
    {
     "name": "stdout",
     "output_type": "stream",
     "text": [
      "0.881373587019543\n"
     ]
    }
   ],
   "source": [
    "#Finding Angles\n",
    "#Finding angles from values of hyperbolic sine, cos, tan. E.g. sinh, cosh and tanh inverse (arcsinh, arccosh, arctanh).\n",
    "#Numpy provides ufuncs arcsinh(), arccosh() and arctanh() that produce radian values for corresponding sinh, cosh and tanh values given.\n",
    "#Find the angle of 1.0:\n",
    "import numpy as np\n",
    "x = np.arcsinh(1.0)\n",
    "print(x)"
   ]
  },
  {
   "cell_type": "code",
   "execution_count": 13,
   "id": "23fc3c8f-85ed-4435-8cd4-b1f9c7adc3f6",
   "metadata": {},
   "outputs": [
    {
     "name": "stdout",
     "output_type": "stream",
     "text": [
      "[0.10033535 0.20273255 0.54930614]\n"
     ]
    }
   ],
   "source": [
    "#Angles of Each Value in Arrays\n",
    "#Find the angle for all of the tanh values in array:\n",
    "import numpy as np\n",
    "arr = np.array([0.1, 0.2, 0.5])\n",
    "x = np.arctanh(arr)\n",
    "print(x)"
   ]
  },
  {
   "cell_type": "markdown",
   "id": "fdd5b1b0-f229-4e4b-87d2-93b811c5cf0e",
   "metadata": {},
   "source": [
    "#NumPy Set Operations\n",
    "#What is a Set\n",
    "A set in mathematics is a collection of unique elements.\n",
    "Sets are used for operations involving frequent intersection, union and difference operations.\n",
    "#Create Sets in NumPy\n",
    "We can use NumPy's unique() method to find unique elements from any array. E.g. create a set array, but remember that the set arrays should only be 1-D arrays."
   ]
  },
  {
   "cell_type": "code",
   "execution_count": 14,
   "id": "3d5c55a5-1a0f-4725-a3d1-d98bdc1bb9a4",
   "metadata": {},
   "outputs": [
    {
     "name": "stdout",
     "output_type": "stream",
     "text": [
      "[1 2 3 4 5 6 7]\n"
     ]
    }
   ],
   "source": [
    "#Convert following array with repeated elements to a set:\n",
    "import numpy as np\n",
    "arr = np.array([1, 1, 1, 2, 3, 4, 5, 5, 6, 7])\n",
    "x = np.unique(arr)\n",
    "print(x)"
   ]
  },
  {
   "cell_type": "code",
   "execution_count": 15,
   "id": "38589c15-bf34-4221-ac2c-d96417e43a4a",
   "metadata": {},
   "outputs": [
    {
     "name": "stdout",
     "output_type": "stream",
     "text": [
      "[1 2 3 4 5 6]\n"
     ]
    }
   ],
   "source": [
    "#Finding Union\n",
    "#To find the unique values of two arrays, use the union1d() method.\n",
    "#Find union of the following two set arrays:\n",
    "import numpy as np\n",
    "arr1 = np.array([1, 2, 3, 4])\n",
    "arr2 = np.array([3, 4, 5, 6])\n",
    "newarr = np.union1d(arr1, arr2)\n",
    "print(newarr)"
   ]
  },
  {
   "cell_type": "code",
   "execution_count": 16,
   "id": "a586fd76-68b0-4fb7-8648-0f9b2363ea6f",
   "metadata": {},
   "outputs": [
    {
     "name": "stdout",
     "output_type": "stream",
     "text": [
      "[3 4]\n"
     ]
    }
   ],
   "source": [
    "#Finding Intersection\n",
    "#To find only the values that are present in both arrays, use the intersect1d() method.\n",
    "#Find intersection of the following two set arrays:\n",
    "import numpy as np\n",
    "arr1 = np.array([1, 2, 3, 4])\n",
    "arr2 = np.array([3, 4, 5, 6])\n",
    "newarr = np.intersect1d(arr1, arr2, assume_unique=True)\n",
    "print(newarr)"
   ]
  },
  {
   "cell_type": "code",
   "execution_count": 17,
   "id": "cc181db5-4438-420a-bdf7-281a881978dc",
   "metadata": {},
   "outputs": [
    {
     "name": "stdout",
     "output_type": "stream",
     "text": [
      "[1 2]\n"
     ]
    }
   ],
   "source": [
    "#Finding Difference\n",
    "#To find only the values in the first set that is NOT present in the seconds set, use the setdiff1d() method.\n",
    "#Find the difference of the set1 from set2:\n",
    "import numpy as np\n",
    "set1 = np.array([1, 2, 3, 4])\n",
    "set2 = np.array([3, 4, 5, 6])\n",
    "newarr = np.setdiff1d(set1, set2, assume_unique=True)\n",
    "print(newarr)"
   ]
  },
  {
   "cell_type": "code",
   "execution_count": 18,
   "id": "6d18947b-72c9-4929-8adf-dd4b4282f01c",
   "metadata": {},
   "outputs": [
    {
     "name": "stdout",
     "output_type": "stream",
     "text": [
      "[1 2 5 6]\n"
     ]
    }
   ],
   "source": [
    "#Finding Symmetric Difference\n",
    "#To find only the values that are NOT present in BOTH sets, use the setxor1d() method.\n",
    "#Find the symmetric difference of the set1 and set2:\n",
    "import numpy as np\n",
    "set1 = np.array([1, 2, 3, 4])\n",
    "set2 = np.array([3, 4, 5, 6])\n",
    "newarr = np.setxor1d(set1, set2, assume_unique=True)\n",
    "print(newarr)"
   ]
  },
  {
   "cell_type": "code",
   "execution_count": null,
   "id": "7b5e0eb5-58ac-4899-9025-2c7f1a3b1488",
   "metadata": {},
   "outputs": [],
   "source": []
  }
 ],
 "metadata": {
  "kernelspec": {
   "display_name": "Python 3 (ipykernel)",
   "language": "python",
   "name": "python3"
  },
  "language_info": {
   "codemirror_mode": {
    "name": "ipython",
    "version": 3
   },
   "file_extension": ".py",
   "mimetype": "text/x-python",
   "name": "python",
   "nbconvert_exporter": "python",
   "pygments_lexer": "ipython3",
   "version": "3.11.7"
  }
 },
 "nbformat": 4,
 "nbformat_minor": 5
}
