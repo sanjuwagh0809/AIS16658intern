{
 "cells": [
  {
   "cell_type": "markdown",
   "id": "1595ae7c-1e86-40d4-b075-87fb69bd24b0",
   "metadata": {},
   "source": [
    "# Tuple \n",
    "Tuples are used to store multiple items in a single variable. Tuple is one of 4 built-in data types in python used to store collections of data , the other 3 are List,Set, and Dictionary ,all with different qualities and usage. Tuple items are ordered , unchangeable,and allow duplicate values. Tuple items are indexed , the first item has index [0], the second item has index [1] etc."
   ]
  },
  {
   "cell_type": "code",
   "execution_count": 1,
   "id": "4c2f9c18-eaeb-48f8-a735-526ff44978aa",
   "metadata": {},
   "outputs": [
    {
     "name": "stdout",
     "output_type": "stream",
     "text": [
      "('Book', 'Notebook', 'Book', 'Pen')\n"
     ]
    }
   ],
   "source": [
    "tuple = (\"Book\",\"Notebook\",\"Book\",\"Pen\")\n",
    "print(tuple)"
   ]
  },
  {
   "cell_type": "code",
   "execution_count": 2,
   "id": "8874f31c-f4d8-47ad-bf34-7b56b8ae907f",
   "metadata": {},
   "outputs": [
    {
     "name": "stdout",
     "output_type": "stream",
     "text": [
      "4\n"
     ]
    }
   ],
   "source": [
    "print(len(tuple))"
   ]
  },
  {
   "cell_type": "code",
   "execution_count": 3,
   "id": "9fcd9483-0dff-4096-bac5-ee9612b20f30",
   "metadata": {},
   "outputs": [
    {
     "name": "stdout",
     "output_type": "stream",
     "text": [
      "<class 'tuple'>\n"
     ]
    }
   ],
   "source": [
    "print(type(tuple))"
   ]
  },
  {
   "cell_type": "code",
   "execution_count": 4,
   "id": "95de5f06-228a-4992-9209-ca28228f03c8",
   "metadata": {},
   "outputs": [
    {
     "data": {
      "text/plain": [
       "2"
      ]
     },
     "execution_count": 4,
     "metadata": {},
     "output_type": "execute_result"
    }
   ],
   "source": [
    "# count \n",
    "tuple.count(\"Book\")"
   ]
  },
  {
   "cell_type": "code",
   "execution_count": 5,
   "id": "36ec611f-ab4b-48c8-aeed-f0839f19b655",
   "metadata": {},
   "outputs": [
    {
     "data": {
      "text/plain": [
       "3"
      ]
     },
     "execution_count": 5,
     "metadata": {},
     "output_type": "execute_result"
    }
   ],
   "source": [
    "#index\n",
    "tuple.index(\"Pen\")"
   ]
  },
  {
   "cell_type": "code",
   "execution_count": null,
   "id": "6df5a026-4bcd-4e25-bc99-ec0a66318786",
   "metadata": {},
   "outputs": [],
   "source": []
  }
 ],
 "metadata": {
  "kernelspec": {
   "display_name": "Python 3 (ipykernel)",
   "language": "python",
   "name": "python3"
  },
  "language_info": {
   "codemirror_mode": {
    "name": "ipython",
    "version": 3
   },
   "file_extension": ".py",
   "mimetype": "text/x-python",
   "name": "python",
   "nbconvert_exporter": "python",
   "pygments_lexer": "ipython3",
   "version": "3.11.7"
  }
 },
 "nbformat": 4,
 "nbformat_minor": 5
}
