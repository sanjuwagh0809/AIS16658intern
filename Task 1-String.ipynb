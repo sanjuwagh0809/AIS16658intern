{
 "cells": [
  {
   "cell_type": "markdown",
   "id": "43decd46-66cb-4eb7-ad32-01e9bd174edb",
   "metadata": {},
   "source": [
    "# Strings\n",
    " The string data type is used to represent text data. It is a sequence of characters enclosed in either single quotes (') or double quotes (\"). Here are some key points about strings in Python\n",
    "*Immutable: Once a string is created, it cannot be modified. However, you can create a new string by concatenating two or more strings.\n",
    "*Character Encoding: Strings in Python are represented as arrays of bytes, with each byte corresponding to a Unicode character. Python does not have a separate character data type; a single character is simply a string with a length of 1.\n",
    "*Accessing Elements: You can access individual characters within a string using square brackets ([]). For example, my_string[0] gives you the first character of the string.\n",
    "String Concatenation: You can concatenate strings using the + operator."
   ]
  },
  {
   "cell_type": "code",
   "execution_count": 2,
   "id": "bf68c7e9-87eb-45d0-a88c-33b7c7b65332",
   "metadata": {},
   "outputs": [
    {
     "name": "stdout",
     "output_type": "stream",
     "text": [
      "String with the use of Single Quotes: \n",
      "Welcome to the new Home\n"
     ]
    }
   ],
   "source": [
    "# Creating a String\n",
    "# with single Quotes\n",
    "String1 = 'Welcome to the new Home'\n",
    "print(\"String with the use of Single Quotes: \")\n",
    "print(String1)"
   ]
  },
  {
   "cell_type": "code",
   "execution_count": 3,
   "id": "65f6ee00-f6e8-4b9e-8e5a-feaa7e5b7ac7",
   "metadata": {},
   "outputs": [
    {
     "name": "stdout",
     "output_type": "stream",
     "text": [
      "\n",
      "String with the use of Double Quotes: \n",
      "I'm a Sanjnan\n"
     ]
    }
   ],
   "source": [
    "# Creating a String\n",
    "# with double Quotes\n",
    "String1 = \"I'm a Sanjnan\"\n",
    "print(\"\\nString with the use of Double Quotes: \")\n",
    "print(String1)"
   ]
  },
  {
   "cell_type": "code",
   "execution_count": null,
   "id": "eb6417c5-61df-4468-b750-c4c0935c26cf",
   "metadata": {},
   "outputs": [],
   "source": []
  }
 ],
 "metadata": {
  "kernelspec": {
   "display_name": "Python 3 (ipykernel)",
   "language": "python",
   "name": "python3"
  },
  "language_info": {
   "codemirror_mode": {
    "name": "ipython",
    "version": 3
   },
   "file_extension": ".py",
   "mimetype": "text/x-python",
   "name": "python",
   "nbconvert_exporter": "python",
   "pygments_lexer": "ipython3",
   "version": "3.11.7"
  }
 },
 "nbformat": 4,
 "nbformat_minor": 5
}
