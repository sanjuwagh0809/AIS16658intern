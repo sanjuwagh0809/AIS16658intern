{
 "cells": [
  {
   "cell_type": "code",
   "execution_count": 1,
   "id": "d19d9ec9-0b30-4ab0-9b6c-64680fb4c858",
   "metadata": {},
   "outputs": [
    {
     "name": "stdout",
     "output_type": "stream",
     "text": [
      "1\n",
      "2\n",
      "3\n",
      "4\n",
      "5\n"
     ]
    }
   ],
   "source": [
    "# while loop\n",
    "# with the while loop we can execute a set of statements as long as a condition is true.\n",
    "i = 1\n",
    "while i < 6:\n",
    "    print(i)\n",
    "    i += 1\n"
   ]
  },
  {
   "cell_type": "code",
   "execution_count": 2,
   "id": "94468ec7-4ef7-4101-ab4e-ba986c7101f9",
   "metadata": {},
   "outputs": [
    {
     "name": "stdout",
     "output_type": "stream",
     "text": [
      "1\n",
      "2\n",
      "3\n"
     ]
    }
   ],
   "source": [
    "a = 1\n",
    "while a < 6:\n",
    "    print(a)\n",
    "    if a ==3:\n",
    "        break\n",
    "    a += 1"
   ]
  },
  {
   "cell_type": "code",
   "execution_count": 3,
   "id": "fda1e2e7-bb6c-4e68-9146-8daa5f7528a9",
   "metadata": {},
   "outputs": [
    {
     "name": "stdout",
     "output_type": "stream",
     "text": [
      "Total: 55\n"
     ]
    }
   ],
   "source": [
    "total = 0\n",
    "i = 1\n",
    "while i <= 10:\n",
    "    total += i\n",
    "    i += 1\n",
    "print(\"Total:\",total)"
   ]
  },
  {
   "cell_type": "code",
   "execution_count": 4,
   "id": "48b9027f-39a0-416b-b17c-ab1f97deb4b9",
   "metadata": {},
   "outputs": [
    {
     "name": "stdin",
     "output_type": "stream",
     "text": [
      "Enter a number: 158\n"
     ]
    },
    {
     "name": "stdout",
     "output_type": "stream",
     "text": [
      "158 is not an Armstrong number\n"
     ]
    }
   ],
   "source": [
    "num = int(input(\"Enter a number:\"))\n",
    "num_digits = len(str(num))\n",
    "temp = num\n",
    "sum = 0\n",
    "while temp > 0:\n",
    "    digit=temp % 10\n",
    "    sum += digit ** num_digits\n",
    "    temp //=10\n",
    "if num == sum:\n",
    "    print(num,\"is an Armsstrong number\")\n",
    "else:\n",
    "    print(num,\"is not an Armstrong number\")\n",
    "          "
   ]
  },
  {
   "cell_type": "code",
   "execution_count": 5,
   "id": "eeeb7c29-23e5-41c2-8ce4-5dcc9ba607c6",
   "metadata": {},
   "outputs": [
    {
     "name": "stdout",
     "output_type": "stream",
     "text": [
      "10\n",
      "9\n",
      "8\n",
      "7\n",
      "6\n",
      "5\n",
      "4\n",
      "3\n",
      "2\n",
      "1\n"
     ]
    }
   ],
   "source": [
    "count = 10\n",
    "while count > 0:\n",
    "    print(count)\n",
    "    count -= 1"
   ]
  },
  {
   "cell_type": "code",
   "execution_count": 8,
   "id": "bc93a764-d6d4-41bc-b430-c205394f6ca5",
   "metadata": {},
   "outputs": [
    {
     "name": "stdin",
     "output_type": "stream",
     "text": [
      "Enter a number: 121\n"
     ]
    },
    {
     "name": "stdout",
     "output_type": "stream",
     "text": [
      "Reversed number: 1\n",
      "Reversed number: 12\n",
      "Reversed number: 121\n"
     ]
    }
   ],
   "source": [
    "num = int(input(\"Enter a number:\"))\n",
    "reverse = 0\n",
    "while num > 0:\n",
    "    digit = num % 10\n",
    "    reverse = reverse * 10 + digit\n",
    "    num //= 10\n",
    "    print(\"Reversed number:\", reverse)\n",
    "    "
   ]
  },
  {
   "cell_type": "code",
   "execution_count": 1,
   "id": "f99189d8-2ef9-45ed-87b3-31ec03f4a7ac",
   "metadata": {},
   "outputs": [
    {
     "name": "stdin",
     "output_type": "stream",
     "text": [
      "Enter a num: 14\n"
     ]
    },
    {
     "name": "stdout",
     "output_type": "stream",
     "text": [
      "871782912000\n"
     ]
    }
   ],
   "source": [
    "fact = 10\n",
    "n=int(input(\"Enter a num:\"))\n",
    "while n>1:\n",
    "    fact=fact*n\n",
    "    n=n-1\n",
    "print(fact)\n"
   ]
  },
  {
   "cell_type": "code",
   "execution_count": 1,
   "id": "735b45c0-1a4d-4f32-8e73-0464eb506bf4",
   "metadata": {},
   "outputs": [
    {
     "name": "stdout",
     "output_type": "stream",
     "text": [
      "4\n",
      "3\n",
      "2\n",
      "1\n"
     ]
    }
   ],
   "source": [
    "n = 4\n",
    "while n > 0:\n",
    "    print(n)\n",
    "    n -= 1"
   ]
  },
  {
   "cell_type": "code",
   "execution_count": 3,
   "id": "c932a0b1-aefe-49a9-89ab-6cda2e041cb8",
   "metadata": {},
   "outputs": [
    {
     "name": "stdout",
     "output_type": "stream",
     "text": [
      "40 is prime : False\n"
     ]
    }
   ],
   "source": [
    "num = 40\n",
    "is_prime = True\n",
    "for i in range(2,num):\n",
    "    if num % i == 0:\n",
    "        is_prime = False\n",
    "        break\n",
    "print(f\"{num} is prime : {is_prime}\")\n",
    "        "
   ]
  },
  {
   "cell_type": "code",
   "execution_count": 4,
   "id": "b0653f9c-e77b-4a85-806c-dd557a112b8a",
   "metadata": {},
   "outputs": [
    {
     "name": "stdin",
     "output_type": "stream",
     "text": [
      "Enter name: sanika\n",
      "Enter name: Rani\n",
      "Enter name: Sanju\n"
     ]
    },
    {
     "name": "stdout",
     "output_type": "stream",
     "text": [
      "Thanks for confirmation \n"
     ]
    }
   ],
   "source": [
    "name=\"\"\n",
    "while name != \"Sanju\":\n",
    "    name = input(\"Enter name:\")\n",
    "print(\"Thanks for confirmation \")\n",
    "    "
   ]
  },
  {
   "cell_type": "code",
   "execution_count": null,
   "id": "aecb182f-5c25-4759-b93a-c5d1b936f451",
   "metadata": {},
   "outputs": [],
   "source": []
  }
 ],
 "metadata": {
  "kernelspec": {
   "display_name": "Python 3 (ipykernel)",
   "language": "python",
   "name": "python3"
  },
  "language_info": {
   "codemirror_mode": {
    "name": "ipython",
    "version": 3
   },
   "file_extension": ".py",
   "mimetype": "text/x-python",
   "name": "python",
   "nbconvert_exporter": "python",
   "pygments_lexer": "ipython3",
   "version": "3.11.7"
  }
 },
 "nbformat": 4,
 "nbformat_minor": 5
}
