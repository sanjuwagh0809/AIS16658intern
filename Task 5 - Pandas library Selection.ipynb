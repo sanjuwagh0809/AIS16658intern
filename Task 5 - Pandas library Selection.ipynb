{
 "cells": [
  {
   "cell_type": "code",
   "execution_count": 3,
   "id": "3b8765e9-a10b-4068-a1d3-aeda94ffbe80",
   "metadata": {},
   "outputs": [
    {
     "name": "stdout",
     "output_type": "stream",
     "text": [
      "0    Sanjana\n",
      "1      Pooja\n",
      "2       Arti\n",
      "3     Poonam\n",
      "Name: Name, dtype: object\n"
     ]
    }
   ],
   "source": [
    "# Selection\n",
    "# Column Selection\n",
    "# Selecting a single Column:\n",
    "import pandas as pd\n",
    "data ={\n",
    "    \"Name\":[\"Sanjana\",\"Pooja\",\"Arti\",\"Poonam\"],\n",
    "    \"Age\":[25,40,32,23],\n",
    "    \"City\":[\"Baramati\",\"Pune\",\"Satara\",\"Sagali\"]\n",
    "    }      \n",
    "df = pd.DataFrame(data)\n",
    "# Selecting a single column\n",
    "name_column = df[\"Name\"]\n",
    "print(name_column)"
   ]
  },
  {
   "cell_type": "code",
   "execution_count": 4,
   "id": "bc206dca-bca4-43d9-8c7a-91a7241050e2",
   "metadata": {},
   "outputs": [
    {
     "name": "stdout",
     "output_type": "stream",
     "text": [
      "      Name  Age\n",
      "0  Sanjana   25\n",
      "1    Pooja   40\n",
      "2     Arti   32\n",
      "3   Poonam   23\n"
     ]
    }
   ],
   "source": [
    "# Selecting multiple columns\n",
    "name_and_age = df[[\"Name\",\"Age\"]]\n",
    "print(name_and_age)"
   ]
  },
  {
   "cell_type": "code",
   "execution_count": 5,
   "id": "59a0cf46-0a1a-450c-b574-8f0949894bc3",
   "metadata": {},
   "outputs": [
    {
     "name": "stdout",
     "output_type": "stream",
     "text": [
      "    Name  Age    City\n",
      "1  Pooja   40    Pune\n",
      "2   Arti   32  Satara\n"
     ]
    }
   ],
   "source": [
    "#Row Selection \n",
    "#Selecting rows by index\n",
    "row_2_to_3 = df.iloc[1:3]\n",
    "print(row_2_to_3)"
   ]
  },
  {
   "cell_type": "code",
   "execution_count": 6,
   "id": "43c53753-f742-45fd-b70c-00db8975099d",
   "metadata": {},
   "outputs": [
    {
     "name": "stdout",
     "output_type": "stream",
     "text": [
      "    Name  Age    City\n",
      "1  Pooja   40    Pune\n",
      "2   Arti   32  Satara\n"
     ]
    }
   ],
   "source": [
    "# Selecting rows based on a condition where Age is greater than 30\n",
    "age_greater_than_30 = df[df[\"Age\"]>30]\n",
    "print(age_greater_than_30)"
   ]
  },
  {
   "cell_type": "code",
   "execution_count": 8,
   "id": "8adba160-925c-4c03-911c-6216cd6e07b2",
   "metadata": {},
   "outputs": [
    {
     "name": "stdout",
     "output_type": "stream",
     "text": [
      "    Name  Age  City\n",
      "1  Pooja   40  Pune\n"
     ]
    }
   ],
   "source": [
    "# Selecting rows where city is \"Pune\"\n",
    "Pune_residents = df[df[\"City\"]==\"Pune\"]\n",
    "print(Pune_residents)"
   ]
  },
  {
   "cell_type": "code",
   "execution_count": 4,
   "id": "4370cc3e-a2f6-477c-8235-203b686b9f32",
   "metadata": {},
   "outputs": [
    {
     "name": "stdout",
     "output_type": "stream",
     "text": [
      "    Name    City\n",
      "1  Pooja    Pune\n",
      "2   Arti  Satara\n"
     ]
    }
   ],
   "source": [
    "import pandas as pd\n",
    "data ={\n",
    "    \"Name\":[\"Sanjana\",\"Pooja\",\"Arti\",\"Poonam\"],\n",
    "    \"Age\":[25,40,32,23],\n",
    "    \"City\":[\"Baramati\",\"Pune\",\"Satara\",\"Sagali\"]\n",
    "    }      \n",
    "df = pd.DataFrame(data)\n",
    "subset_loc = df.loc[1:2,['Name','City']]\n",
    "print(subset_loc)"
   ]
  },
  {
   "cell_type": "code",
   "execution_count": 6,
   "id": "a50b6f5c-db52-443f-9db0-b0e9404c13d8",
   "metadata": {},
   "outputs": [
    {
     "name": "stdout",
     "output_type": "stream",
     "text": [
      "    Name  Age\n",
      "1  Pooja   40\n",
      "2   Arti   32\n"
     ]
    }
   ],
   "source": [
    "subset_iloc = df.iloc[1:3,[0,1]]\n",
    "print(subset_iloc)"
   ]
  },
  {
   "cell_type": "code",
   "execution_count": 8,
   "id": "70eefbf1-514f-4f5b-a1bf-d5528fd590af",
   "metadata": {},
   "outputs": [
    {
     "name": "stdout",
     "output_type": "stream",
     "text": [
      "    Name  Age    City\n",
      "1  Pooja   40    Pune\n",
      "2   Arti   32  Satara\n"
     ]
    }
   ],
   "source": [
    "#condition selection\n",
    "selected_rows = df[df[\"Age\"]>30]\n",
    "print(selected_rows)"
   ]
  },
  {
   "cell_type": "code",
   "execution_count": 9,
   "id": "bfb9d528-3f9f-4e8d-a72b-f17717bc420a",
   "metadata": {},
   "outputs": [
    {
     "name": "stdout",
     "output_type": "stream",
     "text": [
      "Name     Sanjana\n",
      "Age           25\n",
      "City    Baramati\n",
      "Name: 0, dtype: object\n"
     ]
    }
   ],
   "source": [
    "selected_col = df.iloc[0]#selecting row\n",
    "print(selected_col)"
   ]
  },
  {
   "cell_type": "code",
   "execution_count": 11,
   "id": "0a5d4c54-eab3-4ed8-b984-82a23492b656",
   "metadata": {},
   "outputs": [
    {
     "data": {
      "text/plain": [
       "Age       40\n",
       "City    Pune\n",
       "Name: Pooja, dtype: object"
      ]
     },
     "execution_count": 11,
     "metadata": {},
     "output_type": "execute_result"
    }
   ],
   "source": [
    "pooja=df.set_index(\"Name\")\n",
    "row = pooja.loc[\"Pooja\"]\n",
    "row"
   ]
  },
  {
   "cell_type": "code",
   "execution_count": 12,
   "id": "73c0598b-afed-4f71-a144-3bc664874470",
   "metadata": {},
   "outputs": [
    {
     "name": "stdout",
     "output_type": "stream",
     "text": [
      "      Name  Age      City\n",
      "0  Sanjana   23  Baramati\n",
      "1    Pooja   34      Pune\n",
      "2     Arti   19    Satara\n",
      "3   Poonam   25    Sagali\n"
     ]
    }
   ],
   "source": [
    "import pandas as  pd\n",
    "data = {\n",
    "    \"Name\":[\"Sanjana\",\"Pooja\",\"Arti\",\"Poonam\"],\n",
    "    \"Age\":[23,34,19,25],\n",
    "    }\n",
    "df = pd.DataFrame(data)\n",
    "df[\"City\"]=[\"Baramati\",\"Pune\",\"Satara\",\"Sagali\"]\n",
    "print(df)"
   ]
  },
  {
   "cell_type": "code",
   "execution_count": 14,
   "id": "19429427-cdb3-405e-8479-c1d8e4f42260",
   "metadata": {},
   "outputs": [
    {
     "name": "stdout",
     "output_type": "stream",
     "text": [
      "      Name  Age\n",
      "0  Sanjana   23\n",
      "1    Pooja   34\n",
      "2     Arti   19\n",
      "3   Poonam   25\n"
     ]
    }
   ],
   "source": [
    "df.drop(\"City\",axis=1,inplace=True)\n",
    "print(df)"
   ]
  },
  {
   "cell_type": "code",
   "execution_count": 15,
   "id": "928bac8d-a2eb-4865-a33e-1c7e681da9d3",
   "metadata": {},
   "outputs": [
    {
     "name": "stdout",
     "output_type": "stream",
     "text": [
      "      Name  Age\n",
      "0  Sanjana   25\n",
      "1    Pooja   35\n",
      "2     Arti   20\n",
      "3   Poonam   26\n"
     ]
    }
   ],
   "source": [
    "df[\"Age\"]=[25,35,20,26]\n",
    "print(df)"
   ]
  },
  {
   "cell_type": "code",
   "execution_count": 17,
   "id": "20b9ee25-3942-4c33-9cc8-0dc60b8dbeab",
   "metadata": {},
   "outputs": [
    {
     "name": "stdout",
     "output_type": "stream",
     "text": [
      "         Age\n",
      "Name        \n",
      "Sanjana   22\n",
      "Pooja     33\n",
      "Arati     44\n",
      "Poonam    55\n"
     ]
    }
   ],
   "source": [
    "import pandas as pd\n",
    "# create a sample DataFrame\n",
    "data = {\"Name\":[\"Sanjana\",\"Pooja\",\"Arati\",\"Poonam\"],\n",
    "        \"Age\":[22,33,44,55]\n",
    "       }\n",
    "df = pd.DataFrame(data)\n",
    "#set 'Name' column as the index\n",
    "df.set_index('Name',inplace= True)# Gives \"Name\" an index\n",
    "print(df)"
   ]
  },
  {
   "cell_type": "code",
   "execution_count": 20,
   "id": "2a8e1be8-7646-4d04-83ea-54cee1a1c70e",
   "metadata": {},
   "outputs": [
    {
     "name": "stdout",
     "output_type": "stream",
     "text": [
      "   level_0  index     Name  Age\n",
      "0        0      0  Sanjana   22\n",
      "1        1      1    Pooja   33\n",
      "2        2      2    Arati   44\n",
      "3        3      3   Poonam   55\n"
     ]
    }
   ],
   "source": [
    "# Remove index\n",
    "df.reset_index(inplace = True)\n",
    "print(df)"
   ]
  },
  {
   "cell_type": "code",
   "execution_count": 22,
   "id": "7cad6dbb-857f-4ae6-a92e-6353f5a59edf",
   "metadata": {},
   "outputs": [
    {
     "name": "stdout",
     "output_type": "stream",
     "text": [
      "0     66\n",
      "1     88\n",
      "2    110\n",
      "3    132\n",
      "Name: c, dtype: int64\n"
     ]
    }
   ],
   "source": [
    "import pandas as pd \n",
    "# Create a sample DataFrame\n",
    "data = {'A' : [11,22,33,44],\n",
    "        'B' : [55,66,77,88]\n",
    "       }\n",
    "df = pd.DataFrame(data)\n",
    "# Perform arithmetic operations between columns\n",
    "#Addition\n",
    "df['c']=df['A'] + df['B']\n",
    "print(df['c'])       "
   ]
  },
  {
   "cell_type": "code",
   "execution_count": 24,
   "id": "05f1c5da-60a5-432b-b1c4-88323f90c0de",
   "metadata": {},
   "outputs": [
    {
     "name": "stdout",
     "output_type": "stream",
     "text": [
      "0   -44\n",
      "1   -44\n",
      "2   -44\n",
      "3   -44\n",
      "Name: d, dtype: int64\n"
     ]
    }
   ],
   "source": [
    "# Subtraction\n",
    "df['d'] = df['A']- df['B']\n",
    "print(df['d'])"
   ]
  },
  {
   "cell_type": "code",
   "execution_count": 25,
   "id": "fb2ebc25-8618-4066-b4ae-caa158fd93d3",
   "metadata": {},
   "outputs": [
    {
     "name": "stdout",
     "output_type": "stream",
     "text": [
      "0     605\n",
      "1    1452\n",
      "2    2541\n",
      "3    3872\n",
      "Name: e, dtype: int64\n"
     ]
    }
   ],
   "source": [
    "# Multiplication\n",
    "df['e']=df['A']*df['B']\n",
    "print(df['e'])"
   ]
  },
  {
   "cell_type": "code",
   "execution_count": 26,
   "id": "cad5a316-2b61-4c5e-b1c5-b8391473f07e",
   "metadata": {},
   "outputs": [
    {
     "name": "stdout",
     "output_type": "stream",
     "text": [
      "0    0.200000\n",
      "1    0.333333\n",
      "2    0.428571\n",
      "3    0.500000\n",
      "Name: f, dtype: float64\n"
     ]
    }
   ],
   "source": [
    "#Division\n",
    "df['f']=df['A']/df['B']\n",
    "print(df['f'])"
   ]
  },
  {
   "cell_type": "code",
   "execution_count": null,
   "id": "1c9c033f-ce11-4bf7-aa1a-6fb99ae60b2b",
   "metadata": {},
   "outputs": [],
   "source": []
  }
 ],
 "metadata": {
  "kernelspec": {
   "display_name": "Python 3 (ipykernel)",
   "language": "python",
   "name": "python3"
  },
  "language_info": {
   "codemirror_mode": {
    "name": "ipython",
    "version": 3
   },
   "file_extension": ".py",
   "mimetype": "text/x-python",
   "name": "python",
   "nbconvert_exporter": "python",
   "pygments_lexer": "ipython3",
   "version": "3.11.7"
  }
 },
 "nbformat": 4,
 "nbformat_minor": 5
}
