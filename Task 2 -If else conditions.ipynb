{
 "cells": [
  {
   "cell_type": "markdown",
   "id": "55a54f44-b566-4119-9fa7-7178d02f1030",
   "metadata": {},
   "source": [
    " # if else\n",
    "The if statement alone tells us that if a condition is true it will execute a block of statements and if the condition is false it won’t. But if we want to do something else if the condition is false, we can use the else statement with the if statement Python to execute a block of code when the Python if condition is false.\n"
   ]
  },
  {
   "cell_type": "code",
   "execution_count": 1,
   "id": "f2587c97-8a09-4a3d-a241-fc035b05f859",
   "metadata": {},
   "outputs": [
    {
     "name": "stdout",
     "output_type": "stream",
     "text": [
      "a is greater than 15\n"
     ]
    }
   ],
   "source": [
    "a=50\n",
    "if (a<34):\n",
    "    print(\" a is smaller than 15\")\n",
    "else:\n",
    "    print(\"a is greater than 15\")"
   ]
  },
  {
   "cell_type": "code",
   "execution_count": 30,
   "id": "a2e71747-5c1e-4681-99b8-c05dc1520670",
   "metadata": {},
   "outputs": [
    {
     "name": "stdout",
     "output_type": "stream",
     "text": [
      "i is smaller than 12\n"
     ]
    }
   ],
   "source": [
    "i=10\n",
    "if(i==10):\n",
    "    print(\"i is smaller than 12\")\n",
    "else:\n",
    "    print(\"i is greater than 12\")\n"
   ]
  },
  {
   "cell_type": "code",
   "execution_count": 6,
   "id": "27a36560-ad1c-4acb-b733-7867a7499774",
   "metadata": {},
   "outputs": [
    {
     "name": "stdout",
     "output_type": "stream",
     "text": [
      "i greater than 5\n"
     ]
    }
   ],
   "source": [
    "i=15\n",
    "if (15 > 5): \n",
    "    print(\"i greater than 5\") \n",
    "else:\n",
    "    print(\" i is less than 5\")"
   ]
  },
  {
   "cell_type": "code",
   "execution_count": 8,
   "id": "db18a51b-0a57-4d61-9da4-b55e9c364a7b",
   "metadata": {},
   "outputs": [
    {
     "name": "stdin",
     "output_type": "stream",
     "text": [
      "Enter marks 34\n"
     ]
    },
    {
     "name": "stdout",
     "output_type": "stream",
     "text": [
      "Fail\n"
     ]
    }
   ],
   "source": [
    "marks=int(input(\"Enter marks\"))\n",
    "if (marks>=35):\n",
    "    print(\"Pass\")\n",
    "else:\n",
    "    print(\"Fail\")"
   ]
  },
  {
   "cell_type": "code",
   "execution_count": 10,
   "id": "c61d57e7-e0ad-4f34-a08a-3fb75c96424d",
   "metadata": {},
   "outputs": [
    {
     "name": "stdout",
     "output_type": "stream",
     "text": [
      "odd\n"
     ]
    }
   ],
   "source": [
    "a=7\n",
    "if a % 2 == 0:\n",
    "    print(\"even\")\n",
    "else:\n",
    "    print(\"odd\")"
   ]
  },
  {
   "cell_type": "code",
   "execution_count": 11,
   "id": "66c28a77-e0bb-4410-94cc-593088f41309",
   "metadata": {},
   "outputs": [
    {
     "name": "stdin",
     "output_type": "stream",
     "text": [
      "Enter value 109\n"
     ]
    },
    {
     "name": "stdout",
     "output_type": "stream",
     "text": [
      "a is the not biggest integer value\n"
     ]
    }
   ],
   "source": [
    "values=int(input(\"Enter value\"))\n",
    "if (a>=100):\n",
    "    print(\"a is the biggest integer value\")\n",
    "else:\n",
    "    print (\"a is the not biggest integer value\")\n"
   ]
  },
  {
   "cell_type": "code",
   "execution_count": 13,
   "id": "820ce54c-01d3-4fc9-8fa3-79d0db9312e0",
   "metadata": {},
   "outputs": [
    {
     "name": "stdout",
     "output_type": "stream",
     "text": [
      "Grade : A \n"
     ]
    }
   ],
   "source": [
    "score = 85\n",
    "if score>=75:\n",
    "    print(\"Grade : A \")\n",
    "else:\n",
    "    print(\"Grade : F\")"
   ]
  },
  {
   "cell_type": "code",
   "execution_count": 14,
   "id": "aaec6c6a-33b5-4145-a061-8ad93609920b",
   "metadata": {},
   "outputs": [
    {
     "name": "stdout",
     "output_type": "stream",
     "text": [
      "You are eligible to not vote\n"
     ]
    }
   ],
   "source": [
    "age = 17\n",
    "if age >=18:\n",
    "    print(\"You are eligible to vote \")\n",
    "else :\n",
    "    print(\"You are eligible to not vote\")"
   ]
  },
  {
   "cell_type": "code",
   "execution_count": 28,
   "id": "d4659d22-8a42-4291-afc9-916887ae8510",
   "metadata": {},
   "outputs": [
    {
     "name": "stdout",
     "output_type": "stream",
     "text": [
      "You are an adult\n"
     ]
    }
   ],
   "source": [
    "age=13\n",
    "if (age<=45):\n",
    "    print(\"You are an adult\")\n",
    "else:\n",
    "    print(\"senior\")"
   ]
  },
  {
   "cell_type": "code",
   "execution_count": 23,
   "id": "cbc284b5-b9bb-419d-92c6-08d287e197ca",
   "metadata": {},
   "outputs": [
    {
     "name": "stdin",
     "output_type": "stream",
     "text": [
      "enter values  12\n"
     ]
    },
    {
     "name": "stdout",
     "output_type": "stream",
     "text": [
      "The number is positive\n"
     ]
    }
   ],
   "source": [
    "a=int(input(\"enter values \"))\n",
    "if (a>0):\n",
    "    print(\"The number is positive\")\n",
    "else:\n",
    "    print(\"The number is negative\")"
   ]
  },
  {
   "cell_type": "code",
   "execution_count": null,
   "id": "725d53c4-4cca-44d6-8bc6-c3cfacbe1cff",
   "metadata": {},
   "outputs": [],
   "source": []
  }
 ],
 "metadata": {
  "kernelspec": {
   "display_name": "Python 3 (ipykernel)",
   "language": "python",
   "name": "python3"
  },
  "language_info": {
   "codemirror_mode": {
    "name": "ipython",
    "version": 3
   },
   "file_extension": ".py",
   "mimetype": "text/x-python",
   "name": "python",
   "nbconvert_exporter": "python",
   "pygments_lexer": "ipython3",
   "version": "3.11.7"
  }
 },
 "nbformat": 4,
 "nbformat_minor": 5
}
