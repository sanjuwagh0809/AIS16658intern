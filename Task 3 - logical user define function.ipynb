{
 "cells": [
  {
   "cell_type": "code",
   "execution_count": null,
   "id": "8e6fa755-7c92-4baf-83ca-94158d15c63b",
   "metadata": {},
   "outputs": [],
   "source": [
    "# logical user defined Function."
   ]
  },
  {
   "cell_type": "code",
   "execution_count": 4,
   "id": "0931dbea-a065-4122-a799-347a27d806ce",
   "metadata": {},
   "outputs": [
    {
     "name": "stdin",
     "output_type": "stream",
     "text": [
      "enter number 11\n"
     ]
    },
    {
     "name": "stdout",
     "output_type": "stream",
     "text": [
      "the number 11 is odd\n"
     ]
    }
   ],
   "source": [
    "def is_ev_od(n):\n",
    "    if n %2 == 0:\n",
    "        return \"Even\"\n",
    "    else:\n",
    "        return \"odd\"\n",
    "num = int(input(\"enter number\"))\n",
    "result = is_ev_od(num)\n",
    "print(\"the number\",num,\"is\",result)"
   ]
  },
  {
   "cell_type": "code",
   "execution_count": 9,
   "id": "d0412add-2583-4976-a335-f8336ab2b718",
   "metadata": {},
   "outputs": [
    {
     "name": "stdin",
     "output_type": "stream",
     "text": [
      "enter number 44\n"
     ]
    },
    {
     "name": "stdout",
     "output_type": "stream",
     "text": [
      "the number 44 is min\n"
     ]
    }
   ],
   "source": [
    "def max_of_three(r):\n",
    "    if r >= 45 :\n",
    "        return \"max\"\n",
    "    else:\n",
    "        return \"min\"\n",
    "num = int(input(\"enter number\"))\n",
    "result = max_of_three(num)\n",
    "print(\"the number\",num,\"is\",result)\n"
   ]
  },
  {
   "cell_type": "code",
   "execution_count": 21,
   "id": "efae8a97-636c-439f-a77c-7e3ceeab86c1",
   "metadata": {},
   "outputs": [
    {
     "name": "stdin",
     "output_type": "stream",
     "text": [
      "enter num 3\n"
     ]
    },
    {
     "name": "stdout",
     "output_type": "stream",
     "text": [
      "factorial is: 6\n"
     ]
    }
   ],
   "source": [
    "def factorial(n):\n",
    "    fact = 1\n",
    "    for i in range(1,n+1):\n",
    "        fact=fact*i\n",
    "    return fact\n",
    "number = int(input(\"enter num\"))\n",
    "result = factorial(number)\n",
    "print(\"factorial is:\",result)\n",
    "          "
   ]
  },
  {
   "cell_type": "code",
   "execution_count": 17,
   "id": "fc00a95c-1b9f-4c55-adb2-d78479bd095f",
   "metadata": {},
   "outputs": [
    {
     "name": "stdout",
     "output_type": "stream",
     "text": [
      "No\n"
     ]
    }
   ],
   "source": [
    "def is_palindrom(s): \n",
    "    return s == s[::-1]\n",
    "s = \"hello\"\n",
    "ans = is_palindrom(s)\n",
    "if ans :\n",
    "    print(\"yes\")\n",
    "else:\n",
    "    print(\"No\")"
   ]
  },
  {
   "cell_type": "code",
   "execution_count": 11,
   "id": "fa9f46e9-bae0-44d4-b2f5-cbf6c1a60334",
   "metadata": {},
   "outputs": [
    {
     "name": "stdin",
     "output_type": "stream",
     "text": [
      "enter num1 12\n",
      "enter num2 48\n"
     ]
    },
    {
     "name": "stdout",
     "output_type": "stream",
     "text": [
      "12\n"
     ]
    }
   ],
   "source": [
    "def gcd(a,b):\n",
    " for i in range(min(a,b),0,-1):\n",
    "     if a%i==0 and b%i==0:\n",
    "      return i\n",
    "      break\n",
    "num1=int(input(\"enter num1\")) \n",
    "num2=int(input(\"enter num2\"))\n",
    "result=gcd(num1,num2)\n",
    "print(result)\n"
   ]
  },
  {
   "cell_type": "code",
   "execution_count": 31,
   "id": "a6b55855-8ede-41dc-ba9a-4a855818ee14",
   "metadata": {},
   "outputs": [
    {
     "name": "stdout",
     "output_type": "stream",
     "text": [
      "[0, 1, 1, 2, 3]\n"
     ]
    }
   ],
   "source": [
    "def fibonacci(n):\n",
    "    sequence = []\n",
    "    a,b = 0,1\n",
    "    while len(sequence)<n:\n",
    "        sequence.append(a)\n",
    "        a,b = b,a + b\n",
    "    return sequence\n",
    "print(fibonacci(5))"
   ]
  },
  {
   "cell_type": "code",
   "execution_count": 22,
   "id": "69c82a9b-e530-432c-ab75-d297c8726ed6",
   "metadata": {},
   "outputs": [
    {
     "name": "stdin",
     "output_type": "stream",
     "text": [
      "enter number 11\n"
     ]
    },
    {
     "name": "stdout",
     "output_type": "stream",
     "text": [
      "the number 11 is True\n"
     ]
    }
   ],
   "source": [
    "def is_prime(num):\n",
    "    if num <= 1:\n",
    "        return False\n",
    "    for i in range(2,int(num**0.5)+1):\n",
    "        if num % i == 0:\n",
    "            return False\n",
    "        return True\n",
    "num = int(input(\"enter number\"))\n",
    "result =is_prime(num)\n",
    "print(\"the number\",num,\"is\",result)\n"
   ]
  },
  {
   "cell_type": "code",
   "execution_count": 26,
   "id": "c612ec27-27af-4304-a707-fa9427b23c63",
   "metadata": {},
   "outputs": [
    {
     "name": "stdin",
     "output_type": "stream",
     "text": [
      "enter a strin sanjana\n"
     ]
    },
    {
     "name": "stdout",
     "output_type": "stream",
     "text": [
      "3\n"
     ]
    }
   ],
   "source": [
    "def count_vowels(s) :\n",
    "    c=0\n",
    "    vowels = \"aeiouAEIOU\"\n",
    "    for char in s:\n",
    "        if char in vowels:\n",
    "            c=c+1\n",
    "    return c\n",
    "st = input(\"enter a strin\")\n",
    "v_count = count_vowels(st)\n",
    "print(v_count)    "
   ]
  },
  {
   "cell_type": "code",
   "execution_count": 38,
   "id": "240c3da8-033d-424b-a587-32641df1f0fd",
   "metadata": {},
   "outputs": [
    {
     "name": "stdin",
     "output_type": "stream",
     "text": [
      "enter number 3333\n"
     ]
    },
    {
     "name": "stdout",
     "output_type": "stream",
     "text": [
      "the number 3333 is 12\n"
     ]
    }
   ],
   "source": [
    "def sum_of_digits(n):\n",
    "    return sum(int(digit)for digit in str(n))\n",
    "num = int(input(\"enter number\"))\n",
    "result = sum_of_digits(num)\n",
    "print(\"the number\",num,\"is\",result)\n",
    "    "
   ]
  },
  {
   "cell_type": "code",
   "execution_count": 2,
   "id": "22aea5eb-fb50-4193-bc01-bdb2e39c1663",
   "metadata": {},
   "outputs": [
    {
     "name": "stdin",
     "output_type": "stream",
     "text": [
      "enter number 100\n"
     ]
    },
    {
     "name": "stdout",
     "output_type": "stream",
     "text": [
      "the number 100 is 212.0\n"
     ]
    }
   ],
   "source": [
    "def celsius_to_fahrenheit(celsius):\n",
    "    return (celsius*9/5)+32\n",
    "num = int(input(\"enter number\"))\n",
    "result =celsius_to_fahrenheit(num)\n",
    "print(\"the number\",num,\"is\",result)"
   ]
  },
  {
   "cell_type": "code",
   "execution_count": null,
   "id": "6a4a013a-f0bd-453c-b1a6-ef8fe7dc44f7",
   "metadata": {},
   "outputs": [],
   "source": []
  }
 ],
 "metadata": {
  "kernelspec": {
   "display_name": "Python 3 (ipykernel)",
   "language": "python",
   "name": "python3"
  },
  "language_info": {
   "codemirror_mode": {
    "name": "ipython",
    "version": 3
   },
   "file_extension": ".py",
   "mimetype": "text/x-python",
   "name": "python",
   "nbconvert_exporter": "python",
   "pygments_lexer": "ipython3",
   "version": "3.11.7"
  }
 },
 "nbformat": 4,
 "nbformat_minor": 5
}
