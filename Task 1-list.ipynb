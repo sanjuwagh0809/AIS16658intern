{
 "cells": [
  {
   "cell_type": "markdown",
   "id": "cb1b4fdc-4401-457b-9b13-d29e84ca55de",
   "metadata": {},
   "source": [
    "# list \n",
    "Mutable can change or update ,Ordered collection indexes starting from 0,Iterable and hashable ,Declared using []brackets, Each element seperate using comma i.e, List within list is possiable combination "
   ]
  },
  {
   "cell_type": "code",
   "execution_count": 12,
   "id": "c51dc53b-cdcd-410d-a754-fdbbf3cbceef",
   "metadata": {},
   "outputs": [
    {
     "data": {
      "text/plain": [
       "['book', 'notebook', 'pen']"
      ]
     },
     "execution_count": 12,
     "metadata": {},
     "output_type": "execute_result"
    }
   ],
   "source": [
    "# list creation []  \n",
    "l1 = [\"book\",\"notebook\",\"pen\"]\n",
    "l1"
   ]
  },
  {
   "cell_type": "code",
   "execution_count": 2,
   "id": "d577736e-fbb0-471a-b8eb-ab62f6e5eba8",
   "metadata": {},
   "outputs": [
    {
     "data": {
      "text/plain": [
       "list"
      ]
     },
     "execution_count": 2,
     "metadata": {},
     "output_type": "execute_result"
    }
   ],
   "source": [
    "type(l1)"
   ]
  },
  {
   "cell_type": "code",
   "execution_count": 13,
   "id": "a5cefe62-9a1c-41d4-99be-ce1a822388b2",
   "metadata": {},
   "outputs": [],
   "source": [
    "#empty List \n",
    "list= [] "
   ]
  },
  {
   "cell_type": "code",
   "execution_count": 14,
   "id": "fdc0798d-7df1-4c38-b069-1198152c3b92",
   "metadata": {},
   "outputs": [
    {
     "data": {
      "text/plain": [
       "[]"
      ]
     },
     "execution_count": 14,
     "metadata": {},
     "output_type": "execute_result"
    }
   ],
   "source": [
    "list"
   ]
  },
  {
   "cell_type": "code",
   "execution_count": 15,
   "id": "d41996fc-1324-465c-8580-79e739ff0e7a",
   "metadata": {},
   "outputs": [
    {
     "data": {
      "text/plain": [
       "[11, 22, 33]"
      ]
     },
     "execution_count": 15,
     "metadata": {},
     "output_type": "execute_result"
    }
   ],
   "source": [
    "# list of integers \n",
    "my_list = [11,22,33]\n",
    "my_list"
   ]
  },
  {
   "cell_type": "code",
   "execution_count": 16,
   "id": "5fd53ee6-091a-457d-8d8e-9a4d8f59b7fe",
   "metadata": {},
   "outputs": [],
   "source": [
    "# list with mixed datatypes\n",
    "list = [\"book\",11,2.4]"
   ]
  },
  {
   "cell_type": "code",
   "execution_count": 17,
   "id": "26b7e8ca-ae9e-41bd-b6ac-d25216068935",
   "metadata": {},
   "outputs": [
    {
     "data": {
      "text/plain": [
       "['book', 11, 2.4]"
      ]
     },
     "execution_count": 17,
     "metadata": {},
     "output_type": "execute_result"
    }
   ],
   "source": [
    "list"
   ]
  },
  {
   "cell_type": "code",
   "execution_count": 19,
   "id": "8046689a-f919-4112-a531-81d851bd6dc3",
   "metadata": {},
   "outputs": [],
   "source": [
    "# nested list \n",
    "list=[[\"book\",11, \"pen\"],22,[\"notebook\",\"pen\",\"book\"]]"
   ]
  },
  {
   "cell_type": "code",
   "execution_count": 20,
   "id": "5980563c-bd7b-4d22-8e9f-813113a94da9",
   "metadata": {},
   "outputs": [
    {
     "data": {
      "text/plain": [
       "[['book', 11, 'pen'], 22, ['notebook', 'pen', 'book']]"
      ]
     },
     "execution_count": 20,
     "metadata": {},
     "output_type": "execute_result"
    }
   ],
   "source": [
    "list"
   ]
  },
  {
   "cell_type": "code",
   "execution_count": 21,
   "id": "2c4891e0-7070-4079-ad60-079cdb518add",
   "metadata": {},
   "outputs": [
    {
     "data": {
      "text/plain": [
       "'pen'"
      ]
     },
     "execution_count": 21,
     "metadata": {},
     "output_type": "execute_result"
    }
   ],
   "source": [
    "l1[2]"
   ]
  },
  {
   "cell_type": "code",
   "execution_count": 22,
   "id": "5120da68-f784-4197-bcb8-cae93e055ca8",
   "metadata": {},
   "outputs": [
    {
     "data": {
      "text/plain": [
       "'c'"
      ]
     },
     "execution_count": 22,
     "metadata": {},
     "output_type": "execute_result"
    }
   ],
   "source": [
    "list=['a','b','c','d']\n",
    "list[-2]"
   ]
  },
  {
   "cell_type": "code",
   "execution_count": 23,
   "id": "95885878-86e3-4bf3-bb0c-c31d0d586d8e",
   "metadata": {},
   "outputs": [
    {
     "data": {
      "text/plain": [
       "'c'"
      ]
     },
     "execution_count": 23,
     "metadata": {},
     "output_type": "execute_result"
    }
   ],
   "source": [
    "list[2]"
   ]
  },
  {
   "cell_type": "code",
   "execution_count": 24,
   "id": "9fecfe9b-3cc6-4f57-9a85-2035ebfc2c54",
   "metadata": {},
   "outputs": [
    {
     "data": {
      "text/plain": [
       "'d'"
      ]
     },
     "execution_count": 24,
     "metadata": {},
     "output_type": "execute_result"
    }
   ],
   "source": [
    "list[-1]"
   ]
  },
  {
   "cell_type": "code",
   "execution_count": 29,
   "id": "14b32168-80df-4d0d-b9fa-08340de71700",
   "metadata": {},
   "outputs": [],
   "source": [
    "# Nested list \n",
    "list = [\"Hellow\",[1,3,0,[7]]]"
   ]
  },
  {
   "cell_type": "code",
   "execution_count": 31,
   "id": "0f6026ab-7d8c-4af3-b35e-84e4b2bc6320",
   "metadata": {},
   "outputs": [
    {
     "data": {
      "text/plain": [
       "7"
      ]
     },
     "execution_count": 31,
     "metadata": {},
     "output_type": "execute_result"
    }
   ],
   "source": [
    "list[-1][3][-1]"
   ]
  },
  {
   "cell_type": "code",
   "execution_count": 33,
   "id": "2af2f399-a40f-428c-b0c9-89810e5d94b0",
   "metadata": {},
   "outputs": [
    {
     "data": {
      "text/plain": [
       "7"
      ]
     },
     "execution_count": 33,
     "metadata": {},
     "output_type": "execute_result"
    }
   ],
   "source": [
    "# nested indexing \n",
    "list[-1][-1][-1]"
   ]
  },
  {
   "cell_type": "code",
   "execution_count": 35,
   "id": "a9de3f70-9762-473a-809e-2a09bfacea9d",
   "metadata": {},
   "outputs": [
    {
     "data": {
      "text/plain": [
       "[7]"
      ]
     },
     "execution_count": 35,
     "metadata": {},
     "output_type": "execute_result"
    }
   ],
   "source": [
    "list[1][3] "
   ]
  },
  {
   "cell_type": "code",
   "execution_count": 1,
   "id": "587b5409-51f3-4b78-8aab-7a3d6b6641d9",
   "metadata": {},
   "outputs": [
    {
     "data": {
      "text/plain": [
       "['a', 'b', 'c', 'd']"
      ]
     },
     "execution_count": 1,
     "metadata": {},
     "output_type": "execute_result"
    }
   ],
   "source": [
    "# Negative Indexing _python allows negative indexing for its sequences.\n",
    "#The index of -1 refers to the item, -2 to the second last item and \n",
    "list=['a','b','c','d']\n",
    "list"
   ]
  },
  {
   "cell_type": "code",
   "execution_count": 2,
   "id": "e2427a2a-7e4a-4d86-9c42-1bf7bd2440ff",
   "metadata": {},
   "outputs": [
    {
     "name": "stdout",
     "output_type": "stream",
     "text": [
      "3\n"
     ]
    }
   ],
   "source": [
    "print(3)"
   ]
  },
  {
   "cell_type": "code",
   "execution_count": 5,
   "id": "b9df9efc-729c-4418-8714-31ed70116e36",
   "metadata": {},
   "outputs": [
    {
     "data": {
      "text/plain": [
       "['pen', 'book', 'notebook']"
      ]
     },
     "execution_count": 5,
     "metadata": {},
     "output_type": "execute_result"
    }
   ],
   "source": [
    "# Slicing We can access a range of items in a list by using the slicing operter\n",
    "list=[\"pen\",\"book\",\"notebook\"]\n",
    "list[:]"
   ]
  },
  {
   "cell_type": "code",
   "execution_count": 6,
   "id": "b59a21c6-779c-4fe2-beb6-460876426627",
   "metadata": {},
   "outputs": [
    {
     "name": "stdout",
     "output_type": "stream",
     "text": [
      "['book']\n"
     ]
    }
   ],
   "source": [
    "# elements 3rd to 5th         # start:include                 end:exclude\n",
    "print(list[1:2])"
   ]
  },
  {
   "cell_type": "code",
   "execution_count": 7,
   "id": "0025f397-64f3-4845-a44e-6d2ab3ec3f01",
   "metadata": {},
   "outputs": [
    {
     "name": "stdout",
     "output_type": "stream",
     "text": [
      "['notebook']\n"
     ]
    }
   ],
   "source": [
    "#elements 2th to end\n",
    "print(list[2:])"
   ]
  },
  {
   "cell_type": "code",
   "execution_count": 8,
   "id": "98a76a40-6b16-4a18-bc4e-8892d65e48f9",
   "metadata": {},
   "outputs": [
    {
     "name": "stdout",
     "output_type": "stream",
     "text": [
      "['pen', 'book', 'notebook']\n"
     ]
    }
   ],
   "source": [
    "#elements beginning to end \n",
    "print(list [:])"
   ]
  },
  {
   "cell_type": "code",
   "execution_count": 35,
   "id": "81b92bd4-f5f4-4d71-ac3d-339613b5fb64",
   "metadata": {},
   "outputs": [
    {
     "data": {
      "text/plain": [
       "[22, 44, 66, 88]"
      ]
     },
     "execution_count": 35,
     "metadata": {},
     "output_type": "execute_result"
    }
   ],
   "source": [
    "# 1- append ()-appends an element to end of list .\n",
    "x=[\"pen\",\"Book\",\"Notebook\",5,6,7]\n",
    "x.append(\"Book\")\n",
    "y=[22,44,66,88]\n",
    "y.sort()\n",
    "y"
   ]
  },
  {
   "cell_type": "code",
   "execution_count": 10,
   "id": "e602bbbd-9022-4681-a875-3d58fc9eb9c8",
   "metadata": {},
   "outputs": [
    {
     "data": {
      "text/plain": [
       "0"
      ]
     },
     "execution_count": 10,
     "metadata": {},
     "output_type": "execute_result"
    }
   ],
   "source": [
    "x.count(\"Pen\")"
   ]
  },
  {
   "cell_type": "code",
   "execution_count": 36,
   "id": "93112021-dbb1-4afa-a945-d28b4e5d409c",
   "metadata": {},
   "outputs": [
    {
     "data": {
      "text/plain": [
       "['pen', 'Notebook', 5, 6, 7, 'Book']"
      ]
     },
     "execution_count": 36,
     "metadata": {},
     "output_type": "execute_result"
    }
   ],
   "source": [
    "x.remove(\"Book\")\n",
    "x"
   ]
  },
  {
   "cell_type": "code",
   "execution_count": 34,
   "id": "8b0ce54a-b3da-423d-9983-4d64c45687ec",
   "metadata": {},
   "outputs": [
    {
     "data": {
      "text/plain": [
       "['pen', 'Notebook', 5, 6]"
      ]
     },
     "execution_count": 34,
     "metadata": {},
     "output_type": "execute_result"
    }
   ],
   "source": [
    "x.pop(-1)\n",
    "x"
   ]
  },
  {
   "cell_type": "code",
   "execution_count": 19,
   "id": "e241335a-4230-47ba-935d-4f14976bc0a9",
   "metadata": {},
   "outputs": [
    {
     "data": {
      "text/plain": [
       "['pen', 'Notebook', 5, 6]"
      ]
     },
     "execution_count": 19,
     "metadata": {},
     "output_type": "execute_result"
    }
   ],
   "source": [
    "#x.clear()\n",
    "x"
   ]
  },
  {
   "cell_type": "code",
   "execution_count": 20,
   "id": "26149a3e-f7a2-4cd5-aa41-dffee04dc435",
   "metadata": {},
   "outputs": [
    {
     "data": {
      "text/plain": [
       "['pen', 'Notebook', 5, 6]"
      ]
     },
     "execution_count": 20,
     "metadata": {},
     "output_type": "execute_result"
    }
   ],
   "source": [
    "x1=x.copy()\n",
    "x1"
   ]
  },
  {
   "cell_type": "code",
   "execution_count": 21,
   "id": "bb76e13d-b08e-4179-bea5-a9e11713d083",
   "metadata": {},
   "outputs": [
    {
     "data": {
      "text/plain": [
       "[6, 5, 'Notebook', 'pen']"
      ]
     },
     "execution_count": 21,
     "metadata": {},
     "output_type": "execute_result"
    }
   ],
   "source": [
    "x.reverse()\n",
    "x"
   ]
  },
  {
   "cell_type": "code",
   "execution_count": 37,
   "id": "d855d7ec-d4b4-4285-83df-c9d0033bf81f",
   "metadata": {},
   "outputs": [
    {
     "data": {
      "text/plain": [
       "1"
      ]
     },
     "execution_count": 37,
     "metadata": {},
     "output_type": "execute_result"
    }
   ],
   "source": [
    "x.index(\"Notebook\")"
   ]
  },
  {
   "cell_type": "code",
   "execution_count": 38,
   "id": "c7016779-922b-4b14-8840-5354093285a8",
   "metadata": {},
   "outputs": [
    {
     "data": {
      "text/plain": [
       "['pen', 'Notebook', 5, 6, 7, 'Book', [10, 30, 50]]"
      ]
     },
     "execution_count": 38,
     "metadata": {},
     "output_type": "execute_result"
    }
   ],
   "source": [
    "# append : only one value \n",
    "#Extend : more than 2 value\n",
    "x.append([10,30,50])\n",
    "x"
   ]
  },
  {
   "cell_type": "code",
   "execution_count": 40,
   "id": "96147fcc-ded5-42a2-81b7-2117ce78958d",
   "metadata": {},
   "outputs": [
    {
     "name": "stdout",
     "output_type": "stream",
     "text": [
      "[1, 2, 3]\n"
     ]
    }
   ],
   "source": [
    "#2-clear()-removes all the elements frome a list\n",
    "items = [1,2,3]\n",
    "print(items)"
   ]
  },
  {
   "cell_type": "code",
   "execution_count": 42,
   "id": "5870d008-96d0-4c4c-b94c-0c2ffa42630a",
   "metadata": {},
   "outputs": [],
   "source": [
    "#3_copy ()-returns a copy of the sepecified list \n",
    "items = [\"Pen\",\"Notebook\",\"Book\"]\n"
   ]
  },
  {
   "cell_type": "code",
   "execution_count": 43,
   "id": "0bf3e5ec-0172-4367-847e-c3bd88eb615c",
   "metadata": {},
   "outputs": [
    {
     "data": {
      "text/plain": [
       "['Pen', 'Notebook', 'Book']"
      ]
     },
     "execution_count": 43,
     "metadata": {},
     "output_type": "execute_result"
    }
   ],
   "source": [
    "i2=items.copy()\n",
    "i2"
   ]
  },
  {
   "cell_type": "code",
   "execution_count": 44,
   "id": "ebfdbcbf-06e7-4969-b75a-f24769de01c1",
   "metadata": {},
   "outputs": [
    {
     "data": {
      "text/plain": [
       "2598283127808"
      ]
     },
     "execution_count": 44,
     "metadata": {},
     "output_type": "execute_result"
    }
   ],
   "source": [
    "id(items)"
   ]
  },
  {
   "cell_type": "code",
   "execution_count": 45,
   "id": "8d40833a-c7ea-41e5-a0b8-cebf24246756",
   "metadata": {},
   "outputs": [
    {
     "data": {
      "text/plain": [
       "'Pen'"
      ]
     },
     "execution_count": 45,
     "metadata": {},
     "output_type": "execute_result"
    }
   ],
   "source": [
    "items.pop(0)"
   ]
  },
  {
   "cell_type": "code",
   "execution_count": 46,
   "id": "76e0c7cf-36ac-42e1-88fe-7825bca6dce8",
   "metadata": {},
   "outputs": [
    {
     "data": {
      "text/plain": [
       "2"
      ]
     },
     "execution_count": 46,
     "metadata": {},
     "output_type": "execute_result"
    }
   ],
   "source": [
    "len(items)"
   ]
  },
  {
   "cell_type": "code",
   "execution_count": null,
   "id": "78de26f0-2b70-4c7d-99fe-07946884b1ea",
   "metadata": {},
   "outputs": [],
   "source": []
  }
 ],
 "metadata": {
  "kernelspec": {
   "display_name": "Python 3 (ipykernel)",
   "language": "python",
   "name": "python3"
  },
  "language_info": {
   "codemirror_mode": {
    "name": "ipython",
    "version": 3
   },
   "file_extension": ".py",
   "mimetype": "text/x-python",
   "name": "python",
   "nbconvert_exporter": "python",
   "pygments_lexer": "ipython3",
   "version": "3.11.7"
  }
 },
 "nbformat": 4,
 "nbformat_minor": 5
}
