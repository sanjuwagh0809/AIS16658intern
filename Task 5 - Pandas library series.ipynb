{
 "cells": [
  {
   "cell_type": "code",
   "execution_count": null,
   "id": "9619663b-97b7-4405-86ff-d1c25b23c4b2",
   "metadata": {},
   "outputs": [],
   "source": [
    "#Pandas Introduction"
   ]
  },
  {
   "cell_type": "code",
   "execution_count": null,
   "id": "e1e610f0-13d0-48b6-bc25-b2d611e898ce",
   "metadata": {},
   "outputs": [],
   "source": [
    "#What is Pandas?\n",
    "Pandas is a Python library used for working with data sets.\n",
    "It has functions for analyzing, cleaning, exploring, and manipulating data.\n",
    "#Why Use Pandas?\n",
    "Pandas allows us to analyze big data and make conclusions based on statistical theories.\n",
    "Pandas can clean messy data sets, and make them readable and relevant.\n",
    "Relevant data is very important in data science."
   ]
  },
  {
   "cell_type": "code",
   "execution_count": null,
   "id": "3a5385d6-694c-45bb-9c5d-15848a5dddbe",
   "metadata": {},
   "outputs": [],
   "source": [
    "#Import Pandas\n",
    "Once Pandas is installed, import it in your applications by adding the import keyword:\n",
    "import pandas"
   ]
  },
  {
   "cell_type": "code",
   "execution_count": 1,
   "id": "092c922c-4cae-4631-9583-00ce1527afc5",
   "metadata": {},
   "outputs": [
    {
     "name": "stdout",
     "output_type": "stream",
     "text": [
      "    cars  passings\n",
      "0    BMW         3\n",
      "1  Volvo         7\n",
      "2   Ford         2\n"
     ]
    }
   ],
   "source": [
    "import pandas\n",
    "mydataset = {\n",
    "  'cars': [\"BMW\", \"Volvo\", \"Ford\"],\n",
    "  'passings': [3, 7, 2]\n",
    "}\n",
    "myvar = pandas.DataFrame(mydataset)\n",
    "print(myvar)"
   ]
  },
  {
   "cell_type": "code",
   "execution_count": 2,
   "id": "b3b88d64-e15a-45d1-9f07-c5736f4ee552",
   "metadata": {},
   "outputs": [
    {
     "name": "stdout",
     "output_type": "stream",
     "text": [
      "    cars  passings\n",
      "0    BMW         3\n",
      "1  Volvo         7\n",
      "2   Ford         2\n"
     ]
    }
   ],
   "source": [
    "#Pandas as pd\n",
    "#Pandas is usually imported under the pd alias.\n",
    "import pandas as pd\n",
    "mydataset = {\n",
    "  'cars': [\"BMW\", \"Volvo\", \"Ford\"],\n",
    "  'passings': [3, 7, 2]\n",
    "}\n",
    "myvar = pd.DataFrame(mydataset)\n",
    "print(myvar)"
   ]
  },
  {
   "cell_type": "code",
   "execution_count": null,
   "id": "f17608e3-8113-4f0f-b668-02039461a889",
   "metadata": {},
   "outputs": [],
   "source": [
    "#Pandas Series\n",
    "#What is a Series?\n",
    "A Pandas Series is like a column in a table.\n",
    "It is a one-dimensional array holding data of any type."
   ]
  },
  {
   "cell_type": "code",
   "execution_count": 3,
   "id": "93363b38-c205-47d8-8cb8-3fddf3770e5a",
   "metadata": {},
   "outputs": [
    {
     "name": "stdout",
     "output_type": "stream",
     "text": [
      "0    1\n",
      "1    7\n",
      "2    2\n",
      "dtype: int64\n"
     ]
    }
   ],
   "source": [
    "#Create a simple Pandas Series from a list:\n",
    "import pandas as pd\n",
    "a = [1, 7, 2]\n",
    "myvar = pd.Series(a)\n",
    "print(myvar)"
   ]
  },
  {
   "cell_type": "code",
   "execution_count": 3,
   "id": "e12f8b42-a4ce-411b-98fa-40949e59ffe7",
   "metadata": {},
   "outputs": [
    {
     "name": "stdout",
     "output_type": "stream",
     "text": [
      "0    1\n",
      "1    7\n",
      "2    2\n",
      "dtype: int64\n",
      "2\n"
     ]
    }
   ],
   "source": [
    "#Labels\n",
    "#If nothing else is specified, the values are labeled with their index number. First value has index 0, second value has index 1 etc.\n",
    "#This label can be used to access a specified value.\n",
    "import pandas as pd\n",
    "a = [1, 7, 2]\n",
    "myvar = pd.Series(a)\n",
    "print(myvar)\n",
    "print(myvar[2])"
   ]
  },
  {
   "cell_type": "code",
   "execution_count": 4,
   "id": "560c8d03-9ffb-4dbf-bc28-4f77ce1d3d49",
   "metadata": {},
   "outputs": [
    {
     "name": "stdout",
     "output_type": "stream",
     "text": [
      "x    1\n",
      "y    7\n",
      "z    2\n",
      "dtype: int64\n"
     ]
    }
   ],
   "source": [
    "#Create Labels\n",
    "#With the index argument, you can name your own labels.\n",
    "import pandas as pd\n",
    "a = [1, 7, 2]\n",
    "myvar = pd.Series(a, index = [\"x\", \"y\", \"z\"])\n",
    "print(myvar)"
   ]
  },
  {
   "cell_type": "code",
   "execution_count": 13,
   "id": "284e23cf-8187-433b-b8c9-098a02692241",
   "metadata": {},
   "outputs": [
    {
     "name": "stdout",
     "output_type": "stream",
     "text": [
      "p    10\n",
      "q    11\n",
      "r    12\n",
      "s    13\n",
      "dtype: int64\n",
      "11\n"
     ]
    }
   ],
   "source": [
    "import pandas as pd \n",
    "a=[10,11,12,13]\n",
    "myvar = pd.Series(a,index = [\"p\",\"q\",\"r\",\"s\"])\n",
    "print(myvar)\n",
    "print(myvar[\"q\"])"
   ]
  },
  {
   "cell_type": "code",
   "execution_count": 18,
   "id": "0b80d6d8-03e2-4fc9-a457-c2d295ad25b3",
   "metadata": {},
   "outputs": [
    {
     "name": "stdout",
     "output_type": "stream",
     "text": [
      "0    1\n",
      "1    7\n",
      "2    2\n",
      "dtype: int64\n",
      "1\n"
     ]
    }
   ],
   "source": [
    "#Accessing Elements:\n",
    "#Accessing elements by index\n",
    "import pandas as pd\n",
    "a = [1, 7, 2]\n",
    "myvar = pd.Series(a)\n",
    "print(myvar)\n",
    "print(myvar[0])"
   ]
  },
  {
   "cell_type": "code",
   "execution_count": 21,
   "id": "9bd4b691-2679-46e7-a913-8906bf958676",
   "metadata": {},
   "outputs": [
    {
     "name": "stdout",
     "output_type": "stream",
     "text": [
      "0    1\n",
      "1    7\n",
      "2    2\n",
      "dtype: int64\n",
      "0    1\n",
      "1    7\n",
      "dtype: int64\n"
     ]
    }
   ],
   "source": [
    "# Accessing elements by slicing\n",
    "import pandas as pd\n",
    "a = [1, 7, 2]\n",
    "myvar = pd.Series(a)\n",
    "print(myvar)\n",
    "print(myvar[:2])"
   ]
  },
  {
   "cell_type": "code",
   "execution_count": 22,
   "id": "0b104b3d-340e-451d-bb70-8fe0a01a1410",
   "metadata": {},
   "outputs": [
    {
     "name": "stdout",
     "output_type": "stream",
     "text": [
      "0    11\n",
      "1    17\n",
      "2    12\n",
      "dtype: int64\n"
     ]
    }
   ],
   "source": [
    "#Operations:\n",
    "# Adding a scalar value to each element\n",
    "import pandas as pd\n",
    "a = [1, 7, 2]\n",
    "myvar = pd.Series(a)\n",
    "myvar_add = myvar + 10\n",
    "print(myvar_add)"
   ]
  },
  {
   "cell_type": "code",
   "execution_count": 24,
   "id": "c402f9c8-614f-4cb4-a654-38e4e37718b7",
   "metadata": {},
   "outputs": [
    {
     "name": "stdout",
     "output_type": "stream",
     "text": [
      "0    15\n",
      "1    17\n",
      "2    19\n",
      "dtype: int64\n"
     ]
    }
   ],
   "source": [
    "# Element-wise addition of two series\n",
    "import pandas as pd\n",
    "s1 = pd.Series([11, 12, 13])\n",
    "s2 = pd.Series([4, 5, 6])\n",
    "s_sum = s1 + s2\n",
    "print(s_sum)"
   ]
  },
  {
   "cell_type": "code",
   "execution_count": 25,
   "id": "908280cd-13e2-4818-af43-5dbf8a91cd01",
   "metadata": {},
   "outputs": [
    {
     "name": "stdout",
     "output_type": "stream",
     "text": [
      "0     3\n",
      "1     8\n",
      "2    15\n",
      "dtype: int64\n"
     ]
    }
   ],
   "source": [
    "#Element-wise multiplication\n",
    "import pandas as pd\n",
    "s1 = pd .Series([1,2,3])\n",
    "s2 = pd.Series([3,4,5])\n",
    "s_mult = s1 * s2\n",
    "print(s_mult)"
   ]
  },
  {
   "cell_type": "code",
   "execution_count": 28,
   "id": "fcf28532-979d-4954-9df2-85409e14ade2",
   "metadata": {},
   "outputs": [
    {
     "name": "stdout",
     "output_type": "stream",
     "text": [
      "1    7\n",
      "2    8\n",
      "dtype: int64\n"
     ]
    }
   ],
   "source": [
    "#Filtering Data:\n",
    "# Filtering elements greater than 3\n",
    "import pandas as pd\n",
    "a = [1, 7, 8]\n",
    "myvar = pd.Series(a)\n",
    "s_filtered = myvar[myvar > 3]\n",
    "print(s_filtered)"
   ]
  },
  {
   "cell_type": "code",
   "execution_count": 30,
   "id": "5fa33205-2a7b-49fc-a28c-c2ec341b3496",
   "metadata": {},
   "outputs": [
    {
     "name": "stdout",
     "output_type": "stream",
     "text": [
      "33.0\n"
     ]
    }
   ],
   "source": [
    "#Summary Statistics:\n",
    "# Finding the mean of the series\n",
    "import pandas as pd\n",
    "a = [11,22,33,44,55]\n",
    "myvar = pd.Series(a)\n",
    "s_mean = myvar.mean()\n",
    "print(s_mean)"
   ]
  },
  {
   "cell_type": "code",
   "execution_count": null,
   "id": "57bfa00c-d7cb-4542-8ae8-b34025f8a6a7",
   "metadata": {},
   "outputs": [],
   "source": []
  }
 ],
 "metadata": {
  "kernelspec": {
   "display_name": "Python 3 (ipykernel)",
   "language": "python",
   "name": "python3"
  },
  "language_info": {
   "codemirror_mode": {
    "name": "ipython",
    "version": 3
   },
   "file_extension": ".py",
   "mimetype": "text/x-python",
   "name": "python",
   "nbconvert_exporter": "python",
   "pygments_lexer": "ipython3",
   "version": "3.11.7"
  }
 },
 "nbformat": 4,
 "nbformat_minor": 5
}
