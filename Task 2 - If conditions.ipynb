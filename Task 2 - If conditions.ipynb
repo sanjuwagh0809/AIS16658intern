{
 "cells": [
  {
   "cell_type": "markdown",
   "id": "20070698-db13-42c7-88d7-345ce42fc5a7",
   "metadata": {},
   "source": [
    "# if \n",
    "If the simple code of block is to be performed if the condition holds true then the if statement is used. Here the condition mentioned holds then the code of the block runs otherwise not."
   ]
  },
  {
   "cell_type": "code",
   "execution_count": 10,
   "id": "b0142b53-fdc9-4c90-99e8-f8f21f8efabc",
   "metadata": {},
   "outputs": [
    {
     "name": "stdout",
     "output_type": "stream",
     "text": [
      "10 greater than 5\n"
     ]
    }
   ],
   "source": [
    "# if statement example \n",
    "if 15 > 5: \n",
    "    print(\"10 greater than 5\") "
   ]
  },
  {
   "cell_type": "code",
   "execution_count": 12,
   "id": "35148135-f572-4f9b-b156-b11007432f0e",
   "metadata": {},
   "outputs": [
    {
     "name": "stdout",
     "output_type": "stream",
     "text": [
      "200\n",
      "33\n",
      "500\n"
     ]
    }
   ],
   "source": [
    "a=200\n",
    "b=33\n",
    "c=500\n",
    "print(a)\n",
    "print(b)\n",
    "print(c)"
   ]
  },
  {
   "cell_type": "code",
   "execution_count": 14,
   "id": "afb01102-e902-4d4b-b70f-54719aafa3cf",
   "metadata": {},
   "outputs": [
    {
     "name": "stdout",
     "output_type": "stream",
     "text": [
      "Both conditins are true\n"
     ]
    }
   ],
   "source": [
    "if a > b and c > a: \n",
    "    print(\"Both conditins are true\")\n"
   ]
  },
  {
   "cell_type": "code",
   "execution_count": 15,
   "id": "a2db0a0d-b8e2-4e2f-81b4-a2bd14ece218",
   "metadata": {},
   "outputs": [
    {
     "name": "stdout",
     "output_type": "stream",
     "text": [
      "At least one of the conditions is true \n"
     ]
    }
   ],
   "source": [
    "if a>b or a>c:\n",
    "    print(\"At least one of the conditions is true \")"
   ]
  },
  {
   "cell_type": "code",
   "execution_count": 16,
   "id": "74eac7e1-66e8-487e-a6a9-ca5d3cdac0fb",
   "metadata": {},
   "outputs": [
    {
     "name": "stdout",
     "output_type": "stream",
     "text": [
      "The number is positive\n"
     ]
    }
   ],
   "source": [
    "a=5\n",
    "if a>0:\n",
    "    print(\"The number is positive\")"
   ]
  },
  {
   "cell_type": "code",
   "execution_count": 17,
   "id": "2821efa4-cc57-4f03-8ca6-61f192a36c0a",
   "metadata": {},
   "outputs": [
    {
     "name": "stdout",
     "output_type": "stream",
     "text": [
      "a is strictly less than 40\n"
     ]
    }
   ],
   "source": [
    "a=30\n",
    "b=40\n",
    "if a<b:\n",
    "    print(\"a is strictly less than 40\")\n",
    "   "
   ]
  },
  {
   "cell_type": "code",
   "execution_count": 18,
   "id": "c134a5e9-5fdc-4939-9bda-ecadb38c3e76",
   "metadata": {},
   "outputs": [
    {
     "name": "stdin",
     "output_type": "stream",
     "text": [
      "Enter marks 78\n"
     ]
    },
    {
     "name": "stdout",
     "output_type": "stream",
     "text": [
      "Pass\n"
     ]
    }
   ],
   "source": [
    "marks=int(input(\"Enter marks\"))\n",
    "if marks>=35:\n",
    "    print(\"Pass\")"
   ]
  },
  {
   "cell_type": "code",
   "execution_count": 21,
   "id": "837bd001-23af-4aea-b1e2-54e5e834a328",
   "metadata": {},
   "outputs": [
    {
     "name": "stdin",
     "output_type": "stream",
     "text": [
      "Enter marks 33\n"
     ]
    },
    {
     "name": "stdout",
     "output_type": "stream",
     "text": [
      "Fail\n"
     ]
    }
   ],
   "source": [
    "marks=int(input(\"Enter marks\"))\n",
    "if marks<=35:\n",
    "    print(\"Fail\")\n",
    "          "
   ]
  },
  {
   "cell_type": "code",
   "execution_count": 33,
   "id": "40032801-f792-48e7-910e-2dbc69ce4b89",
   "metadata": {},
   "outputs": [
    {
     "name": "stdout",
     "output_type": "stream",
     "text": [
      "even\n"
     ]
    }
   ],
   "source": [
    "a=4\n",
    "if a % 2 == 0:\n",
    "    print(\"even\")"
   ]
  },
  {
   "cell_type": "code",
   "execution_count": 34,
   "id": "41ea049b-38ef-452d-8444-2a9ad7c78872",
   "metadata": {},
   "outputs": [
    {
     "name": "stdin",
     "output_type": "stream",
     "text": [
      "Enter value 12\n"
     ]
    },
    {
     "name": "stdout",
     "output_type": "stream",
     "text": [
      "a is the biggest integer value\n"
     ]
    }
   ],
   "source": [
    "values=int(input(\"Enter value\"))\n",
    "if a>=0:\n",
    "    print(\"a is the biggest integer value\")"
   ]
  },
  {
   "cell_type": "code",
   "execution_count": null,
   "id": "4ed71bee-7bd4-4132-a80c-8f55d3ce02d2",
   "metadata": {},
   "outputs": [],
   "source": []
  }
 ],
 "metadata": {
  "kernelspec": {
   "display_name": "Python 3 (ipykernel)",
   "language": "python",
   "name": "python3"
  },
  "language_info": {
   "codemirror_mode": {
    "name": "ipython",
    "version": 3
   },
   "file_extension": ".py",
   "mimetype": "text/x-python",
   "name": "python",
   "nbconvert_exporter": "python",
   "pygments_lexer": "ipython3",
   "version": "3.11.7"
  }
 },
 "nbformat": 4,
 "nbformat_minor": 5
}
