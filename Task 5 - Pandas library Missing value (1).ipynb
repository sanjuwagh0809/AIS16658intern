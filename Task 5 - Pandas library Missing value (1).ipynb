{
 "cells": [
  {
   "cell_type": "code",
   "execution_count": null,
   "id": "fd70cc74-d82a-414d-9693-075ced98a587",
   "metadata": {},
   "outputs": [],
   "source": [
    "# Missing Value\n",
    "#Missing values checking using Pandas:\n",
    "load the dataset into a DataFrame.\n",
    "use isna(),or isnull() to identify missing values \n",
    "use sum() to count the number of missing values"
   ]
  },
  {
   "cell_type": "code",
   "execution_count": 9,
   "id": "50ca2f4d-4c26-4a6e-b102-b4a8e32dc744",
   "metadata": {},
   "outputs": [
    {
     "name": "stdout",
     "output_type": "stream",
     "text": [
      "\n",
      "Missing values(True indicates missing):\n",
      "       A      B      C\n",
      "0  False   True  False\n",
      "1  False  False  False\n",
      "2   True  False  False\n",
      "3  False  False   True\n"
     ]
    }
   ],
   "source": [
    "import pandas as pd\n",
    "data={\n",
    "    'A':[11,22,None,44],\n",
    "    'B':[None,22,33,44],\n",
    "    'C':[11,22,33,None]\n",
    "     }\n",
    "df = pd.DataFrame(data)\n",
    "#check for missing values using function \"isna()\"\n",
    "print(\"\\nMissing values(True indicates missing):\")\n",
    "print(df.isna())"
   ]
  },
  {
   "cell_type": "code",
   "execution_count": 10,
   "id": "67c7939d-ce44-4833-ac1a-f03fff6d878c",
   "metadata": {},
   "outputs": [
    {
     "name": "stdout",
     "output_type": "stream",
     "text": [
      "\n",
      "Missing values(True indicates missing):\n",
      "       A      B      C\n",
      "0  False   True  False\n",
      "1  False  False  False\n",
      "2   True  False  False\n",
      "3  False  False   True\n"
     ]
    }
   ],
   "source": [
    "# check for missing values using function \"isnull()\"\n",
    "import pandas as pd\n",
    "data={\n",
    "    'A':[11,22,None,44],\n",
    "    'B':[None,22,33,44],\n",
    "    'C':[11,22,33,None]\n",
    "     }\n",
    "df = pd.DataFrame(data)\n",
    "print(\"\\nMissing values(True indicates missing):\")\n",
    "print(df.isnull())"
   ]
  },
  {
   "cell_type": "code",
   "execution_count": 11,
   "id": "d043ec8a-a39b-4023-b513-49c6e42fcfea",
   "metadata": {},
   "outputs": [
    {
     "name": "stdout",
     "output_type": "stream",
     "text": [
      "\n",
      "Missing values count per column:\n",
      "A    1\n",
      "B    1\n",
      "C    1\n",
      "dtype: int64\n"
     ]
    }
   ],
   "source": [
    "#Summing up missing values per column \n",
    "print(\"\\nMissing values count per column:\")\n",
    "print(df.isna().sum())"
   ]
  },
  {
   "cell_type": "code",
   "execution_count": 13,
   "id": "24b708bd-1f9a-4a2b-ba91-14d6eae04bb1",
   "metadata": {},
   "outputs": [
    {
     "name": "stdout",
     "output_type": "stream",
     "text": [
      "\n",
      " Total Missing values in dataframe:\n",
      "3\n"
     ]
    }
   ],
   "source": [
    "# Checking if there are any missing values in DataFrame:\n",
    "print(\"\\n Total Missing values in dataframe:\")\n",
    "print(df.isna().sum().sum())"
   ]
  },
  {
   "cell_type": "code",
   "execution_count": 14,
   "id": "124bd4d6-6d49-42f3-b15f-ce48fe98b433",
   "metadata": {},
   "outputs": [
    {
     "name": "stdout",
     "output_type": "stream",
     "text": [
      "\n",
      "DataFrame info:\n",
      "<class 'pandas.core.frame.DataFrame'>\n",
      "RangeIndex: 4 entries, 0 to 3\n",
      "Data columns (total 3 columns):\n",
      " #   Column  Non-Null Count  Dtype  \n",
      "---  ------  --------------  -----  \n",
      " 0   A       3 non-null      float64\n",
      " 1   B       3 non-null      float64\n",
      " 2   C       3 non-null      float64\n",
      "dtypes: float64(3)\n",
      "memory usage: 228.0 bytes\n",
      "None\n"
     ]
    }
   ],
   "source": [
    "# Checking For missing values using info():\n",
    "print(\"\\nDataFrame info:\")\n",
    "print(df.info())"
   ]
  },
  {
   "cell_type": "code",
   "execution_count": 15,
   "id": "08cc7570-34ed-4871-845c-6f14974a9d9b",
   "metadata": {},
   "outputs": [
    {
     "name": "stdout",
     "output_type": "stream",
     "text": [
      "\n",
      "Rows with any missing values:\n",
      "      A     B     C\n",
      "0  11.0   NaN  11.0\n",
      "2   NaN  33.0  33.0\n",
      "3  44.0  44.0   NaN\n"
     ]
    }
   ],
   "source": [
    "# Identifying Rows with Missing Values:\n",
    "print(\"\\nRows with any missing values:\")\n",
    "print(df[df.isna().any(axis=1)])"
   ]
  },
  {
   "cell_type": "code",
   "execution_count": 16,
   "id": "8c88e9c0-d65e-4f3c-8d19-3a689fde0242",
   "metadata": {},
   "outputs": [
    {
     "name": "stdout",
     "output_type": "stream",
     "text": [
      "\n",
      "Columns with any missing values:\n",
      "      A     B     C\n",
      "0  11.0   NaN  11.0\n",
      "1  22.0  22.0  22.0\n",
      "2   NaN  33.0  33.0\n",
      "3  44.0  44.0   NaN\n"
     ]
    }
   ],
   "source": [
    "# Identifying Columns with Missing Values:\n",
    "print(\"\\nColumns with any missing values:\")\n",
    "print(df.loc[:,df.isna().any()])"
   ]
  },
  {
   "cell_type": "code",
   "execution_count": 17,
   "id": "42481d38-59b2-4c8b-8a81-8b0230c32c4e",
   "metadata": {},
   "outputs": [
    {
     "name": "stdout",
     "output_type": "stream",
     "text": [
      "DataFrame after dropping rows with any missing values:\n",
      "      A     B     C\n",
      "1  22.0  22.0  22.0\n"
     ]
    }
   ],
   "source": [
    "# Dropping rows with any missing values \n",
    "df_dropped_rows = df. dropna(axis=0)\n",
    "print(\"DataFrame after dropping rows with any missing values:\")\n",
    "print(df_dropped_rows)"
   ]
  },
  {
   "cell_type": "code",
   "execution_count": 18,
   "id": "f77835a2-dfed-4787-9a76-2ab6f99bbfeb",
   "metadata": {},
   "outputs": [
    {
     "name": "stdout",
     "output_type": "stream",
     "text": [
      "DataFrame after dropping columns with any missing values:\n",
      "Empty DataFrame\n",
      "Columns: []\n",
      "Index: [0, 1, 2, 3]\n"
     ]
    }
   ],
   "source": [
    "# Dropping Columns with any missing values :\n",
    "df_dropped_columns = df. dropna(axis=1)\n",
    "print(\"DataFrame after dropping columns with any missing values:\")\n",
    "print(df_dropped_columns)\n"
   ]
  },
  {
   "cell_type": "code",
   "execution_count": 22,
   "id": "56ce8b2a-d9f2-47c0-b724-92b865509837",
   "metadata": {},
   "outputs": [
    {
     "name": "stdout",
     "output_type": "stream",
     "text": [
      "\n",
      "DataFrame after dropping rows only if all values are missing:\n",
      "      A     B     C\n",
      "0  11.0   NaN  11.0\n",
      "1  22.0  22.0  22.0\n",
      "2   NaN  33.0  33.0\n",
      "3  44.0  44.0   NaN\n"
     ]
    }
   ],
   "source": [
    "# Additional Options:\n",
    "# Dropping rows only if all values are missing:\n",
    "df_drop_rows_all = df.dropna(axis =0,how ='all')\n",
    "print(\"\\nDataFrame after dropping rows only if all values are missing:\")\n",
    "print(df_drop_rows_all )"
   ]
  },
  {
   "cell_type": "code",
   "execution_count": 23,
   "id": "2520d901-bc5b-4ab0-9ff8-4de887d354fc",
   "metadata": {},
   "outputs": [
    {
     "name": "stdout",
     "output_type": "stream",
     "text": [
      "\n",
      "DataFrame after dropping columns only if all values are missing:\n",
      "      A     B     C\n",
      "0  11.0   NaN  11.0\n",
      "1  22.0  22.0  22.0\n",
      "2   NaN  33.0  33.0\n",
      "3  44.0  44.0   NaN\n"
     ]
    }
   ],
   "source": [
    "# Dropping columns only if all values are missing :\n",
    "df_drop_columns_all= df.dropna(axis=1,how=\"all\")\n",
    "print(\"\\nDataFrame after dropping columns only if all values are missing:\")\n",
    "print(df_drop_columns_all)"
   ]
  },
  {
   "cell_type": "code",
   "execution_count": 24,
   "id": "9829f9e0-8b1c-490d-a370-59b9aa04b555",
   "metadata": {},
   "outputs": [
    {
     "name": "stdout",
     "output_type": "stream",
     "text": [
      "\n",
      "DataFrame after rows with less than 3 non- missing values:\n",
      "      A     B     C\n",
      "1  22.0  22.0  22.0\n"
     ]
    }
   ],
   "source": [
    "# Dropping rows with less than 3 non- missing values:\n",
    "df_drop_rows_thresh = df.dropna(axis=0,thresh=3)\n",
    "print(\"\\nDataFrame after rows with less than 3 non- missing values:\")\n",
    "print(df_drop_rows_thresh)"
   ]
  },
  {
   "cell_type": "code",
   "execution_count": 27,
   "id": "16ef1238-65ee-4a60-a19e-d08b68f33ea1",
   "metadata": {},
   "outputs": [
    {
     "name": "stdout",
     "output_type": "stream",
     "text": [
      "\n",
      "DataFrame after columns with less than 3 non- missing values:\n",
      "      A     B     C\n",
      "0  11.0   NaN  11.0\n",
      "1  22.0  22.0  22.0\n",
      "2   NaN  33.0  33.0\n",
      "3  44.0  44.0   NaN\n"
     ]
    }
   ],
   "source": [
    "# Dropping columns with less than 3 non- missing values:\n",
    "df_drop_columns_thresh = df.dropna(axis=1,thresh=3)\n",
    "print(\"\\nDataFrame after columns with less than 3 non- missing values:\")\n",
    "print(df_drop_columns_thresh)"
   ]
  },
  {
   "cell_type": "code",
   "execution_count": 29,
   "id": "64aca020-d3e2-4af2-b1f9-c37141da085f",
   "metadata": {},
   "outputs": [
    {
     "name": "stdout",
     "output_type": "stream",
     "text": [
      "\n",
      "DataFrame after filling missing values with Column Means:\n",
      "           A     B     C\n",
      "0  11.000000  33.0  11.0\n",
      "1  22.000000  22.0  22.0\n",
      "2  25.666667  33.0  33.0\n",
      "3  44.000000  44.0  22.0\n"
     ]
    }
   ],
   "source": [
    "#Filling Missing Values with Column Means Using apply\n",
    "df_filled = df.apply(lambda col:col.fillna(col.mean()),axis = 0)\n",
    "print(\"\\nDataFrame after filling missing values with Column Means:\")\n",
    "print(df_filled)"
   ]
  },
  {
   "cell_type": "code",
   "execution_count": 30,
   "id": "82e21199-c082-41c5-860d-79217f097cf4",
   "metadata": {},
   "outputs": [
    {
     "name": "stdout",
     "output_type": "stream",
     "text": [
      "\n",
      "DataFrame after filling missing values with Column Means using fillna:\n",
      "           A     B     C\n",
      "0  11.000000  33.0  11.0\n",
      "1  22.000000  22.0  22.0\n",
      "2  25.666667  33.0  33.0\n",
      "3  44.000000  44.0  22.0\n"
     ]
    }
   ],
   "source": [
    "#Filling Missing Values with Column Means Using fillna:\n",
    "df_filled_fillna = df.fillna(df.mean())\n",
    "print(\"\\nDataFrame after filling missing values with Column Means using fillna:\")\n",
    "print(df_filled_fillna)"
   ]
  },
  {
   "cell_type": "code",
   "execution_count": 31,
   "id": "63e97dba-0bbc-4963-9cfc-1a3d5891f8b5",
   "metadata": {},
   "outputs": [
    {
     "name": "stdout",
     "output_type": "stream",
     "text": [
      "\n",
      "DataFrame after filling missing values with row mean:\n",
      "      A     B     C\n",
      "0  11.0  11.0  11.0\n",
      "1  22.0  22.0  22.0\n",
      "2  33.0  33.0  33.0\n",
      "3  44.0  44.0  44.0\n"
     ]
    }
   ],
   "source": [
    "# filling Missing values with the mean of each row:\n",
    "df_filled_row_mean = df.apply(lambda row: row.fillna(row.mean()),axis=1)\n",
    "print(\"\\nDataFrame after filling missing values with row mean:\")\n",
    "print(df_filled_row_mean)"
   ]
  },
  {
   "cell_type": "code",
   "execution_count": 33,
   "id": "dd2df921-dd77-47a7-99a1-e060dff606cb",
   "metadata": {},
   "outputs": [
    {
     "name": "stdout",
     "output_type": "stream",
     "text": [
      "\n",
      "Medianvalues for each column:\n",
      "A    22.0\n",
      "B    33.0\n",
      "C    22.0\n",
      "dtype: float64\n"
     ]
    }
   ],
   "source": [
    "# Median:\n",
    "# Calculate the median for each column:\n",
    "medians = df.median()\n",
    "print(\"\\nMedianvalues for each column:\")\n",
    "print(medians)"
   ]
  },
  {
   "cell_type": "code",
   "execution_count": 35,
   "id": "d57fd9c1-eb29-4ee9-a19c-ac12c1fa8b4c",
   "metadata": {},
   "outputs": [
    {
     "name": "stdout",
     "output_type": "stream",
     "text": [
      "\n",
      "DataFrame after filling missing values with medians:\n",
      "df_filled\n"
     ]
    }
   ],
   "source": [
    "#Fill missing values with the median of the respective column:\n",
    "df_filled = df.fillna(medians)\n",
    "print(\"\\nDataFrame after filling missing values with medians:\")\n",
    "print(\"df_filled\")      "
   ]
  },
  {
   "cell_type": "code",
   "execution_count": 36,
   "id": "af34551d-9ae8-43b8-af96-f5bb1f1bec5f",
   "metadata": {},
   "outputs": [
    {
     "name": "stdout",
     "output_type": "stream",
     "text": [
      "\n",
      "DataFrame after filling missing values with medians in specific columns:\n",
      "      A     B     C\n",
      "0  11.0  33.0  11.0\n",
      "1  22.0  22.0  22.0\n",
      "2  22.0  33.0  33.0\n",
      "3  44.0  44.0   NaN\n"
     ]
    }
   ],
   "source": [
    "#Fill missing values with the median of the specific columns:\n",
    "df['A'] = df['A'].fillna(df['A'].median())\n",
    "df['B'] = df['B'].fillna(df['B'].median())   \n",
    "print(\"\\nDataFrame after filling missing values with medians in specific columns:\")\n",
    "print(df)"
   ]
  },
  {
   "cell_type": "code",
   "execution_count": null,
   "id": "2c3c4774-d880-48ec-a6e6-9a5dfc75bd1c",
   "metadata": {},
   "outputs": [],
   "source": []
  }
 ],
 "metadata": {
  "kernelspec": {
   "display_name": "Python 3 (ipykernel)",
   "language": "python",
   "name": "python3"
  },
  "language_info": {
   "codemirror_mode": {
    "name": "ipython",
    "version": 3
   },
   "file_extension": ".py",
   "mimetype": "text/x-python",
   "name": "python",
   "nbconvert_exporter": "python",
   "pygments_lexer": "ipython3",
   "version": "3.11.7"
  }
 },
 "nbformat": 4,
 "nbformat_minor": 5
}
