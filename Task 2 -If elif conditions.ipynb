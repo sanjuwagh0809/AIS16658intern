{
 "cells": [
  {
   "cell_type": "markdown",
   "id": "9fb082b9-79d7-46fc-9805-3158839d5b6e",
   "metadata": {},
   "source": [
    "# If elif \n",
    "The if-elif-else statement is used in Python for decision-making i.e. the program will evaluate the test expression and execute the remaining statements only if the given test expression turns out to be true. This allows validation for multiple expressions. This article will show how the traditional if…elif…else statement differs from If Elif in Python."
   ]
  },
  {
   "cell_type": "code",
   "execution_count": 1,
   "id": "6b294289-1fa3-4442-ae5e-88cd69aae34d",
   "metadata": {},
   "outputs": [
    {
     "name": "stdout",
     "output_type": "stream",
     "text": [
      "Zero\n"
     ]
    }
   ],
   "source": [
    "x = 0\n",
    "if x > 0:\n",
    "    print(\"Positive\")\n",
    "elif x < 0:\n",
    "    print(\"Negative\")\n",
    "else:\n",
    "    print(\"Zero\")\n"
   ]
  },
  {
   "cell_type": "code",
   "execution_count": 4,
   "id": "3f2b2ab4-8048-43a6-bc5a-d38de7238a8e",
   "metadata": {},
   "outputs": [
    {
     "name": "stdout",
     "output_type": "stream",
     "text": [
      "Grade : P \n"
     ]
    }
   ],
   "source": [
    "score =35 \n",
    "if score>=80:\n",
    "    print(\"Grade : A \")\n",
    "elif score>=35:\n",
    "    print(\"Grade : P \")\n",
    "else:\n",
    "    print(\"Grade : F\")"
   ]
  },
  {
   "cell_type": "code",
   "execution_count": 6,
   "id": "19faa5cc-26f9-4bed-91fb-1ca2b03e84d8",
   "metadata": {},
   "outputs": [
    {
     "name": "stdin",
     "output_type": "stream",
     "text": [
      "enter mark 34\n"
     ]
    },
    {
     "name": "stdout",
     "output_type": "stream",
     "text": [
      "Fail\n"
     ]
    }
   ],
   "source": [
    "mark=int(input(\"enter mark\"))\n",
    "if mark>=90:\n",
    "    print(\"outstanding\")\n",
    "elif mark>=80:\n",
    "    print(\" very very Good\")\n",
    "elif mark>=75:\n",
    "    print(\" very Good\")\n",
    "elif mark>=35:\n",
    "    print(\"Good\")\n",
    "else:\n",
    "    print(\"Fail\")"
   ]
  },
  {
   "cell_type": "code",
   "execution_count": 8,
   "id": "133a57e8-072c-43de-a0ab-87a4e878e12e",
   "metadata": {},
   "outputs": [
    {
     "name": "stdout",
     "output_type": "stream",
     "text": [
      "Do not forget your umbrella\n"
     ]
    }
   ],
   "source": [
    "weather =\"rainy\"\n",
    "if weather==\"sunny\":\n",
    "    print(\"It`s d great day for a walk!\")\n",
    "elif weather==\"rainy\":\n",
    "    print(\"Do not forget your umbrella\")\n",
    "elif weather==\"snowy\":\n",
    "    print(\"stay warm and safe out there\")\n",
    "\n",
    "else:\n",
    "    print(\"check the weather forecast\")"
   ]
  },
  {
   "cell_type": "code",
   "execution_count": 11,
   "id": "483cce53-a3a5-4ea9-9afb-dbf46e8eed65",
   "metadata": {},
   "outputs": [
    {
     "name": "stdout",
     "output_type": "stream",
     "text": [
      " not eligiable to job\n"
     ]
    }
   ],
   "source": [
    "experience=2\n",
    "education=\"Bachelor`s degree\"\n",
    "if experience>=4:\n",
    "    print(\"eligiable to job\")\n",
    "elif education==\"Master`s degree\":\n",
    "    print(\"eligiable to job\")\n",
    "else:\n",
    "    print (\" not eligiable to job\")"
   ]
  },
  {
   "cell_type": "code",
   "execution_count": 12,
   "id": "d3693499-190e-46b0-a169-b00a371635a0",
   "metadata": {},
   "outputs": [
    {
     "name": "stdout",
     "output_type": "stream",
     "text": [
      "x is less than 10!\n"
     ]
    }
   ],
   "source": [
    "x = 1\n",
    "if x > 10:\n",
    "    print(\" x is greater than 10!\")\n",
    "elif x < 10:\n",
    "      print(\"x is less than 10!\")\n",
    "elif x < 20 :\n",
    "      print(\"x is less than 20!\")\n",
    "else:\n",
    "     print(\"x is equal to 10\")"
   ]
  },
  {
   "cell_type": "code",
   "execution_count": 13,
   "id": "910262a8-7074-45ba-a39c-ee07e9a1048a",
   "metadata": {},
   "outputs": [
    {
     "name": "stdout",
     "output_type": "stream",
     "text": [
      "odd no.\n"
     ]
    }
   ],
   "source": [
    "a=13\n",
    "if(a%2==0):\n",
    "    print(\"even no.\")\n",
    "elif(a%2!=0):\n",
    "    print(\"odd no.\")\n",
    "else:\n",
    "    print(\"no.is zero\")\n"
   ]
  },
  {
   "cell_type": "code",
   "execution_count": 15,
   "id": "d49f043c-982b-4250-89b5-92c2307ee3a5",
   "metadata": {},
   "outputs": [
    {
     "name": "stdout",
     "output_type": "stream",
     "text": [
      "Looking around in the bed\n"
     ]
    }
   ],
   "source": [
    "room=\"bed\"\n",
    "if(room==\"kitchen\"):\n",
    "    print(\"Looking around in the kitchen\")\n",
    "elif(room==\"bed\"):\n",
    "    print(\"Looking around in the bed\")\n",
    "else:\n",
    "     print(\"Looking around elsewhere\")\n"
   ]
  },
  {
   "cell_type": "code",
   "execution_count": 17,
   "id": "17594da4-994a-4775-8295-13670fce65d7",
   "metadata": {},
   "outputs": [
    {
     "name": "stdout",
     "output_type": "stream",
     "text": [
      "pass\n"
     ]
    }
   ],
   "source": [
    "percentage=55\n",
    "if(percentage>=70):\n",
    "   print(\"destinction\")\n",
    "elif(percentage>=40):\n",
    "    print(\"pass\")\n",
    "else:\n",
    "    print(\"fail\")"
   ]
  },
  {
   "cell_type": "code",
   "execution_count": 18,
   "id": "28ad9377-7e01-4b03-befd-59a7611565ea",
   "metadata": {},
   "outputs": [
    {
     "name": "stdout",
     "output_type": "stream",
     "text": [
      "a is positive no\n"
     ]
    }
   ],
   "source": [
    "a=10\n",
    "if(a>0):\n",
    "    print(\"a is positive no\")\n",
    "elif(a<0):\n",
    "    print(\"a is negative no\")\n",
    "else:\n",
    "    print(\"no.is zero\")"
   ]
  },
  {
   "cell_type": "code",
   "execution_count": null,
   "id": "2d0265b5-0102-42d1-8037-8fd3b97e138e",
   "metadata": {},
   "outputs": [],
   "source": []
  }
 ],
 "metadata": {
  "kernelspec": {
   "display_name": "Python 3 (ipykernel)",
   "language": "python",
   "name": "python3"
  },
  "language_info": {
   "codemirror_mode": {
    "name": "ipython",
    "version": 3
   },
   "file_extension": ".py",
   "mimetype": "text/x-python",
   "name": "python",
   "nbconvert_exporter": "python",
   "pygments_lexer": "ipython3",
   "version": "3.11.7"
  }
 },
 "nbformat": 4,
 "nbformat_minor": 5
}
