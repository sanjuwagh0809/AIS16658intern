{
 "cells": [
  {
   "cell_type": "markdown",
   "id": "61c1b425-7df2-4a1c-8e0f-a0cc681ff4ec",
   "metadata": {},
   "source": [
    "# Variable declaration rules \n",
    "1) A variable name must start with a letter or an underscore character.\r",
    "2) A variablet cannot start with a number.3) A \r\n",
    "Variable names can only contain alphanumeric characters and underscores (A-z, 0-9, and _)4) A .\r\n",
    "Variable names are case-sensitive (e.g., name, Name, and NAME athree different variables)incles "
   ]
  },
  {
   "cell_type": "code",
   "execution_count": null,
   "id": "6c51a52d-4584-4189-b984-5cda97e9b385",
   "metadata": {},
   "outputs": [],
   "source": []
  }
 ],
 "metadata": {
  "kernelspec": {
   "display_name": "Python 3 (ipykernel)",
   "language": "python",
   "name": "python3"
  },
  "language_info": {
   "codemirror_mode": {
    "name": "ipython",
    "version": 3
   },
   "file_extension": ".py",
   "mimetype": "text/x-python",
   "name": "python",
   "nbconvert_exporter": "python",
   "pygments_lexer": "ipython3",
   "version": "3.11.7"
  }
 },
 "nbformat": 4,
 "nbformat_minor": 5
}
