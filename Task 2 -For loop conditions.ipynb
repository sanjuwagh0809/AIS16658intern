{
 "cells": [
  {
   "cell_type": "markdown",
   "id": "12663f16-67a9-4f5b-b8c2-251168dff0d0",
   "metadata": {},
   "source": [
    "# for loop \n",
    "a for loop is used for iterating over a sequence, such as a list, tuple, dictionary, set, or string. Here are some key points about for loops in Python"
   ]
  },
  {
   "cell_type": "code",
   "execution_count": 1,
   "id": "99075b3e-aec0-428e-8718-8cbe1efaf59c",
   "metadata": {},
   "outputs": [
    {
     "name": "stdout",
     "output_type": "stream",
     "text": [
      "apple\n",
      "banana\n",
      "cherry\n"
     ]
    }
   ],
   "source": [
    "fruits = [\"apple\", \"banana\", \"cherry\"]\n",
    "for x in fruits:\n",
    "    print(x)"
   ]
  },
  {
   "cell_type": "code",
   "execution_count": 3,
   "id": "7bbf130f-cd00-440d-ad50-f869f9123c4c",
   "metadata": {},
   "outputs": [
    {
     "name": "stdout",
     "output_type": "stream",
     "text": [
      "s\n",
      "t\n",
      "a\n",
      "t\n",
      "i\n",
      "s\n",
      "t\n",
      "i\n",
      "c\n",
      "s\n"
     ]
    }
   ],
   "source": [
    "l=\"statistics\"\n",
    "for x in l:\n",
    "    print(x)\n",
    "    "
   ]
  },
  {
   "cell_type": "code",
   "execution_count": 3,
   "id": "eb239884-b8cf-421a-b7e9-0925fdc81127",
   "metadata": {},
   "outputs": [
    {
     "name": "stdout",
     "output_type": "stream",
     "text": [
      "9\n"
     ]
    }
   ],
   "source": [
    " for i in range (10):\n",
    "     if i % 2 == 0:\n",
    "         continue \n",
    "print(i)\n"
   ]
  },
  {
   "cell_type": "code",
   "execution_count": 2,
   "id": "5ee9e18a-0cb5-481a-b421-ad7d330a1d7a",
   "metadata": {},
   "outputs": [
    {
     "name": "stdin",
     "output_type": "stream",
     "text": [
      "enter name pooja\n"
     ]
    },
    {
     "name": "stdout",
     "output_type": "stream",
     "text": [
      "pooja\n",
      "ooja\n",
      "oja\n",
      "ja\n",
      "a\n"
     ]
    }
   ],
   "source": [
    "st=input(\"enter name\")\n",
    "for x in range (0,len(st),+1):\n",
    "    print(st[x:])"
   ]
  },
  {
   "cell_type": "code",
   "execution_count": 4,
   "id": "af3380cc-cccd-41c7-bb18-45a505284a81",
   "metadata": {},
   "outputs": [
    {
     "name": "stdout",
     "output_type": "stream",
     "text": [
      "5\n"
     ]
    }
   ],
   "source": [
    "for i in range (10):\n",
    "    if i == 5 : \n",
    "        break\n",
    "print(i)"
   ]
  },
  {
   "cell_type": "code",
   "execution_count": 8,
   "id": "5f377e4f-e157-47eb-9d11-00f9bce7cda3",
   "metadata": {},
   "outputs": [
    {
     "name": "stdout",
     "output_type": "stream",
     "text": [
      "0\n",
      "1\n",
      "2\n",
      "3\n",
      "4\n"
     ]
    }
   ],
   "source": [
    "for i in range(5):\n",
    " print(i)"
   ]
  },
  {
   "cell_type": "code",
   "execution_count": 9,
   "id": "b89507f7-32b8-4ddc-a2c5-dd6db7a68619",
   "metadata": {},
   "outputs": [
    {
     "name": "stdout",
     "output_type": "stream",
     "text": [
      "name:Alice\n",
      "age:25\n",
      "city:India\n"
     ]
    }
   ],
   "source": [
    "person={\"name\": \"Alice\",\"age\":25,\"city\":\"India\"}\n",
    "for key,value in person .items():\n",
    "    print(f\"{key}:{value}\")"
   ]
  },
  {
   "cell_type": "code",
   "execution_count": 10,
   "id": "ea496047-5988-413c-ae42-1b54cfd864d1",
   "metadata": {},
   "outputs": [
    {
     "name": "stdout",
     "output_type": "stream",
     "text": [
      "10\n",
      "9\n",
      "8\n",
      "7\n",
      "6\n",
      "5\n"
     ]
    }
   ],
   "source": [
    "for x in range (10,4,-1):\n",
    "    print(x)"
   ]
  },
  {
   "cell_type": "code",
   "execution_count": 12,
   "id": "74d7b6d5-2c19-41a8-9a8b-7a0f1e96b8e2",
   "metadata": {},
   "outputs": [
    {
     "name": "stdout",
     "output_type": "stream",
     "text": [
      "Occurrences of 'o':2\n"
     ]
    }
   ],
   "source": [
    "string = \"hello world\"\n",
    "char =\"o\"\n",
    "count = 0\n",
    "for c in string:\n",
    "    if c == char:\n",
    "        count += 1\n",
    "print (f\"Occurrences of '{char}':{count}\")"
   ]
  },
  {
   "cell_type": "code",
   "execution_count": 15,
   "id": "8d51e0cb-6e0b-4d29-86c5-6e3cfcee4cbb",
   "metadata": {},
   "outputs": [
    {
     "name": "stdout",
     "output_type": "stream",
     "text": [
      "1 2 3 \n",
      "4 5 6 \n",
      "7 8 9 \n"
     ]
    }
   ],
   "source": [
    "matrix=[\n",
    "    [1,2,3],\n",
    "    [4,5,6],\n",
    "    [7,8,9]\n",
    "   ]\n",
    "for row in matrix:\n",
    "    for item in row:\n",
    "        print(item,end=\" \")\n",
    "    print()"
   ]
  },
  {
   "cell_type": "code",
   "execution_count": null,
   "id": "76b97644-6986-4990-9d58-347910e8c389",
   "metadata": {},
   "outputs": [],
   "source": []
  }
 ],
 "metadata": {
  "kernelspec": {
   "display_name": "Python 3 (ipykernel)",
   "language": "python",
   "name": "python3"
  },
  "language_info": {
   "codemirror_mode": {
    "name": "ipython",
    "version": 3
   },
   "file_extension": ".py",
   "mimetype": "text/x-python",
   "name": "python",
   "nbconvert_exporter": "python",
   "pygments_lexer": "ipython3",
   "version": "3.11.7"
  }
 },
 "nbformat": 4,
 "nbformat_minor": 5
}
