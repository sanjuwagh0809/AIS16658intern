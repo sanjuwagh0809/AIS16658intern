{
 "cells": [
  {
   "cell_type": "markdown",
   "id": "85ee9d2b-2397-4a07-996e-2578e475f516",
   "metadata": {},
   "source": [
    "# Operators in python \n",
    "1) Arithmatic Operator ( +,-,*,/,**(Power), %(modulus))\n",
    "2) Assingment Operator ( +=,-=,*=)\n",
    "3) Comparision Operator (<,>,<=,>=,==,!=)\n",
    "4) Logical Operator(And,Or,,Not)\n",
    "5) Identity Operator(is,is not)\n",
    "6) Membership Operator(in,not in)\n",
    "7) Bitwise Operatorinc"
   ]
  },
  {
   "cell_type": "code",
   "execution_count": 2,
   "id": "de71b14b-ac82-4793-a671-cdcd3cecfaa5",
   "metadata": {},
   "outputs": [
    {
     "data": {
      "text/plain": [
       "12"
      ]
     },
     "execution_count": 2,
     "metadata": {},
     "output_type": "execute_result"
    }
   ],
   "source": [
    "# Arithmatic Operator ( +,-,*,/,**(Power), %(modulus))\n",
    "5+7"
   ]
  },
  {
   "cell_type": "code",
   "execution_count": 3,
   "id": "fcefdbed-36e0-4aea-87aa-dc099f329321",
   "metadata": {},
   "outputs": [
    {
     "data": {
      "text/plain": [
       "2"
      ]
     },
     "execution_count": 3,
     "metadata": {},
     "output_type": "execute_result"
    }
   ],
   "source": [
    "7-5"
   ]
  },
  {
   "cell_type": "code",
   "execution_count": 4,
   "id": "839368a3-1127-46db-87f7-bc49ff573fab",
   "metadata": {},
   "outputs": [
    {
     "data": {
      "text/plain": [
       "35"
      ]
     },
     "execution_count": 4,
     "metadata": {},
     "output_type": "execute_result"
    }
   ],
   "source": [
    "7*5"
   ]
  },
  {
   "cell_type": "code",
   "execution_count": 5,
   "id": "19f23b5f-a4b7-4d75-9b2e-2bd785e774bc",
   "metadata": {},
   "outputs": [
    {
     "data": {
      "text/plain": [
       "1.4"
      ]
     },
     "execution_count": 5,
     "metadata": {},
     "output_type": "execute_result"
    }
   ],
   "source": [
    "7/5"
   ]
  },
  {
   "cell_type": "code",
   "execution_count": 6,
   "id": "2cc368fe-5359-49b1-970b-6ace677aca48",
   "metadata": {},
   "outputs": [
    {
     "data": {
      "text/plain": [
       "8"
      ]
     },
     "execution_count": 6,
     "metadata": {},
     "output_type": "execute_result"
    }
   ],
   "source": [
    "2**3"
   ]
  },
  {
   "cell_type": "code",
   "execution_count": 7,
   "id": "eff2700b-c930-48ac-9edb-4519869bb17c",
   "metadata": {},
   "outputs": [
    {
     "data": {
      "text/plain": [
       "0"
      ]
     },
     "execution_count": 7,
     "metadata": {},
     "output_type": "execute_result"
    }
   ],
   "source": [
    "40%10"
   ]
  },
  {
   "cell_type": "code",
   "execution_count": 10,
   "id": "f147b2b9-1939-4a40-a47d-8307bfe21728",
   "metadata": {},
   "outputs": [],
   "source": [
    "# Assingment Operator ( +=,-=,*=)\n"
   ]
  },
  {
   "cell_type": "code",
   "execution_count": 25,
   "id": "0879af4a-6edf-4db1-85f7-0b6417321bdf",
   "metadata": {},
   "outputs": [
    {
     "data": {
      "text/plain": [
       "10"
      ]
     },
     "execution_count": 25,
     "metadata": {},
     "output_type": "execute_result"
    }
   ],
   "source": [
    "x=10\n",
    "x"
   ]
  },
  {
   "cell_type": "code",
   "execution_count": 26,
   "id": "768fdfd3-62ad-43e3-8ff6-4ca03af0dbb3",
   "metadata": {},
   "outputs": [
    {
     "data": {
      "text/plain": [
       "14"
      ]
     },
     "execution_count": 26,
     "metadata": {},
     "output_type": "execute_result"
    }
   ],
   "source": [
    "x+=4\n",
    "x\n"
   ]
  },
  {
   "cell_type": "code",
   "execution_count": 28,
   "id": "6d6b1a82-a593-4e36-99a1-16cb7548b304",
   "metadata": {},
   "outputs": [
    {
     "data": {
      "text/plain": [
       "6"
      ]
     },
     "execution_count": 28,
     "metadata": {},
     "output_type": "execute_result"
    }
   ],
   "source": [
    "x-=4\n",
    "x\n"
   ]
  },
  {
   "cell_type": "code",
   "execution_count": 35,
   "id": "f799ea59-9159-43df-b04d-1a69fb7d5294",
   "metadata": {},
   "outputs": [
    {
     "data": {
      "text/plain": [
       "98304"
      ]
     },
     "execution_count": 35,
     "metadata": {},
     "output_type": "execute_result"
    }
   ],
   "source": [
    "x*=4\n",
    "x"
   ]
  },
  {
   "cell_type": "code",
   "execution_count": null,
   "id": "f74c5da3-675c-4841-9951-421e51e629fe",
   "metadata": {},
   "outputs": [],
   "source": [
    "# Comparision Operator (<,>,<=,>=,==,!=)\n"
   ]
  },
  {
   "cell_type": "code",
   "execution_count": 36,
   "id": "997191e6-2f2f-439f-be6a-de66c9facb2c",
   "metadata": {},
   "outputs": [
    {
     "data": {
      "text/plain": [
       "False"
      ]
     },
     "execution_count": 36,
     "metadata": {},
     "output_type": "execute_result"
    }
   ],
   "source": [
    "# not equal\n",
    "4!=4"
   ]
  },
  {
   "cell_type": "code",
   "execution_count": 38,
   "id": "ad113cc7-0caf-4a21-b583-62be6b87bac4",
   "metadata": {},
   "outputs": [
    {
     "data": {
      "text/plain": [
       "False"
      ]
     },
     "execution_count": 38,
     "metadata": {},
     "output_type": "execute_result"
    }
   ],
   "source": [
    "# less than\n",
    "7<2"
   ]
  },
  {
   "cell_type": "code",
   "execution_count": 39,
   "id": "12444423-6d1b-49fe-bd54-eeff6dc90289",
   "metadata": {},
   "outputs": [
    {
     "data": {
      "text/plain": [
       "True"
      ]
     },
     "execution_count": 39,
     "metadata": {},
     "output_type": "execute_result"
    }
   ],
   "source": [
    "#greater than \n",
    "7>2\n"
   ]
  },
  {
   "cell_type": "code",
   "execution_count": 41,
   "id": "30db064d-6319-4ae2-ba00-492d79461655",
   "metadata": {},
   "outputs": [
    {
     "data": {
      "text/plain": [
       "True"
      ]
     },
     "execution_count": 41,
     "metadata": {},
     "output_type": "execute_result"
    }
   ],
   "source": [
    "#greater than or equal to \n",
    "7>=7"
   ]
  },
  {
   "cell_type": "code",
   "execution_count": 42,
   "id": "d3e5289a-0f9c-4a41-8f5f-c0b6d47670bc",
   "metadata": {},
   "outputs": [
    {
     "data": {
      "text/plain": [
       "True"
      ]
     },
     "execution_count": 42,
     "metadata": {},
     "output_type": "execute_result"
    }
   ],
   "source": [
    "#less than or equal to\n",
    "7<=10"
   ]
  },
  {
   "cell_type": "code",
   "execution_count": 50,
   "id": "42b7d10f-b70c-4dad-9eb2-926369c0f51b",
   "metadata": {},
   "outputs": [
    {
     "name": "stdout",
     "output_type": "stream",
     "text": [
      "7\n"
     ]
    }
   ],
   "source": [
    " #Logical Operator(And,Or,,Not)\n",
    "#And- Returns True if both statement are true \n",
    "a=7\n",
    "print(a)"
   ]
  },
  {
   "cell_type": "code",
   "execution_count": 51,
   "id": "c78e2e0f-3f6c-40ea-be94-378d95c0e5c5",
   "metadata": {},
   "outputs": [
    {
     "data": {
      "text/plain": [
       "True"
      ]
     },
     "execution_count": 51,
     "metadata": {},
     "output_type": "execute_result"
    }
   ],
   "source": [
    "a=7\n",
    "a>2 or  a<10"
   ]
  },
  {
   "cell_type": "code",
   "execution_count": 52,
   "id": "e5a43847-5807-4f13-b047-011e6d46fb7a",
   "metadata": {},
   "outputs": [
    {
     "data": {
      "text/plain": [
       "True"
      ]
     },
     "execution_count": 52,
     "metadata": {},
     "output_type": "execute_result"
    }
   ],
   "source": [
    "#Or - Returns True if one of the statements is true \n",
    "x=8;\n",
    "x < 5 or x < 10"
   ]
  },
  {
   "cell_type": "code",
   "execution_count": 53,
   "id": "22c8dbd9-223e-41e0-924b-3b7b835d75a0",
   "metadata": {},
   "outputs": [
    {
     "data": {
      "text/plain": [
       "True"
      ]
     },
     "execution_count": 53,
     "metadata": {},
     "output_type": "execute_result"
    }
   ],
   "source": [
    "# not- Reverse the result , returns false if the result is true \n",
    "x=6;\n",
    "not(x < 4 and x < 0)"
   ]
  },
  {
   "cell_type": "code",
   "execution_count": 55,
   "id": "956ec380-0609-45a2-a88f-2afe63262da8",
   "metadata": {},
   "outputs": [
    {
     "name": "stdout",
     "output_type": "stream",
     "text": [
      "80\n"
     ]
    }
   ],
   "source": [
    "#Identity Operator(is,is not)\n",
    "x=80\n",
    "print(x)"
   ]
  },
  {
   "cell_type": "code",
   "execution_count": 56,
   "id": "501751c1-6b8e-452b-8e23-b6d0b609b909",
   "metadata": {},
   "outputs": [
    {
     "name": "stderr",
     "output_type": "stream",
     "text": [
      "<>:1: SyntaxWarning: \"is\" with a literal. Did you mean \"==\"?\n",
      "<>:1: SyntaxWarning: \"is\" with a literal. Did you mean \"==\"?\n",
      "C:\\Users\\swopnil\\AppData\\Local\\Temp\\ipykernel_5868\\1017483954.py:1: SyntaxWarning: \"is\" with a literal. Did you mean \"==\"?\n",
      "  x is 80\n"
     ]
    },
    {
     "data": {
      "text/plain": [
       "True"
      ]
     },
     "execution_count": 56,
     "metadata": {},
     "output_type": "execute_result"
    }
   ],
   "source": [
    "x is 80"
   ]
  },
  {
   "cell_type": "code",
   "execution_count": 57,
   "id": "2b210431-6139-464b-aea5-7721e54798f7",
   "metadata": {},
   "outputs": [
    {
     "name": "stderr",
     "output_type": "stream",
     "text": [
      "<>:1: SyntaxWarning: \"is not\" with a literal. Did you mean \"!=\"?\n",
      "<>:1: SyntaxWarning: \"is not\" with a literal. Did you mean \"!=\"?\n",
      "C:\\Users\\swopnil\\AppData\\Local\\Temp\\ipykernel_5868\\2799910014.py:1: SyntaxWarning: \"is not\" with a literal. Did you mean \"!=\"?\n",
      "  x is not 80\n"
     ]
    },
    {
     "data": {
      "text/plain": [
       "False"
      ]
     },
     "execution_count": 57,
     "metadata": {},
     "output_type": "execute_result"
    }
   ],
   "source": [
    "x is not 80"
   ]
  },
  {
   "cell_type": "code",
   "execution_count": 59,
   "id": "2760ae6c-eaf3-461a-b6c6-8547ce03bd5e",
   "metadata": {},
   "outputs": [
    {
     "name": "stdout",
     "output_type": "stream",
     "text": [
      "(1, 5, 6, 80, 16, 57)\n"
     ]
    }
   ],
   "source": [
    "# Membership Operator(in,not in)\n",
    "x=(1,5,6,80,16,57)\n",
    "print(x)\n",
    "   "
   ]
  },
  {
   "cell_type": "code",
   "execution_count": 60,
   "id": "ecc19835-3fcb-48e3-aa19-800d3ddcee16",
   "metadata": {},
   "outputs": [
    {
     "data": {
      "text/plain": [
       "True"
      ]
     },
     "execution_count": 60,
     "metadata": {},
     "output_type": "execute_result"
    }
   ],
   "source": [
    "9 not in x"
   ]
  },
  {
   "cell_type": "code",
   "execution_count": 61,
   "id": "e1baaffb-12a8-4097-81e4-922c19fb8f23",
   "metadata": {},
   "outputs": [
    {
     "data": {
      "text/plain": [
       "True"
      ]
     },
     "execution_count": 61,
     "metadata": {},
     "output_type": "execute_result"
    }
   ],
   "source": [
    "5 in x"
   ]
  },
  {
   "cell_type": "code",
   "execution_count": null,
   "id": "270cd39a-dc91-4457-aebd-641acb12670d",
   "metadata": {},
   "outputs": [],
   "source": [
    "#Bitwise Operator\n",
    "x=2\n",
    "y=3"
   ]
  }
 ],
 "metadata": {
  "kernelspec": {
   "display_name": "Python 3 (ipykernel)",
   "language": "python",
   "name": "python3"
  },
  "language_info": {
   "codemirror_mode": {
    "name": "ipython",
    "version": 3
   },
   "file_extension": ".py",
   "mimetype": "text/x-python",
   "name": "python",
   "nbconvert_exporter": "python",
   "pygments_lexer": "ipython3",
   "version": "3.11.7"
  }
 },
 "nbformat": 4,
 "nbformat_minor": 5
}
