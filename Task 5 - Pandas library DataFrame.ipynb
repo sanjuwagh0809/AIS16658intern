{
 "cells": [
  {
   "cell_type": "code",
   "execution_count": null,
   "id": "43a1ae79-73b8-48bf-80f6-55801edb3b7f",
   "metadata": {},
   "outputs": [],
   "source": [
    "# What is a DataFrame?\n",
    "A Pandas DataFrame is a 2 dimensional data structure, like a 2 dimensional array, or a table with rows and columns."
   ]
  },
  {
   "cell_type": "code",
   "execution_count": 4,
   "id": "f074d0b2-f440-4b49-aeba-53d78b8638b4",
   "metadata": {},
   "outputs": [
    {
     "name": "stdout",
     "output_type": "stream",
     "text": [
      "      Name  Mark\n",
      "0  Sanjana    75\n",
      "1   Sanika    70\n",
      "2    Payal    80\n"
     ]
    }
   ],
   "source": [
    "#Create a simple Pandas DataFrame:\n",
    "import pandas as pd\n",
    "data = { \n",
    "    \"Name\" :[\"Sanjana\",\"Sanika\",\"Payal\"],\n",
    "    \"Mark\" :[75,70,80]\n",
    "}\n",
    "df = pd.DataFrame(data)\n",
    "print(df) "
   ]
  },
  {
   "cell_type": "code",
   "execution_count": 5,
   "id": "e0d3fb64-aec7-48d3-a49a-eb981f4fe065",
   "metadata": {},
   "outputs": [
    {
     "data": {
      "text/html": [
       "<div>\n",
       "<style scoped>\n",
       "    .dataframe tbody tr th:only-of-type {\n",
       "        vertical-align: middle;\n",
       "    }\n",
       "\n",
       "    .dataframe tbody tr th {\n",
       "        vertical-align: top;\n",
       "    }\n",
       "\n",
       "    .dataframe thead th {\n",
       "        text-align: right;\n",
       "    }\n",
       "</style>\n",
       "<table border=\"1\" class=\"dataframe\">\n",
       "  <thead>\n",
       "    <tr style=\"text-align: right;\">\n",
       "      <th></th>\n",
       "      <th>Sr No.</th>\n",
       "      <th>Name</th>\n",
       "      <th>City</th>\n",
       "      <th>College</th>\n",
       "    </tr>\n",
       "  </thead>\n",
       "  <tbody>\n",
       "    <tr>\n",
       "      <th>0</th>\n",
       "      <td>1</td>\n",
       "      <td>Sanjana</td>\n",
       "      <td>Baramati</td>\n",
       "      <td>VP</td>\n",
       "    </tr>\n",
       "    <tr>\n",
       "      <th>1</th>\n",
       "      <td>2</td>\n",
       "      <td>Sanika</td>\n",
       "      <td>Pune</td>\n",
       "      <td>TC</td>\n",
       "    </tr>\n",
       "    <tr>\n",
       "      <th>2</th>\n",
       "      <td>3</td>\n",
       "      <td>Pooja</td>\n",
       "      <td>Sagali</td>\n",
       "      <td>MS</td>\n",
       "    </tr>\n",
       "    <tr>\n",
       "      <th>3</th>\n",
       "      <td>4</td>\n",
       "      <td>Poonam</td>\n",
       "      <td>Satara</td>\n",
       "      <td>DY Patil</td>\n",
       "    </tr>\n",
       "    <tr>\n",
       "      <th>4</th>\n",
       "      <td>5</td>\n",
       "      <td>Arti</td>\n",
       "      <td>Indapur</td>\n",
       "      <td>MIT</td>\n",
       "    </tr>\n",
       "  </tbody>\n",
       "</table>\n",
       "</div>"
      ],
      "text/plain": [
       "   Sr No.       Name      City   College\n",
       "0        1  Sanjana   Baramati        VP\n",
       "1        2    Sanika      Pune        TC\n",
       "2        3     Pooja    Sagali        MS\n",
       "3        4    Poonam    Satara  DY Patil\n",
       "4        5      Arti   Indapur       MIT"
      ]
     },
     "execution_count": 5,
     "metadata": {},
     "output_type": "execute_result"
    }
   ],
   "source": [
    "#Load the CSV into a DataFrame:\n",
    "import pandas as pd\n",
    "df = pd.read_csv(\"list.csv\")\n",
    "df "
   ]
  },
  {
   "cell_type": "code",
   "execution_count": 12,
   "id": "6ce57aa2-07ae-4ad2-a6ad-110b6d2c6be2",
   "metadata": {},
   "outputs": [
    {
     "data": {
      "text/html": [
       "<div>\n",
       "<style scoped>\n",
       "    .dataframe tbody tr th:only-of-type {\n",
       "        vertical-align: middle;\n",
       "    }\n",
       "\n",
       "    .dataframe tbody tr th {\n",
       "        vertical-align: top;\n",
       "    }\n",
       "\n",
       "    .dataframe thead th {\n",
       "        text-align: right;\n",
       "    }\n",
       "</style>\n",
       "<table border=\"1\" class=\"dataframe\">\n",
       "  <thead>\n",
       "    <tr style=\"text-align: right;\">\n",
       "      <th></th>\n",
       "      <th>Sr No.</th>\n",
       "      <th>Name</th>\n",
       "      <th>City</th>\n",
       "      <th>Mark</th>\n",
       "    </tr>\n",
       "  </thead>\n",
       "  <tbody>\n",
       "    <tr>\n",
       "      <th>0</th>\n",
       "      <td>1</td>\n",
       "      <td>Sanjana</td>\n",
       "      <td>Pune</td>\n",
       "      <td>76</td>\n",
       "    </tr>\n",
       "    <tr>\n",
       "      <th>1</th>\n",
       "      <td>2</td>\n",
       "      <td>Payal</td>\n",
       "      <td>Baramati</td>\n",
       "      <td>78</td>\n",
       "    </tr>\n",
       "    <tr>\n",
       "      <th>2</th>\n",
       "      <td>3</td>\n",
       "      <td>Pooja</td>\n",
       "      <td>Satara</td>\n",
       "      <td>91</td>\n",
       "    </tr>\n",
       "    <tr>\n",
       "      <th>3</th>\n",
       "      <td>4</td>\n",
       "      <td>Sanika</td>\n",
       "      <td>Sagali</td>\n",
       "      <td>80</td>\n",
       "    </tr>\n",
       "    <tr>\n",
       "      <th>4</th>\n",
       "      <td>5</td>\n",
       "      <td>Poonam</td>\n",
       "      <td>Indapur</td>\n",
       "      <td>68</td>\n",
       "    </tr>\n",
       "  </tbody>\n",
       "</table>\n",
       "</div>"
      ],
      "text/plain": [
       "   Sr No.      Name      City  Mark\n",
       "0        1  Sanjana      Pune    76\n",
       "1        2    Payal  Baramati    78\n",
       "2        3    Pooja    Satara    91\n",
       "3        4   Sanika    Sagali    80\n",
       "4        5   Poonam   Indapur    68"
      ]
     },
     "execution_count": 12,
     "metadata": {},
     "output_type": "execute_result"
    }
   ],
   "source": [
    "import pandas as pd\n",
    "df = pd.read_excel(\"C://Users//swopnil//Desktop//data.xlsx\")\n",
    "df "
   ]
  },
  {
   "cell_type": "code",
   "execution_count": null,
   "id": "0f220127-3a5e-4feb-ace6-aac9c52d28c9",
   "metadata": {},
   "outputs": [],
   "source": [
    "# DataFrame Create using : Matrix"
   ]
  },
  {
   "cell_type": "code",
   "execution_count": 4,
   "id": "1a7d29f0-468c-4035-8804-2f20d782bfa0",
   "metadata": {},
   "outputs": [
    {
     "name": "stdout",
     "output_type": "stream",
     "text": [
      "   column1  column2  column3\n",
      "0        1        2        3\n",
      "1        4        5        6\n",
      "2        7        8        9\n"
     ]
    }
   ],
   "source": [
    "import pandas as pd\n",
    "#matrix (list of lists)\n",
    "matrix = [ \n",
    "    [1,2,3],\n",
    "    [4,5,6],\n",
    "    [7,8,9]\n",
    "]\n",
    "# create DataFrame\n",
    "df = pd.DataFrame(matrix,columns=[\"column1\",\"column2\",\"column3\"])\n",
    "print(df)"
   ]
  },
  {
   "cell_type": "code",
   "execution_count": 5,
   "id": "11695845-6dd8-477c-b1dc-18b27a757420",
   "metadata": {},
   "outputs": [
    {
     "name": "stdout",
     "output_type": "stream",
     "text": [
      "      Name  Age      City\n",
      "0  Sanjana   22  Baramati\n",
      "1    Pooja   23   Bhigwan\n",
      "2   Sarita   25      Pune\n",
      "3    Arati   30    Sagali\n"
     ]
    }
   ],
   "source": [
    "# DataFrame Create using : Dictionary\n",
    "import pandas as pd\n",
    "data = { \n",
    "    \"Name\":[\"Sanjana\",\"Pooja\",\"Sarita\",\"Arati\"],\n",
    "    \"Age\":[22,23,25,30],\n",
    "    \"City\":[\"Baramati\",\"Bhigwan\",\"Pune\",\"Sagali\"]\n",
    "}\n",
    "# Create a DataFrame\n",
    "df = pd.DataFrame(data)\n",
    "print(df)\n"
   ]
  },
  {
   "cell_type": "code",
   "execution_count": null,
   "id": "def5198c-0d9f-4617-ab51-c87708044d4a",
   "metadata": {},
   "outputs": [],
   "source": []
  }
 ],
 "metadata": {
  "kernelspec": {
   "display_name": "Python 3 (ipykernel)",
   "language": "python",
   "name": "python3"
  },
  "language_info": {
   "codemirror_mode": {
    "name": "ipython",
    "version": 3
   },
   "file_extension": ".py",
   "mimetype": "text/x-python",
   "name": "python",
   "nbconvert_exporter": "python",
   "pygments_lexer": "ipython3",
   "version": "3.11.7"
  }
 },
 "nbformat": 4,
 "nbformat_minor": 5
}
