{
 "cells": [
  {
   "cell_type": "markdown",
   "id": "d4c9adab-efee-461b-bfc1-7a9f75dc95e6",
   "metadata": {},
   "source": [
    "#Pass Statement\n",
    "The pass statement in python is a null operation it is used as a placeholder in code where a statement is synatactically required but you don't want to exectue any code. It's useful in situations like creating empty classes or functions, or during development when you plan to implement functionality later."
   ]
  },
  {
   "cell_type": "code",
   "execution_count": 4,
   "id": "c63c781a-b615-473e-824b-f58a84ef91bd",
   "metadata": {},
   "outputs": [
    {
     "name": "stdout",
     "output_type": "stream",
     "text": [
      "1\n",
      "3\n",
      "5\n",
      "7\n",
      "9\n"
     ]
    }
   ],
   "source": [
    "for i in range (10):\n",
    "    if i % 2 == 0:\n",
    "        pass\n",
    "    else:\n",
    "        print(i)"
   ]
  },
  {
   "cell_type": "code",
   "execution_count": 6,
   "id": "24544d95-4a2b-4e77-9169-9d48131837a2",
   "metadata": {},
   "outputs": [
    {
     "name": "stdout",
     "output_type": "stream",
     "text": [
      "36\n",
      "fail\n",
      "20\n",
      "80\n",
      "fail\n",
      "19\n"
     ]
    }
   ],
   "source": [
    "M = [36,20,80,19]\n",
    "for i in M :\n",
    "    if i <35:\n",
    "        pass\n",
    "        print(\"fail\")\n",
    "    print(i)"
   ]
  },
  {
   "cell_type": "code",
   "execution_count": 15,
   "id": "a3b713e2-74d7-417e-b4b8-752311b1fc57",
   "metadata": {},
   "outputs": [
    {
     "name": "stdin",
     "output_type": "stream",
     "text": [
      "enter value 4\n"
     ]
    },
    {
     "name": "stdout",
     "output_type": "stream",
     "text": [
      "x is less than or equal to 5\n",
      "4\n"
     ]
    }
   ],
   "source": [
    "x = int(input(\"enter value\"))\n",
    "if x>5 :\n",
    "    pass\n",
    "else :\n",
    "    print(\"x is less than or equal to 5\")\n",
    "print(x)"
   ]
  },
  {
   "cell_type": "code",
   "execution_count": null,
   "id": "45d33343-9312-4ff5-85a3-da19428c060b",
   "metadata": {},
   "outputs": [],
   "source": []
  },
  {
   "cell_type": "code",
   "execution_count": null,
   "id": "630e91c6-7cfe-4781-941a-d6a0c9ef6475",
   "metadata": {},
   "outputs": [],
   "source": []
  }
 ],
 "metadata": {
  "kernelspec": {
   "display_name": "Python 3 (ipykernel)",
   "language": "python",
   "name": "python3"
  },
  "language_info": {
   "codemirror_mode": {
    "name": "ipython",
    "version": 3
   },
   "file_extension": ".py",
   "mimetype": "text/x-python",
   "name": "python",
   "nbconvert_exporter": "python",
   "pygments_lexer": "ipython3",
   "version": "3.11.7"
  }
 },
 "nbformat": 4,
 "nbformat_minor": 5
}
