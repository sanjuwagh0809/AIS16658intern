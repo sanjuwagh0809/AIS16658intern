{
 "cells": [
  {
   "cell_type": "markdown",
   "id": "d6d76ea2-63c5-47a0-b33c-584378b2016b",
   "metadata": {},
   "source": [
    "# Set\n",
    "A set is an unordered collection of unique elements. It is represented using curly braces {} with values separated by commas inside.\n"
   ]
  },
  {
   "cell_type": "code",
   "execution_count": 6,
   "id": "54779b11-f2e7-446a-b288-4c946e07c12b",
   "metadata": {},
   "outputs": [
    {
     "name": "stdout",
     "output_type": "stream",
     "text": [
      "{10, 14.7, 'True', 'ankita'}\n"
     ]
    }
   ],
   "source": [
    "#Create a Set(all types of values):\n",
    "var= {10,\"ankita\",14.7,\"True\"}\n",
    "print(var)"
   ]
  },
  {
   "cell_type": "code",
   "execution_count": 7,
   "id": "09aa97e5-9a90-4cac-8bb5-8bfcd0bb49f3",
   "metadata": {},
   "outputs": [
    {
     "name": "stdout",
     "output_type": "stream",
     "text": [
      "<class 'set'>\n"
     ]
    }
   ],
   "source": [
    "# Data type \n",
    "print(type(var))\n"
   ]
  },
  {
   "cell_type": "code",
   "execution_count": 21,
   "id": "a03cf017-ca3b-4448-b072-262f473573f3",
   "metadata": {},
   "outputs": [
    {
     "name": "stdout",
     "output_type": "stream",
     "text": [
      "4\n",
      "{3, 11, 'age', 'learn coding', 'Pen'}\n"
     ]
    }
   ],
   "source": [
    "#the number of items in a set\n",
    "print(len(var))"
   ]
  },
  {
   "cell_type": "code",
   "execution_count": 15,
   "id": "1b9538d7-ea85-4c58-9abb-98ab429e0e8f",
   "metadata": {},
   "outputs": [
    {
     "name": "stdout",
     "output_type": "stream",
     "text": [
      "{'True', 'learn coding', 10, 14.7, 'ankita', 30}\n"
     ]
    }
   ],
   "source": [
    "#add variable(one value add in set then use)\n",
    "var.add (\"learn coding\")\n",
    "print(var)"
   ]
  },
  {
   "cell_type": "code",
   "execution_count": 13,
   "id": "5c3b8891-8db9-4cf2-b73f-f5cad6115ed4",
   "metadata": {},
   "outputs": [
    {
     "name": "stdout",
     "output_type": "stream",
     "text": [
      "{'True', 'learn coding', 10, 14.7, 'ankita', 30}\n"
     ]
    }
   ],
   "source": [
    "#update variable(one or more values add in set then use)\n",
    "var= {10,\"ankita\",14.7,\"True\"}\n",
    "var.update(['learn coding',30])\n",
    "print(var)"
   ]
  },
  {
   "cell_type": "code",
   "execution_count": 18,
   "id": "2f230abb-3168-43e0-b640-21790311893e",
   "metadata": {},
   "outputs": [
    {
     "name": "stdout",
     "output_type": "stream",
     "text": [
      "{'age', 11, 3, 'Pen'}\n"
     ]
    }
   ],
   "source": [
    "#Duplicate values will be ignored\n",
    "var={11,\"age\",11,\"Pen\",3}\n",
    "print(var)"
   ]
  },
  {
   "cell_type": "code",
   "execution_count": 19,
   "id": "ceb301a0-3176-4aa5-8384-41ed8daa6984",
   "metadata": {},
   "outputs": [
    {
     "name": "stdout",
     "output_type": "stream",
     "text": [
      "{3, 100, 11, 12.6, 'age', 'pen', 'Pen'}\n"
     ]
    }
   ],
   "source": [
    "#Mathematics\n",
    "#union\n",
    "var1={11,\"#age\",11,\"Pen\",3}\n",
    "var2={\"age\",3,\"pen\",100,12.6}\n",
    "print(var1.union(var2))"
   ]
  },
  {
   "cell_type": "code",
   "execution_count": null,
   "id": "b52b8387-10ee-414f-9383-38ee06b885b4",
   "metadata": {},
   "outputs": [],
   "source": []
  },
  {
   "cell_type": "code",
   "execution_count": 24,
   "id": "b0b2e937-eadb-4315-a06b-0889fb0e7029",
   "metadata": {},
   "outputs": [
    {
     "name": "stdout",
     "output_type": "stream",
     "text": [
      "{'age', 3}\n"
     ]
    }
   ],
   "source": [
    "#Intersection \n",
    "print(var1.intersection(var2))"
   ]
  },
  {
   "cell_type": "code",
   "execution_count": 2,
   "id": "9b6872b4-068f-495d-99a4-0b58d03e9ba6",
   "metadata": {},
   "outputs": [
    {
     "name": "stdout",
     "output_type": "stream",
     "text": [
      "{100, 30}\n"
     ]
    }
   ],
   "source": [
    "#differences\n",
    "var1={10,\"sanika\",54.7,100,30}\n",
    "var2={54.7,\"sanika\",10,60}\n",
    "print(var1.difference(var2))"
   ]
  },
  {
   "cell_type": "code",
   "execution_count": 6,
   "id": "8fa5168f-38b9-4dc2-ae07-ddb8cb142986",
   "metadata": {},
   "outputs": [
    {
     "name": "stdout",
     "output_type": "stream",
     "text": [
      "{100, 60, 30}\n"
     ]
    }
   ],
   "source": [
    "# symmetric differences\n",
    "print(var1.symmetric_difference(var2))"
   ]
  },
  {
   "cell_type": "code",
   "execution_count": 17,
   "id": "ebff222e-b50b-4706-9ba2-d7a26a0d9111",
   "metadata": {},
   "outputs": [
    {
     "name": "stdout",
     "output_type": "stream",
     "text": [
      "10\n",
      "True\n",
      "{14.7, 'ankita'}\n"
     ]
    }
   ],
   "source": [
    "#Pop\n",
    "var= {10,\"ankita\",14.7,\"True\"}\n",
    "print(var.pop())\n",
    "print(var.pop())\n",
    "print (var)"
   ]
  },
  {
   "cell_type": "code",
   "execution_count": 18,
   "id": "2c2dc626-18d4-4729-837b-088527078709",
   "metadata": {},
   "outputs": [
    {
     "name": "stdout",
     "output_type": "stream",
     "text": [
      "{10, 'True', 14.7}\n"
     ]
    }
   ],
   "source": [
    "# remove\n",
    "var= {10,\"ankita\",14.7,\"True\"}\n",
    "var.remove(\"ankita\")\n",
    "print(var)"
   ]
  },
  {
   "cell_type": "code",
   "execution_count": 19,
   "id": "bf13af1c-c5bc-47d3-b9b2-85467ca26da7",
   "metadata": {},
   "outputs": [
    {
     "name": "stdout",
     "output_type": "stream",
     "text": [
      "set()\n"
     ]
    }
   ],
   "source": [
    "# clear \n",
    "var= {10,\"ankita\",14.7,\"True\"}\n",
    "var.clear()\n",
    "print(var)\n"
   ]
  },
  {
   "cell_type": "code",
   "execution_count": null,
   "id": "d0ec0d94-5c69-44bf-9f1d-9c10c4c333ec",
   "metadata": {},
   "outputs": [],
   "source": []
  }
 ],
 "metadata": {
  "kernelspec": {
   "display_name": "Python 3 (ipykernel)",
   "language": "python",
   "name": "python3"
  },
  "language_info": {
   "codemirror_mode": {
    "name": "ipython",
    "version": 3
   },
   "file_extension": ".py",
   "mimetype": "text/x-python",
   "name": "python",
   "nbconvert_exporter": "python",
   "pygments_lexer": "ipython3",
   "version": "3.11.7"
  }
 },
 "nbformat": 4,
 "nbformat_minor": 5
}
