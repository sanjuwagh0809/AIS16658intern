{
 "cells": [
  {
   "cell_type": "markdown",
   "id": "ab588ebb-8e44-4dd5-8c75-adf07188fd20",
   "metadata": {},
   "source": [
    "# Statistical user define function ."
   ]
  },
  {
   "cell_type": "code",
   "execution_count": 2,
   "id": "8be2fb93-7617-4bd8-ae19-792717609944",
   "metadata": {},
   "outputs": [
    {
     "name": "stdout",
     "output_type": "stream",
     "text": [
      "Mean: 33\n"
     ]
    }
   ],
   "source": [
    "# Mean\n",
    "import statistics\n",
    "def calculate_mean(data):\n",
    "    return statistics.mean(data)\n",
    "data = [11,22,33,44,55]\n",
    "mean_value = calculate_mean(data)\n",
    "print(\"Mean:\",mean_value)"
   ]
  },
  {
   "cell_type": "code",
   "execution_count": 4,
   "id": "b0f89a76-7830-4755-8675-ea9214c7b52f",
   "metadata": {},
   "outputs": [
    {
     "name": "stdout",
     "output_type": "stream",
     "text": [
      "Median: 38.5\n"
     ]
    }
   ],
   "source": [
    "# Meadian\n",
    "import statistics\n",
    "def calculate_median(data):\n",
    "    return statistics.mean(data)\n",
    "data =[11,22,33,44,55,66]\n",
    "median_value = calculate_median(data)\n",
    "print(\"Median:\",median_value)"
   ]
  },
  {
   "cell_type": "code",
   "execution_count": 5,
   "id": "37878a55-0fac-45ed-af96-a71cd9cd4a65",
   "metadata": {},
   "outputs": [
    {
     "name": "stdout",
     "output_type": "stream",
     "text": [
      "standard_deviation: 20.579115627256677\n"
     ]
    }
   ],
   "source": [
    "# standard Deviation\n",
    "import statistics\n",
    "def calculate_std_deviation(data):\n",
    "    return statistics.stdev(data)\n",
    "data = [11,22,33,44,55,66]\n",
    "std_dev =calculate_std_deviation(data)\n",
    "print(\"standard_deviation:\",std_dev)"
   ]
  },
  {
   "cell_type": "code",
   "execution_count": 6,
   "id": "d653f47d-b637-4828-9de3-763abb9d1b91",
   "metadata": {},
   "outputs": [
    {
     "name": "stdout",
     "output_type": "stream",
     "text": [
      "variance: 423.5\n"
     ]
    }
   ],
   "source": [
    "# Variance:\n",
    "import statistics\n",
    "def calculate_variance(data):\n",
    "        return statistics.variance(data)\n",
    "data = [11,22,33,44,55,66]\n",
    "var = calculate_variance(data)\n",
    "print(\"variance:\",var)"
   ]
  },
  {
   "cell_type": "code",
   "execution_count": 20,
   "id": "c871bd13-5a91-4676-825e-4c2ff80ff224",
   "metadata": {},
   "outputs": [
    {
     "name": "stdout",
     "output_type": "stream",
     "text": [
      "Quartiles: [20. 30. 40.]\n"
     ]
    }
   ],
   "source": [
    "# quartiles\n",
    "def calculate_quartiles(data):\n",
    "    return np.percentile(data,[25,50,75])\n",
    "data = [10,20,30,40,50]\n",
    "quartiles = calculate_quartiles(data)\n",
    "print(\"Quartiles:\",quartiles)"
   ]
  },
  {
   "cell_type": "code",
   "execution_count": 8,
   "id": "83f25cb2-f129-4d0b-872d-17c59c7ae192",
   "metadata": {},
   "outputs": [
    {
     "name": "stdout",
     "output_type": "stream",
     "text": [
      " Mode: 11\n"
     ]
    }
   ],
   "source": [
    "# Mode\n",
    "import statistics\n",
    "def calculate_mode(data):\n",
    "    return statistics.mode(data)\n",
    "data = [11,22,33,44,11,22,55,66,11,77,11]\n",
    "mode_value = calculate_mode(data)\n",
    "print(\" Mode:\",mode_value)"
   ]
  },
  {
   "cell_type": "code",
   "execution_count": 9,
   "id": "9d050f88-820d-4896-8426-8382be8a0bc0",
   "metadata": {},
   "outputs": [
    {
     "name": "stdout",
     "output_type": "stream",
     "text": [
      "Range: 55\n"
     ]
    }
   ],
   "source": [
    "# Range\n",
    "def calculate_range(data):\n",
    "    return max(data)-min(data)\n",
    "data = [11,22,33,44,55,66]\n",
    "range_value = calculate_range(data)\n",
    "print(\"Range:\",range_value)"
   ]
  },
  {
   "cell_type": "code",
   "execution_count": 11,
   "id": "1878d3da-1bd5-4a23-bb9b-a7ccc9e41d05",
   "metadata": {},
   "outputs": [
    {
     "name": "stdout",
     "output_type": "stream",
     "text": [
      "Interquartile Range(IQR): 44.0\n"
     ]
    }
   ],
   "source": [
    "# Interquartile Range\n",
    "import numpy as np\n",
    "def calculate_iqr(data):\n",
    "    q1,q3= np.percentile(data,[25,75])\n",
    "    return q3-q1\n",
    "data = [11,22,33,44,55,66,77,88,99]\n",
    "iqr_value = calculate_iqr(data)\n",
    "print(\"Interquartile Range(IQR):\",iqr_value)    "
   ]
  },
  {
   "cell_type": "code",
   "execution_count": 14,
   "id": "b5956e44-ecd1-4a7e-a4a1-b742afe4c389",
   "metadata": {},
   "outputs": [
    {
     "name": "stdout",
     "output_type": "stream",
     "text": [
      "skewness: 0.0\n"
     ]
    }
   ],
   "source": [
    "# skewness \n",
    "from scipy.stats import skew\n",
    "def calculate_skewness(data):\n",
    "    return skew(data)\n",
    "data = [10,20,30,40,50]\n",
    "skewness_value = calculate_skewness(data)\n",
    "print(\"skewness:\",skewness_value)"
   ]
  },
  {
   "cell_type": "code",
   "execution_count": 19,
   "id": "06e87cbc-4219-4d82-9f3c-22fa2fbfc744",
   "metadata": {},
   "outputs": [
    {
     "name": "stdout",
     "output_type": "stream",
     "text": [
      "kurtosis: -1.3\n"
     ]
    }
   ],
   "source": [
    "# Kurtosis\n",
    "from scipy.stats import kurtosis\n",
    "def calculate_kurtosis(data):\n",
    "    return kurtosis(data)\n",
    "data = [10,20,30,40,50]\n",
    "kurtosis_value = calculate_kurtosis(data)\n",
    "print(\"kurtosis:\",kurtosis_value)\n",
    "\n",
    "    "
   ]
  },
  {
   "cell_type": "code",
   "execution_count": null,
   "id": "2ff544cf-cbb3-41b0-921b-d15960a2879c",
   "metadata": {},
   "outputs": [],
   "source": []
  }
 ],
 "metadata": {
  "kernelspec": {
   "display_name": "Python 3 (ipykernel)",
   "language": "python",
   "name": "python3"
  },
  "language_info": {
   "codemirror_mode": {
    "name": "ipython",
    "version": 3
   },
   "file_extension": ".py",
   "mimetype": "text/x-python",
   "name": "python",
   "nbconvert_exporter": "python",
   "pygments_lexer": "ipython3",
   "version": "3.11.7"
  }
 },
 "nbformat": 4,
 "nbformat_minor": 5
}
