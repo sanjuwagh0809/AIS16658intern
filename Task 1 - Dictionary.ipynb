{
 "cells": [
  {
   "cell_type": "markdown",
   "id": "b60a91db-5f0d-4887-a9a9-4f17896f474d",
   "metadata": {},
   "source": [
    "# Dictionary \n",
    "dictionary is a data structure in which we represent a group of object as key value pair "
   ]
  },
  {
   "cell_type": "code",
   "execution_count": 8,
   "id": "663498f7-397c-49a7-96b0-455a6fc9fa9e",
   "metadata": {},
   "outputs": [
    {
     "name": "stdout",
     "output_type": "stream",
     "text": [
      "{'Name': 'sanika', 'age': 21}\n"
     ]
    }
   ],
   "source": [
    "var={'Name':\"sanika\",\"age\":21}\n",
    "print(var)\n"
   ]
  },
  {
   "cell_type": "code",
   "execution_count": 11,
   "id": "670eaca0-27c0-487d-8db6-7c004a5c05df",
   "metadata": {},
   "outputs": [
    {
     "name": "stdout",
     "output_type": "stream",
     "text": [
      "<class 'dict'>\n"
     ]
    }
   ],
   "source": [
    "print(type(var))"
   ]
  },
  {
   "cell_type": "code",
   "execution_count": 14,
   "id": "718755d1-ea60-4bb2-bd26-b870f2b119df",
   "metadata": {},
   "outputs": [
    {
     "name": "stdout",
     "output_type": "stream",
     "text": [
      "sanika\n"
     ]
    }
   ],
   "source": [
    "print(var['Name'])"
   ]
  },
  {
   "cell_type": "code",
   "execution_count": 15,
   "id": "73010c61-cc9c-4b56-981b-3a84ab847730",
   "metadata": {},
   "outputs": [
    {
     "name": "stdout",
     "output_type": "stream",
     "text": [
      "21\n"
     ]
    }
   ],
   "source": [
    "print(var['age'])"
   ]
  },
  {
   "cell_type": "code",
   "execution_count": 22,
   "id": "6069b832-140e-4594-b2a2-1a959025f48e",
   "metadata": {},
   "outputs": [
    {
     "name": "stdout",
     "output_type": "stream",
     "text": [
      "{'Name': 'sonali', 'age': 21, 'password': 'sanu123'}\n"
     ]
    }
   ],
   "source": [
    "#pop\n",
    "var={\"Name\":\"sanika\",\"age\":21,\"Name\":\"sonali\",\"password\":\"sanu123\"}\n",
    "print(var)"
   ]
  },
  {
   "cell_type": "code",
   "execution_count": 23,
   "id": "51a1e8f6-7969-40ff-903d-5a507c3f013f",
   "metadata": {},
   "outputs": [
    {
     "name": "stdout",
     "output_type": "stream",
     "text": [
      "{'age': 21, 'password': 'sanu123'}\n"
     ]
    }
   ],
   "source": [
    "var.pop('Name')\n",
    "print(var)"
   ]
  },
  {
   "cell_type": "code",
   "execution_count": 25,
   "id": "18e9e971-f9a1-4490-9c12-1391e35e858d",
   "metadata": {},
   "outputs": [
    {
     "name": "stdout",
     "output_type": "stream",
     "text": [
      "sanu123\n"
     ]
    }
   ],
   "source": [
    "#get(key value showes)\n",
    "print(var.get(\"password\"))"
   ]
  },
  {
   "cell_type": "code",
   "execution_count": 26,
   "id": "aada5471-6d19-4e3b-8d38-656bd2ee8b5f",
   "metadata": {},
   "outputs": [
    {
     "name": "stdout",
     "output_type": "stream",
     "text": [
      "{}\n"
     ]
    }
   ],
   "source": [
    "#clear\n",
    "var.clear()\n",
    "print(var)"
   ]
  },
  {
   "cell_type": "code",
   "execution_count": 33,
   "id": "480a0df5-1372-40f4-aa23-eebacfd39976",
   "metadata": {},
   "outputs": [
    {
     "name": "stdout",
     "output_type": "stream",
     "text": [
      "dict_values(['sanika', 21])\n"
     ]
    }
   ],
   "source": [
    "#values\n",
    "print(var.values())"
   ]
  },
  {
   "cell_type": "code",
   "execution_count": null,
   "id": "a86ce9a5-a0ce-4b2c-9715-423173e8dd28",
   "metadata": {},
   "outputs": [],
   "source": []
  },
  {
   "cell_type": "code",
   "execution_count": 34,
   "id": "ce831b97-7452-491f-83b9-afea2f029688",
   "metadata": {},
   "outputs": [
    {
     "name": "stdout",
     "output_type": "stream",
     "text": [
      "dict_items([('Name', 'sanika'), ('age', 21)])\n"
     ]
    }
   ],
   "source": [
    "#items\n",
    "print(var.items())"
   ]
  },
  {
   "cell_type": "code",
   "execution_count": null,
   "id": "bea10e74-a946-4da6-ad6a-ced341b0e0b1",
   "metadata": {},
   "outputs": [],
   "source": []
  }
 ],
 "metadata": {
  "kernelspec": {
   "display_name": "Python 3 (ipykernel)",
   "language": "python",
   "name": "python3"
  },
  "language_info": {
   "codemirror_mode": {
    "name": "ipython",
    "version": 3
   },
   "file_extension": ".py",
   "mimetype": "text/x-python",
   "name": "python",
   "nbconvert_exporter": "python",
   "pygments_lexer": "ipython3",
   "version": "3.11.7"
  }
 },
 "nbformat": 4,
 "nbformat_minor": 5
}
