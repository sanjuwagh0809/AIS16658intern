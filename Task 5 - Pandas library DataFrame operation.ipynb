{
 "cells": [
  {
   "cell_type": "code",
   "execution_count": 11,
   "id": "15570336-f882-4a1f-a136-07c7ae455cac",
   "metadata": {},
   "outputs": [
    {
     "name": "stdout",
     "output_type": "stream",
     "text": [
      "count of each value in column 'A':\n",
      "A\n",
      "5    3\n",
      "2    2\n",
      "4    2\n",
      "1    1\n",
      "3    1\n",
      "Name: count, dtype: int64\n"
     ]
    }
   ],
   "source": [
    "# DataFrame operation\n",
    "import pandas as pd\n",
    "# creare a sample Dataframe\n",
    "data={\n",
    "    \"A\" :[1,2,2,3,4,4,5,5,5],\n",
    "    \"B\":[\"foo\",\"bar\",\"foo\",\"bar\",\"foo\",\"bar\",\"foo\",\"bar\",\"foo\"]\n",
    "}\n",
    "df =pd.DataFrame(data)\n",
    "#count occurance of each value in column 'A'\n",
    "count_A=df[\"A\"].value_counts()\n",
    "print(\"count of each value in column 'A':\")\n",
    "print(count_A)"
   ]
  },
  {
   "cell_type": "code",
   "execution_count": 6,
   "id": "ecca73f8-9ab8-427d-80b4-8f9e77850e01",
   "metadata": {},
   "outputs": [
    {
     "name": "stdout",
     "output_type": "stream",
     "text": [
      "\n",
      "DataFrame with 'A_squared':\n",
      "   A    b  A_squared\n",
      "0  1  foo          1\n",
      "1  2  bar          4\n",
      "2  2  foo          4\n",
      "3  3  bar          9\n",
      "4  4  foo         16\n",
      "5  4  bar         16\n",
      "6  5  foo         25\n",
      "7  5  bar         25\n",
      "8  5  foo         25\n"
     ]
    }
   ],
   "source": [
    "# Apply function to column 'A'(e.g square each value)\n",
    "df['A_squared'] = df['A'].apply(lambda x:x**2)\n",
    "print(\"\\nDataFrame with 'A_squared':\")\n",
    "print(df)"
   ]
  },
  {
   "cell_type": "code",
   "execution_count": 12,
   "id": "9dfc254c-0d00-4181-8d7f-1d1f42ea7175",
   "metadata": {},
   "outputs": [
    {
     "name": "stdout",
     "output_type": "stream",
     "text": [
      "\n",
      "unique values in column 'B':\n",
      "['foo' 'bar']\n"
     ]
    }
   ],
   "source": [
    "# Find unique value in column 'B'\n",
    "unique_B = df['B'].unique()\n",
    "print(\"\\nunique values in column 'B':\")\n",
    "print(unique_B)"
   ]
  },
  {
   "cell_type": "code",
   "execution_count": 14,
   "id": "607db8d8-915e-4aea-bbf5-001a1d1a96d5",
   "metadata": {},
   "outputs": [
    {
     "name": "stdout",
     "output_type": "stream",
     "text": [
      "\\,Count of unique values in column'B':\n",
      "2\n"
     ]
    }
   ],
   "source": [
    "# Count unique values in column 'B'\n",
    "unique_count_B = df['B'].nunique()\n",
    "print(\"\\,Count of unique values in column'B':\")\n",
    "print(unique_count_B)"
   ]
  },
  {
   "cell_type": "raw",
   "id": "f31d2e2f-21a6-43f3-a668-8937a32aab19",
   "metadata": {},
   "source": []
  },
  {
   "cell_type": "code",
   "execution_count": 19,
   "id": "e2ba4595-8c12-4fce-b483-6ba58ac06db8",
   "metadata": {},
   "outputs": [
    {
     "name": "stdout",
     "output_type": "stream",
     "text": [
      "   A    B\n",
      "0  1  foo\n",
      "1  2  bar\n",
      "2  2  foo\n",
      "3  3  bar\n",
      "4  4  foo\n"
     ]
    }
   ],
   "source": [
    "print(df.head())"
   ]
  },
  {
   "cell_type": "code",
   "execution_count": 16,
   "id": "544724bc-0462-4dcb-a2c5-4be48de89c9b",
   "metadata": {},
   "outputs": [
    {
     "name": "stdout",
     "output_type": "stream",
     "text": [
      "   A    B\n",
      "4  4  foo\n",
      "5  4  bar\n",
      "6  5  foo\n",
      "7  5  bar\n",
      "8  5  foo\n"
     ]
    }
   ],
   "source": [
    "print(df.tail())"
   ]
  },
  {
   "cell_type": "code",
   "execution_count": 17,
   "id": "f45eb577-15d6-4d5f-8100-bb455f715c33",
   "metadata": {},
   "outputs": [
    {
     "name": "stdout",
     "output_type": "stream",
     "text": [
      "<class 'pandas.core.frame.DataFrame'>\n",
      "RangeIndex: 9 entries, 0 to 8\n",
      "Data columns (total 2 columns):\n",
      " #   Column  Non-Null Count  Dtype \n",
      "---  ------  --------------  ----- \n",
      " 0   A       9 non-null      int64 \n",
      " 1   B       9 non-null      object\n",
      "dtypes: int64(1), object(1)\n",
      "memory usage: 276.0+ bytes\n",
      "None\n"
     ]
    }
   ],
   "source": [
    "print(df.info())"
   ]
  },
  {
   "cell_type": "code",
   "execution_count": 18,
   "id": "7e96cd95-dccc-4983-b94b-f71ba7864019",
   "metadata": {},
   "outputs": [
    {
     "name": "stdout",
     "output_type": "stream",
     "text": [
      "              A\n",
      "count  9.000000\n",
      "mean   3.444444\n",
      "std    1.509231\n",
      "min    1.000000\n",
      "25%    2.000000\n",
      "50%    4.000000\n",
      "75%    5.000000\n",
      "max    5.000000\n"
     ]
    }
   ],
   "source": [
    "print(df.describe())"
   ]
  },
  {
   "cell_type": "code",
   "execution_count": null,
   "id": "1374e4c2-6340-4dc9-a5bb-370295b6c9dd",
   "metadata": {},
   "outputs": [],
   "source": []
  }
 ],
 "metadata": {
  "kernelspec": {
   "display_name": "Python 3 (ipykernel)",
   "language": "python",
   "name": "python3"
  },
  "language_info": {
   "codemirror_mode": {
    "name": "ipython",
    "version": 3
   },
   "file_extension": ".py",
   "mimetype": "text/x-python",
   "name": "python",
   "nbconvert_exporter": "python",
   "pygments_lexer": "ipython3",
   "version": "3.11.7"
  }
 },
 "nbformat": 4,
 "nbformat_minor": 5
}
